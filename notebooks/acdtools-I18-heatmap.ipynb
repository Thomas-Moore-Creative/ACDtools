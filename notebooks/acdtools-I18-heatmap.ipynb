{
 "cells": [
  {
   "cell_type": "markdown",
   "id": "2bbcce82-88b9-4dc3-81f7-305710b84adf",
   "metadata": {},
   "source": [
    "# ACDtools issue 18 - heat map plotting function"
   ]
  },
  {
   "cell_type": "markdown",
   "id": "444db49f-f4c2-4d6c-a5bf-83576d2f5c9a",
   "metadata": {},
   "source": [
    "#### Date: 12 March, 2025\n",
    "##### https://github.com/Thomas-Moore-Creative/ACDtools/issues/18"
   ]
  },
  {
   "cell_type": "markdown",
   "id": "a0158574-20a2-4c25-bf47-f384dbb80648",
   "metadata": {},
   "source": [
    "Author = {\"name\": \"Thomas Moore\", \"affiliation\": \"CSIRO\", \"email\": \"thomas.moore@csiro.au\", \"orcid\": \"0000-0003-3930-1946\"}"
   ]
  },
  {
   "cell_type": "markdown",
   "id": "c2899b25-cc56-44c1-9140-48169824c5bf",
   "metadata": {},
   "source": [
    "# Install ACDtools locally"
   ]
  },
  {
   "cell_type": "code",
   "execution_count": 1,
   "id": "57562294-57e8-4ce7-b129-8ebf86b2fac0",
   "metadata": {},
   "outputs": [
    {
     "name": "stdout",
     "output_type": "stream",
     "text": [
      "Obtaining file:///g/data/es60/users/thomas_moore/code/ACDtools\n",
      "  Installing build dependencies ... \u001b[?25ldone\n",
      "\u001b[?25h  Checking if build backend supports build_editable ... \u001b[?25ldone\n",
      "\u001b[?25h  Getting requirements to build editable ... \u001b[?25ldone\n",
      "\u001b[?25h  Preparing editable metadata (pyproject.toml) ... \u001b[?25ldone\n",
      "\u001b[?25hBuilding wheels for collected packages: ACDtools\n",
      "  Building editable for ACDtools (pyproject.toml) ... \u001b[?25ldone\n",
      "\u001b[?25h  Created wheel for ACDtools: filename=acdtools-0.1-0.editable-py3-none-any.whl size=3516 sha256=838943992d11b35cb44c590b806b1ccec8cc498f6ed8b94b6343bcebddff9f8c\n",
      "  Stored in directory: /jobfs/136902454.gadi-pbs/pip-ephem-wheel-cache-9qbj9bth/wheels/b6/a3/f2/6ce45fbdc116ad50e421d6a11cb060cc796e867501807af446\n",
      "Successfully built ACDtools\n",
      "Installing collected packages: ACDtools\n",
      "  Attempting uninstall: ACDtools\n",
      "    Found existing installation: ACDtools 0.1\n",
      "    Uninstalling ACDtools-0.1:\n",
      "      Successfully uninstalled ACDtools-0.1\n",
      "Successfully installed ACDtools-0.1\n"
     ]
    }
   ],
   "source": [
    "# this needs to be set via a custom edit per user at the moment\n",
    "!pip install --user -e /g/data/es60/users/thomas_moore/code/ACDtools"
   ]
  },
  {
   "cell_type": "code",
   "execution_count": 2,
   "id": "0215fd7c-caad-49fd-8440-03f2426e6791",
   "metadata": {},
   "outputs": [],
   "source": [
    "# Enable autoreload in the notebook\n",
    "%load_ext autoreload\n",
    "%autoreload 1 \n",
    "%aimport ACDtools.util\n",
    "%aimport ACDtools.ard\n",
    "%aimport ACDtools.plot\n",
    "# Importing from your local package util.py\n",
    "from ACDtools import util\n",
    "from ACDtools import ard\n",
    "from ACDtools import plot"
   ]
  },
  {
   "cell_type": "markdown",
   "id": "d0e7fffe-1565-4a71-9622-dc4266f555df",
   "metadata": {},
   "source": [
    "# Notebook settings"
   ]
  },
  {
   "cell_type": "markdown",
   "id": "c94d2934-9f8a-4495-b32a-46c1ac293870",
   "metadata": {},
   "source": [
    "### filter warnings"
   ]
  },
  {
   "cell_type": "code",
   "execution_count": 3,
   "id": "c774b769-3308-49e6-8c1d-90b7e5645ad3",
   "metadata": {},
   "outputs": [],
   "source": [
    "import warnings\n",
    "warnings.filterwarnings(\"ignore\") # Suppress warnings"
   ]
  },
  {
   "cell_type": "markdown",
   "id": "7fcad830-ea7e-4ecd-a64b-b5f9edeb305a",
   "metadata": {},
   "source": [
    "# Dask cluster from config\n",
    "`client, cluster = util.start_dask_cluster_from_config('netcdf_work')`\n",
    "<br>OR<br>\n",
    "`client, cluster = util.start_dask_cluster_from_config('zarr_work')`"
   ]
  },
  {
   "cell_type": "code",
   "execution_count": 4,
   "id": "6935fbd8-fcb1-4784-912b-7dea47c469b0",
   "metadata": {
    "scrolled": true
   },
   "outputs": [
    {
     "name": "stdout",
     "output_type": "stream",
     "text": [
      "Cluster started with 28 workers.\n",
      "Dashboard available at: /proxy/8787/status\n"
     ]
    }
   ],
   "source": [
    "client, cluster = util.start_dask_cluster_from_config('netcdf_work')"
   ]
  },
  {
   "cell_type": "markdown",
   "id": "453d3b34-0f7f-499c-838e-f9d713ee82bc",
   "metadata": {},
   "source": [
    "# Issue: build code to make heatmaps\n",
    "- https://github.com/Thomas-Moore-Creative/ACDtools/issues/18"
   ]
  },
  {
   "cell_type": "markdown",
   "id": "f13e29a8-ca33-4e22-9755-252be78c1800",
   "metadata": {},
   "source": [
    "## generate dummy data"
   ]
  },
  {
   "cell_type": "code",
   "execution_count": 5,
   "id": "3b32de50-03f5-40de-bc1d-11fa5d670693",
   "metadata": {},
   "outputs": [],
   "source": [
    "import numpy as np\n",
    "import pandas as pd\n",
    "import seaborn as sns\n",
    "import matplotlib.pyplot as plt\n",
    "\n",
    "# Set a random seed for reproducibility\n",
    "np.random.seed(42)\n",
    "\n",
    "# Define dimensions (e.g., 12 months and 21 years from 2000 to 2020)\n",
    "n_months = 12\n",
    "n_years = 21\n",
    "\n",
    "# Create dummy heatmap data with values between -2.5 and 2.5\n",
    "heatmap_data = np.random.uniform(-2.5, 2.5, size=(n_months, n_years))\n",
    "\n",
    "# Create dummy event annotations.\n",
    "# Here, we randomly annotate some cells with \"LN\" for the first layer\n",
    "# and \"EN\" for the second layer (roughly 20% chance for each cell).\n",
    "event_data_LN = np.where(np.random.rand(n_months, n_years) > 0.8, \"LN\", \"\")\n",
    "event_data_EN = np.where(np.random.rand(n_months, n_years) > 0.8, \"EN\", \"\")\n",
    "\n",
    "# Optional: Convert arrays to DataFrames with month and year labels for better visualization\n",
    "months = [\"Jan\", \"Feb\", \"Mar\", \"Apr\", \"May\", \"Jun\", \n",
    "          \"Jul\", \"Aug\", \"Sep\", \"Oct\", \"Nov\", \"Dec\"]\n",
    "years = list(range(2000, 2000 + n_years))\n",
    "\n",
    "heatmap_df = pd.DataFrame(heatmap_data, index=months, columns=years)\n",
    "event_data_LN_df = pd.DataFrame(event_data_LN, index=months, columns=years)\n",
    "event_data_EN_df = pd.DataFrame(event_data_EN, index=months, columns=years)"
   ]
  },
  {
   "cell_type": "raw",
   "id": "bf72209c-fc48-4355-a616-70811ec5fcd5",
   "metadata": {},
   "source": [
    "def heatmap(heatmap_df,figsize = (20,8),cmap='RdBu_r',vmin=-2,vmax=2,title='my plot title',annot_data=None):\n",
    "    # Plotting the heatmap with annotations\n",
    "    plt.figure(figsize=figsize)\n",
    "    # First layer: heatmap without annotations\n",
    "    sns.heatmap(heatmap_df, annot=False, cmap=cmap, square=True,\n",
    "            vmin=vmin, vmax=vmax, linewidth=.5)\n",
    "    if annot_data is not None:\n",
    "        # Second layer: add annotations on top (with vertical alignment at center)\n",
    "        sns.heatmap(heatmap_df, annot=annot_data, annot_kws={'va': 'center'},\n",
    "                fmt=\"\", cbar=False, cmap=cmap, square=True,\n",
    "                vmin=vmin, vmax=vmax, linewidth=.5)\n",
    "    plt.title(title)\n",
    "    plt.show()"
   ]
  },
  {
   "cell_type": "code",
   "execution_count": null,
   "id": "ec435362-6700-4de6-a4e3-9175b3a2427f",
   "metadata": {},
   "outputs": [],
   "source": [
    "plot.heatmap(heatmap_df,figsize = (20,8),cmap='coolwarm',vmin=-2,vmax=2,title='my plot title',annot_data=event_data_LN_df)"
   ]
  },
  {
   "cell_type": "code",
   "execution_count": null,
   "id": "38b8d7f3-849a-4717-91cf-5419a4908429",
   "metadata": {},
   "outputs": [],
   "source": []
  },
  {
   "cell_type": "code",
   "execution_count": null,
   "id": "26a32ca3-398a-4308-ad42-f172d73e2d5f",
   "metadata": {},
   "outputs": [],
   "source": []
  },
  {
   "cell_type": "markdown",
   "id": "60832385-4a0f-4a10-b33d-5a11916a91ff",
   "metadata": {},
   "source": [
    "# $The$  $End$"
   ]
  },
  {
   "cell_type": "markdown",
   "id": "965f9e76-54f2-46de-a0f4-56b950d3fa15",
   "metadata": {},
   "source": []
  },
  {
   "cell_type": "code",
   "execution_count": null,
   "id": "bd26a03e-4198-498d-a601-a37646beadf7",
   "metadata": {},
   "outputs": [],
   "source": []
  }
 ],
 "metadata": {
  "kernelspec": {
   "display_name": "Python 3 (ipykernel)",
   "language": "python",
   "name": "python3"
  },
  "language_info": {
   "codemirror_mode": {
    "name": "ipython",
    "version": 3
   },
   "file_extension": ".py",
   "mimetype": "text/x-python",
   "name": "python",
   "nbconvert_exporter": "python",
   "pygments_lexer": "ipython3",
   "version": "3.10.14"
  }
 },
 "nbformat": 4,
 "nbformat_minor": 5
}
