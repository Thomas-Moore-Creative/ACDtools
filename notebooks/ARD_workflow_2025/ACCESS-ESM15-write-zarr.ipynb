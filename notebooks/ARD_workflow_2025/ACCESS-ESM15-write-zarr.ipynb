{
 "cells": [
  {
   "cell_type": "markdown",
   "id": "fa886a34-4486-4bb3-9a67-bcc07a80d3e1",
   "metadata": {},
   "source": [
    "# 📓 ACCESS-ESM15-write-zarr\n",
    "\n",
    "**Author:** Thomas Moore  \n",
    "**Date:** 2025-10-31\n",
    "**Updated:** YYYY-MM-DD (if applicable)  \n",
    "**Environment:** `pangeo_csepta` running on `Gadi` ARE  \n",
    "**Tags:** sandbox, ARD, ACCESS-ESM1.5\n",
    "\n",
    "---\n",
    "\n",
    "### 📘 Description\n",
    "\n",
    "This notebook attempts to bring together all the disperate workplows for this task over the year(s).  Issue: [https://github.com/Thomas-Moore-Creative/Pacific-Tuna-Climate-Response/issues/51](https://github.com/Thomas-Moore-Creative/Pacific-Tuna-Climate-Response/issues/51) and sub-issues"
   ]
  },
  {
   "cell_type": "code",
   "execution_count": 1,
   "id": "7c1e700b-839d-479b-9c90-31caeadfd630",
   "metadata": {},
   "outputs": [],
   "source": [
    "Author = {\"name\": \"Thomas Moore\", \"affiliation\": \"CSIRO\", \"email\": \"thomas.moore@csiro.au\", \"orcid\": \"0000-0003-3930-1946\"}"
   ]
  },
  {
   "cell_type": "markdown",
   "id": "3cccb7e8-462f-49d7-b0d8-4bc0f3708308",
   "metadata": {},
   "source": [
    "# Software"
   ]
  },
  {
   "cell_type": "markdown",
   "id": "a56670eb-b4a8-4197-8440-dc3fe30fa185",
   "metadata": {},
   "source": [
    "### ACDtools"
   ]
  },
  {
   "cell_type": "code",
   "execution_count": 2,
   "id": "4d9f9e65-9567-4c17-a16f-e552eac42c4c",
   "metadata": {},
   "outputs": [
    {
     "name": "stdout",
     "output_type": "stream",
     "text": [
      "Obtaining file:///g/data/es60/users/thomas_moore/code/ACDtools\n",
      "  Installing build dependencies ... \u001b[?25ldone\n",
      "\u001b[?25h  Checking if build backend supports build_editable ... \u001b[?25ldone\n",
      "\u001b[?25h  Getting requirements to build editable ... \u001b[?25ldone\n",
      "\u001b[?25h  Preparing editable metadata (pyproject.toml) ... \u001b[?25ldone\n",
      "\u001b[?25hBuilding wheels for collected packages: ACDtools\n",
      "  Building editable for ACDtools (pyproject.toml) ... \u001b[?25ldone\n",
      "\u001b[?25h  Created wheel for ACDtools: filename=acdtools-0.1-0.editable-py3-none-any.whl size=3553 sha256=aaaa1867aff9c6339b8a589a0960c924b1180c1e8deabefc4e4b62a1fe41f9a0\n",
      "  Stored in directory: /scratch/es60/thomas_moore/tmp/pip-ephem-wheel-cache-q2koaiiv/wheels/b6/a3/f2/6ce45fbdc116ad50e421d6a11cb060cc796e867501807af446\n",
      "Successfully built ACDtools\n",
      "Installing collected packages: ACDtools\n",
      "  Attempting uninstall: ACDtools\n",
      "    Found existing installation: ACDtools 0.1\n",
      "    Uninstalling ACDtools-0.1:\n",
      "      Successfully uninstalled ACDtools-0.1\n",
      "Successfully installed ACDtools-0.1\n"
     ]
    }
   ],
   "source": [
    "!pip install --user -e /g/data/es60/users/thomas_moore/code/ACDtools"
   ]
  },
  {
   "cell_type": "code",
   "execution_count": 3,
   "id": "7e01a158-bbb3-454f-8a35-1c575129d1ee",
   "metadata": {},
   "outputs": [],
   "source": [
    "# Enable autoreload in the notebook\n",
    "%load_ext autoreload\n",
    "%autoreload 1 \n",
    "%aimport ACDtools.util\n",
    "%aimport ACDtools.ard\n",
    "%aimport ACDtools.ocean\n",
    "%aimport ACDtools.plot\n",
    "# Importing from your local package util.py\n",
    "from ACDtools import util\n",
    "from ACDtools import ard\n",
    "from ACDtools import ocean\n",
    "from ACDtools import plot"
   ]
  },
  {
   "cell_type": "code",
   "execution_count": 12,
   "id": "d07c7db5-700e-4ce4-a533-9c497a0c13d9",
   "metadata": {},
   "outputs": [],
   "source": [
    "import datetime"
   ]
  },
  {
   "cell_type": "markdown",
   "id": "3d198700-c45d-4fd3-9967-2af4fabf26a4",
   "metadata": {},
   "source": [
    "## Cluster"
   ]
  },
  {
   "cell_type": "code",
   "execution_count": 4,
   "id": "9ab80f62-ecc8-4233-b25e-f8ae57847ff5",
   "metadata": {},
   "outputs": [
    {
     "name": "stdout",
     "output_type": "stream",
     "text": [
      "Cluster started with 28 workers.\n",
      "Dashboard available at: /proxy/8787/status\n"
     ]
    }
   ],
   "source": [
    "client, cluster = util.start_dask_cluster_from_config('netcdf_work')"
   ]
  },
  {
   "cell_type": "markdown",
   "id": "fa8307cc-4980-42dd-91a4-e19de538c670",
   "metadata": {},
   "source": [
    "## Functions"
   ]
  },
  {
   "cell_type": "code",
   "execution_count": 5,
   "id": "27356386-d239-47ee-b9e9-67bfd2641049",
   "metadata": {},
   "outputs": [],
   "source": [
    "# develop any new functions here"
   ]
  },
  {
   "cell_type": "markdown",
   "id": "14f3fd84-6bc3-436f-8c15-2bc5ac723805",
   "metadata": {},
   "source": [
    "# settings"
   ]
  },
  {
   "cell_type": "code",
   "execution_count": 8,
   "id": "ab524f37-1a06-4c1a-98b1-22b4e26abc1b",
   "metadata": {},
   "outputs": [],
   "source": [
    "job_config_path = '/g/data/es60/users/thomas_moore/code/ACDtools/job_config.yaml'\n",
    "job_config_dict = ACDtools.util.load_config(job_config_path)"
   ]
  },
  {
   "cell_type": "markdown",
   "id": "235959e9-6584-45bb-bb24-143bdf7c59b8",
   "metadata": {},
   "source": [
    "# workflow"
   ]
  },
  {
   "cell_type": "code",
   "execution_count": null,
   "id": "31bca559-b5b5-42a6-86ba-5271c55f7456",
   "metadata": {},
   "outputs": [],
   "source": [
    "%%time\n",
    "print('Running ' + job_config_dict['catalog_search_query_dict']['variable_id'] + ' ' + job_config_dict['catalog_search_query_dict']['experiment_id'])\n",
    "\n",
    "# load catalog\n",
    "cmip6_fs38_datastore = load_cmip6_CLEX_datastore()\n",
    "# search catalog for list of files\n",
    "search = cmip6_fs38_datastore.search(**job_config_dict['catalog_search_query_dict'])\n",
    "# load into one object using xarray kwags for chunking and handling cftime\n",
    "####\n",
    "#ds = load_ACCESS_ESM(search,use_cftime=True,chunking_key=job_config_dict['chunking_key'])\n",
    "####\n",
    "ds = load_ACCESS_ESM_ensemble(search,use_cftime=True,chunking_key=job_config_dict['chunking_key'])\n",
    "# save and drop multidimensional coordinates\n",
    "ds = save_n_drop_multidim_lat_lon(ds,save_coords_dir=job_config_dict['paths']['save_coords_dir'],variable_name = job_config_dict['catalog_search_query_dict']['variable_id'])\n",
    "# remove encoding\n",
    "remove_encoding(ds)\n",
    "# write out zarr\n",
    "current_datetime = datetime.datetime.now().strftime(\"%Y%m%d_%H%M%S\")\n",
    "print('Started zarr write at '+current_datetime)\n",
    "filename = f\"{job_config_dict['paths']['write_dir']}\\\n",
    "{job_config_dict['catalog_search_query_dict']['source_id']}\\\n",
    ".{job_config_dict['catalog_search_query_dict']['experiment_id']}\\\n",
    ".{job_config_dict['catalog_search_query_dict']['variable_id']}\\\n",
    ".v{current_datetime}.zarr\"\n",
    "ds.to_zarr(filename,consolidated=True)\n",
    "print('Finished at '+ current_datetime)"
   ]
  },
  {
   "cell_type": "code",
   "execution_count": null,
   "id": "21b9b70f-70e6-43a3-b384-3a0b7c21e786",
   "metadata": {},
   "outputs": [],
   "source": []
  },
  {
   "cell_type": "code",
   "execution_count": null,
   "id": "f871a294-0884-4ebf-b1b3-03441de1fe43",
   "metadata": {},
   "outputs": [],
   "source": []
  },
  {
   "cell_type": "code",
   "execution_count": null,
   "id": "bb03d484-2156-4796-b62e-2b4364a1e98a",
   "metadata": {},
   "outputs": [],
   "source": []
  },
  {
   "cell_type": "code",
   "execution_count": null,
   "id": "feb5e8f9-0348-468a-a21c-90eb8207f656",
   "metadata": {},
   "outputs": [],
   "source": []
  },
  {
   "cell_type": "code",
   "execution_count": null,
   "id": "26cfad70-13f0-4f08-94b9-34b64cdb6b8c",
   "metadata": {},
   "outputs": [],
   "source": []
  },
  {
   "cell_type": "code",
   "execution_count": null,
   "id": "aecbe375-a1e7-4f82-88c7-69e5cc7f480d",
   "metadata": {},
   "outputs": [],
   "source": []
  },
  {
   "cell_type": "code",
   "execution_count": null,
   "id": "3e8abe53-a556-4854-98b4-6280cc0d5f67",
   "metadata": {},
   "outputs": [],
   "source": []
  },
  {
   "cell_type": "code",
   "execution_count": null,
   "id": "97e4c85d-b751-41b5-8dad-b23be5164d46",
   "metadata": {},
   "outputs": [],
   "source": []
  },
  {
   "cell_type": "code",
   "execution_count": null,
   "id": "e0bcc6e5-3f90-4820-83e7-fdcfbcce6727",
   "metadata": {},
   "outputs": [],
   "source": []
  },
  {
   "cell_type": "code",
   "execution_count": null,
   "id": "2694dd16-8223-487a-b73d-b202e4b99e7e",
   "metadata": {},
   "outputs": [],
   "source": []
  },
  {
   "cell_type": "code",
   "execution_count": null,
   "id": "3c2abfd8-5de5-47d7-b426-3ebaf71dd010",
   "metadata": {},
   "outputs": [],
   "source": []
  },
  {
   "cell_type": "code",
   "execution_count": 1,
   "id": "ef543b2b-e107-4222-aa03-3aa4f24df23d",
   "metadata": {},
   "outputs": [],
   "source": [
    "import xarray as xr"
   ]
  },
  {
   "cell_type": "markdown",
   "id": "5b0c250c-f641-4f59-b229-823679d77999",
   "metadata": {},
   "source": [
    "# setup LocalCluster()"
   ]
  },
  {
   "cell_type": "code",
   "execution_count": 2,
   "id": "cb2d56c5-7084-4381-8424-bbc15ae5d8e5",
   "metadata": {},
   "outputs": [],
   "source": [
    "from dask.distributed import Client, LocalCluster, progress\n",
    "cluster = LocalCluster()\n",
    "client = Client(cluster)"
   ]
  },
  {
   "cell_type": "markdown",
   "id": "e2170ddd-ffb1-49a4-a84e-807f6eeeee83",
   "metadata": {},
   "source": [
    "# Load NCI catalog\n",
    "Follow documentation here: https://opus.nci.org.au/pages/viewpage.action?pageId=213713098"
   ]
  },
  {
   "cell_type": "code",
   "execution_count": 3,
   "id": "8cf80a40-da1b-4a7e-98e3-a0ad4a6b5a31",
   "metadata": {
    "tags": []
   },
   "outputs": [],
   "source": [
    "import intake\n",
    "cmip6_fs38_cat = intake.open_esm_datastore(\"/g/data/dk92/catalog/v2/esm/cmip6-fs38/catalog.json\")"
   ]
  },
  {
   "cell_type": "markdown",
   "id": "62331bc5-7b1e-4035-9aaf-f4c6724198ef",
   "metadata": {},
   "source": [
    "# BELOW cell is manual process of editing the member_id's"
   ]
  },
  {
   "cell_type": "markdown",
   "id": "a18f9327-06e0-4a6d-baa5-8cd4043245d9",
   "metadata": {},
   "source": [
    "# load 10 members of monthly `o2` into one dataset `dict` and concatinate over ensemble members"
   ]
  },
  {
   "cell_type": "raw",
   "id": "023f9bb6-8abc-41a5-9183-472c5e155f72",
   "metadata": {},
   "source": [
    "#0 \"r1i1p1f1\",\"r2i1p1f1\",\"r3i1p1f1\",\"r4i1p1f1\",\"r5i1p1f1\",\"r6i1p1f1\",\"r7i1p1f1\",\"r8i1p1f1\",\"r9i1p1f1\",\"r10i1p1f1\"\n",
    "#1 \"r11i1p1f1\",\"r12i1p1f1\",\"r13i1p1f1\",\"r14i1p1f1\",\"r15i1p1f1\",\"r16i1p1f1\",\"r17i1p1f1\",\"r18i1p1f1\",\"r19i1p1f1\",\"r20i1p1f1\"\n",
    "#2 \"r21i1p1f1\",\"r22i1p1f1\",\"r23i1p1f1\",\"r24i1p1f1\",\"r25i1p1f1\",\"r26i1p1f1\",\"r27i1p1f1\",\"r28i1p1f1\",\"r29i1p1f1\",\"r30i1p1f1\"\n",
    "#3 \"r31i1p1f1\",\"r32i1p1f1\",\"r33i1p1f1\",\"r34i1p1f1\",\"r35i1p1f1\",\"r36i1p1f1\",\"r37i1p1f1\",\"r38i1p1f1\",\"r39i1p1f1\",\"r40i1p1f1\"\n"
   ]
  },
  {
   "cell_type": "code",
   "execution_count": 4,
   "id": "9974f57c-e9e5-4eda-bfcf-5cd2042d30eb",
   "metadata": {
    "tags": []
   },
   "outputs": [],
   "source": [
    "cmip6_fs38_cat_filtered = cmip6_fs38_cat.search(\n",
    "    source_id=\"ACCESS-ESM1-5\", \n",
    "    experiment_id=\"historical\", \n",
    "    table_id=\"Omon\", \n",
    "    file_type=\"f\",\n",
    "    variable_id = \"thetao\"\n",
    ")"
   ]
  },
  {
   "cell_type": "code",
   "execution_count": 5,
   "id": "ef741cf5-a9f1-4e07-8efd-2661f4dcb66a",
   "metadata": {},
   "outputs": [
    {
     "data": {
      "text/html": [
       "<p><strong>cmip6-fs38 catalog with 40 dataset(s) from 680 asset(s)</strong>:</p> <div>\n",
       "<style scoped>\n",
       "    .dataframe tbody tr th:only-of-type {\n",
       "        vertical-align: middle;\n",
       "    }\n",
       "\n",
       "    .dataframe tbody tr th {\n",
       "        vertical-align: top;\n",
       "    }\n",
       "\n",
       "    .dataframe thead th {\n",
       "        text-align: right;\n",
       "    }\n",
       "</style>\n",
       "<table border=\"1\" class=\"dataframe\">\n",
       "  <thead>\n",
       "    <tr style=\"text-align: right;\">\n",
       "      <th></th>\n",
       "      <th>unique</th>\n",
       "    </tr>\n",
       "  </thead>\n",
       "  <tbody>\n",
       "    <tr>\n",
       "      <th>path</th>\n",
       "      <td>680</td>\n",
       "    </tr>\n",
       "    <tr>\n",
       "      <th>file_type</th>\n",
       "      <td>1</td>\n",
       "    </tr>\n",
       "    <tr>\n",
       "      <th>realm</th>\n",
       "      <td>1</td>\n",
       "    </tr>\n",
       "    <tr>\n",
       "      <th>frequency</th>\n",
       "      <td>1</td>\n",
       "    </tr>\n",
       "    <tr>\n",
       "      <th>table_id</th>\n",
       "      <td>1</td>\n",
       "    </tr>\n",
       "    <tr>\n",
       "      <th>project_id</th>\n",
       "      <td>1</td>\n",
       "    </tr>\n",
       "    <tr>\n",
       "      <th>institution_id</th>\n",
       "      <td>1</td>\n",
       "    </tr>\n",
       "    <tr>\n",
       "      <th>source_id</th>\n",
       "      <td>1</td>\n",
       "    </tr>\n",
       "    <tr>\n",
       "      <th>experiment_id</th>\n",
       "      <td>1</td>\n",
       "    </tr>\n",
       "    <tr>\n",
       "      <th>member_id</th>\n",
       "      <td>40</td>\n",
       "    </tr>\n",
       "    <tr>\n",
       "      <th>variable_id</th>\n",
       "      <td>1</td>\n",
       "    </tr>\n",
       "    <tr>\n",
       "      <th>grid_label</th>\n",
       "      <td>1</td>\n",
       "    </tr>\n",
       "    <tr>\n",
       "      <th>version</th>\n",
       "      <td>9</td>\n",
       "    </tr>\n",
       "    <tr>\n",
       "      <th>time_range</th>\n",
       "      <td>17</td>\n",
       "    </tr>\n",
       "    <tr>\n",
       "      <th>derived_variable_id</th>\n",
       "      <td>0</td>\n",
       "    </tr>\n",
       "  </tbody>\n",
       "</table>\n",
       "</div>"
      ],
      "text/plain": [
       "<IPython.core.display.HTML object>"
      ]
     },
     "metadata": {},
     "output_type": "display_data"
    }
   ],
   "source": [
    "cmip6_fs38_cat_filtered"
   ]
  },
  {
   "cell_type": "markdown",
   "id": "dd34327b-ef8d-4516-b0da-f22dd7fc2b46",
   "metadata": {},
   "source": [
    "#### what is chunking on NetCDF files? `'chunksizes': (1, 25, 150, 180)`"
   ]
  },
  {
   "cell_type": "markdown",
   "id": "0f63748f-63fc-4eb9-97b6-2f0b6d357e32",
   "metadata": {},
   "source": [
    "# DS_dict"
   ]
  },
  {
   "cell_type": "code",
   "execution_count": 6,
   "id": "a1c5c0aa-1457-4c01-a4ab-e7106ef9af93",
   "metadata": {},
   "outputs": [],
   "source": [
    "xarray_open_kwargs = {\"chunks\": {\"time\": 12, \"lev\": 50, \"i\" : 360,'j' :300}}"
   ]
  },
  {
   "cell_type": "code",
   "execution_count": 7,
   "id": "49d1df14-264a-4d54-ba38-f904a3639e27",
   "metadata": {
    "scrolled": true,
    "tags": []
   },
   "outputs": [
    {
     "name": "stdout",
     "output_type": "stream",
     "text": [
      "CPU times: user 1min 8s, sys: 11.1 s, total: 1min 19s\n",
      "Wall time: 1min 19s\n"
     ]
    }
   ],
   "source": [
    "%%time\n",
    "DS_dict = cmip6_fs38_cat_filtered.to_dataset_dict(progressbar=False,xarray_open_kwargs=xarray_open_kwargs)"
   ]
  },
  {
   "cell_type": "code",
   "execution_count": 8,
   "id": "46ee386e-b0c7-417b-afdf-f5fc7d7b25bc",
   "metadata": {
    "tags": []
   },
   "outputs": [
    {
     "name": "stdout",
     "output_type": "stream",
     "text": [
      "CPU times: user 36.7 s, sys: 3.82 s, total: 40.5 s\n",
      "Wall time: 1min 28s\n"
     ]
    }
   ],
   "source": [
    "%%time\n",
    "DS_concat = xr.concat(\n",
    "    DS_dict.values(), \n",
    "    dim=\"member\"\n",
    ")"
   ]
  },
  {
   "cell_type": "markdown",
   "id": "8488ca3a-c605-431f-a0d2-929fbb31b346",
   "metadata": {},
   "source": [
    "# can we simplify to a single DataArray?"
   ]
  },
  {
   "cell_type": "code",
   "execution_count": 9,
   "id": "206a1fb9-58e2-490a-ba62-62539421b2ae",
   "metadata": {},
   "outputs": [
    {
     "data": {
      "text/html": [
       "<div><svg style=\"position: absolute; width: 0; height: 0; overflow: hidden\">\n",
       "<defs>\n",
       "<symbol id=\"icon-database\" viewBox=\"0 0 32 32\">\n",
       "<path d=\"M16 0c-8.837 0-16 2.239-16 5v4c0 2.761 7.163 5 16 5s16-2.239 16-5v-4c0-2.761-7.163-5-16-5z\"></path>\n",
       "<path d=\"M16 17c-8.837 0-16-2.239-16-5v6c0 2.761 7.163 5 16 5s16-2.239 16-5v-6c0 2.761-7.163 5-16 5z\"></path>\n",
       "<path d=\"M16 26c-8.837 0-16-2.239-16-5v6c0 2.761 7.163 5 16 5s16-2.239 16-5v-6c0 2.761-7.163 5-16 5z\"></path>\n",
       "</symbol>\n",
       "<symbol id=\"icon-file-text2\" viewBox=\"0 0 32 32\">\n",
       "<path d=\"M28.681 7.159c-0.694-0.947-1.662-2.053-2.724-3.116s-2.169-2.030-3.116-2.724c-1.612-1.182-2.393-1.319-2.841-1.319h-15.5c-1.378 0-2.5 1.121-2.5 2.5v27c0 1.378 1.122 2.5 2.5 2.5h23c1.378 0 2.5-1.122 2.5-2.5v-19.5c0-0.448-0.137-1.23-1.319-2.841zM24.543 5.457c0.959 0.959 1.712 1.825 2.268 2.543h-4.811v-4.811c0.718 0.556 1.584 1.309 2.543 2.268zM28 29.5c0 0.271-0.229 0.5-0.5 0.5h-23c-0.271 0-0.5-0.229-0.5-0.5v-27c0-0.271 0.229-0.5 0.5-0.5 0 0 15.499-0 15.5 0v7c0 0.552 0.448 1 1 1h7v19.5z\"></path>\n",
       "<path d=\"M23 26h-14c-0.552 0-1-0.448-1-1s0.448-1 1-1h14c0.552 0 1 0.448 1 1s-0.448 1-1 1z\"></path>\n",
       "<path d=\"M23 22h-14c-0.552 0-1-0.448-1-1s0.448-1 1-1h14c0.552 0 1 0.448 1 1s-0.448 1-1 1z\"></path>\n",
       "<path d=\"M23 18h-14c-0.552 0-1-0.448-1-1s0.448-1 1-1h14c0.552 0 1 0.448 1 1s-0.448 1-1 1z\"></path>\n",
       "</symbol>\n",
       "</defs>\n",
       "</svg>\n",
       "<style>/* CSS stylesheet for displaying xarray objects in jupyterlab.\n",
       " *\n",
       " */\n",
       "\n",
       ":root {\n",
       "  --xr-font-color0: var(--jp-content-font-color0, rgba(0, 0, 0, 1));\n",
       "  --xr-font-color2: var(--jp-content-font-color2, rgba(0, 0, 0, 0.54));\n",
       "  --xr-font-color3: var(--jp-content-font-color3, rgba(0, 0, 0, 0.38));\n",
       "  --xr-border-color: var(--jp-border-color2, #e0e0e0);\n",
       "  --xr-disabled-color: var(--jp-layout-color3, #bdbdbd);\n",
       "  --xr-background-color: var(--jp-layout-color0, white);\n",
       "  --xr-background-color-row-even: var(--jp-layout-color1, white);\n",
       "  --xr-background-color-row-odd: var(--jp-layout-color2, #eeeeee);\n",
       "}\n",
       "\n",
       "html[theme=dark],\n",
       "body[data-theme=dark],\n",
       "body.vscode-dark {\n",
       "  --xr-font-color0: rgba(255, 255, 255, 1);\n",
       "  --xr-font-color2: rgba(255, 255, 255, 0.54);\n",
       "  --xr-font-color3: rgba(255, 255, 255, 0.38);\n",
       "  --xr-border-color: #1F1F1F;\n",
       "  --xr-disabled-color: #515151;\n",
       "  --xr-background-color: #111111;\n",
       "  --xr-background-color-row-even: #111111;\n",
       "  --xr-background-color-row-odd: #313131;\n",
       "}\n",
       "\n",
       ".xr-wrap {\n",
       "  display: block !important;\n",
       "  min-width: 300px;\n",
       "  max-width: 700px;\n",
       "}\n",
       "\n",
       ".xr-text-repr-fallback {\n",
       "  /* fallback to plain text repr when CSS is not injected (untrusted notebook) */\n",
       "  display: none;\n",
       "}\n",
       "\n",
       ".xr-header {\n",
       "  padding-top: 6px;\n",
       "  padding-bottom: 6px;\n",
       "  margin-bottom: 4px;\n",
       "  border-bottom: solid 1px var(--xr-border-color);\n",
       "}\n",
       "\n",
       ".xr-header > div,\n",
       ".xr-header > ul {\n",
       "  display: inline;\n",
       "  margin-top: 0;\n",
       "  margin-bottom: 0;\n",
       "}\n",
       "\n",
       ".xr-obj-type,\n",
       ".xr-array-name {\n",
       "  margin-left: 2px;\n",
       "  margin-right: 10px;\n",
       "}\n",
       "\n",
       ".xr-obj-type {\n",
       "  color: var(--xr-font-color2);\n",
       "}\n",
       "\n",
       ".xr-sections {\n",
       "  padding-left: 0 !important;\n",
       "  display: grid;\n",
       "  grid-template-columns: 150px auto auto 1fr 20px 20px;\n",
       "}\n",
       "\n",
       ".xr-section-item {\n",
       "  display: contents;\n",
       "}\n",
       "\n",
       ".xr-section-item input {\n",
       "  display: none;\n",
       "}\n",
       "\n",
       ".xr-section-item input + label {\n",
       "  color: var(--xr-disabled-color);\n",
       "}\n",
       "\n",
       ".xr-section-item input:enabled + label {\n",
       "  cursor: pointer;\n",
       "  color: var(--xr-font-color2);\n",
       "}\n",
       "\n",
       ".xr-section-item input:enabled + label:hover {\n",
       "  color: var(--xr-font-color0);\n",
       "}\n",
       "\n",
       ".xr-section-summary {\n",
       "  grid-column: 1;\n",
       "  color: var(--xr-font-color2);\n",
       "  font-weight: 500;\n",
       "}\n",
       "\n",
       ".xr-section-summary > span {\n",
       "  display: inline-block;\n",
       "  padding-left: 0.5em;\n",
       "}\n",
       "\n",
       ".xr-section-summary-in:disabled + label {\n",
       "  color: var(--xr-font-color2);\n",
       "}\n",
       "\n",
       ".xr-section-summary-in + label:before {\n",
       "  display: inline-block;\n",
       "  content: '►';\n",
       "  font-size: 11px;\n",
       "  width: 15px;\n",
       "  text-align: center;\n",
       "}\n",
       "\n",
       ".xr-section-summary-in:disabled + label:before {\n",
       "  color: var(--xr-disabled-color);\n",
       "}\n",
       "\n",
       ".xr-section-summary-in:checked + label:before {\n",
       "  content: '▼';\n",
       "}\n",
       "\n",
       ".xr-section-summary-in:checked + label > span {\n",
       "  display: none;\n",
       "}\n",
       "\n",
       ".xr-section-summary,\n",
       ".xr-section-inline-details {\n",
       "  padding-top: 4px;\n",
       "  padding-bottom: 4px;\n",
       "}\n",
       "\n",
       ".xr-section-inline-details {\n",
       "  grid-column: 2 / -1;\n",
       "}\n",
       "\n",
       ".xr-section-details {\n",
       "  display: none;\n",
       "  grid-column: 1 / -1;\n",
       "  margin-bottom: 5px;\n",
       "}\n",
       "\n",
       ".xr-section-summary-in:checked ~ .xr-section-details {\n",
       "  display: contents;\n",
       "}\n",
       "\n",
       ".xr-array-wrap {\n",
       "  grid-column: 1 / -1;\n",
       "  display: grid;\n",
       "  grid-template-columns: 20px auto;\n",
       "}\n",
       "\n",
       ".xr-array-wrap > label {\n",
       "  grid-column: 1;\n",
       "  vertical-align: top;\n",
       "}\n",
       "\n",
       ".xr-preview {\n",
       "  color: var(--xr-font-color3);\n",
       "}\n",
       "\n",
       ".xr-array-preview,\n",
       ".xr-array-data {\n",
       "  padding: 0 5px !important;\n",
       "  grid-column: 2;\n",
       "}\n",
       "\n",
       ".xr-array-data,\n",
       ".xr-array-in:checked ~ .xr-array-preview {\n",
       "  display: none;\n",
       "}\n",
       "\n",
       ".xr-array-in:checked ~ .xr-array-data,\n",
       ".xr-array-preview {\n",
       "  display: inline-block;\n",
       "}\n",
       "\n",
       ".xr-dim-list {\n",
       "  display: inline-block !important;\n",
       "  list-style: none;\n",
       "  padding: 0 !important;\n",
       "  margin: 0;\n",
       "}\n",
       "\n",
       ".xr-dim-list li {\n",
       "  display: inline-block;\n",
       "  padding: 0;\n",
       "  margin: 0;\n",
       "}\n",
       "\n",
       ".xr-dim-list:before {\n",
       "  content: '(';\n",
       "}\n",
       "\n",
       ".xr-dim-list:after {\n",
       "  content: ')';\n",
       "}\n",
       "\n",
       ".xr-dim-list li:not(:last-child):after {\n",
       "  content: ',';\n",
       "  padding-right: 5px;\n",
       "}\n",
       "\n",
       ".xr-has-index {\n",
       "  font-weight: bold;\n",
       "}\n",
       "\n",
       ".xr-var-list,\n",
       ".xr-var-item {\n",
       "  display: contents;\n",
       "}\n",
       "\n",
       ".xr-var-item > div,\n",
       ".xr-var-item label,\n",
       ".xr-var-item > .xr-var-name span {\n",
       "  background-color: var(--xr-background-color-row-even);\n",
       "  margin-bottom: 0;\n",
       "}\n",
       "\n",
       ".xr-var-item > .xr-var-name:hover span {\n",
       "  padding-right: 5px;\n",
       "}\n",
       "\n",
       ".xr-var-list > li:nth-child(odd) > div,\n",
       ".xr-var-list > li:nth-child(odd) > label,\n",
       ".xr-var-list > li:nth-child(odd) > .xr-var-name span {\n",
       "  background-color: var(--xr-background-color-row-odd);\n",
       "}\n",
       "\n",
       ".xr-var-name {\n",
       "  grid-column: 1;\n",
       "}\n",
       "\n",
       ".xr-var-dims {\n",
       "  grid-column: 2;\n",
       "}\n",
       "\n",
       ".xr-var-dtype {\n",
       "  grid-column: 3;\n",
       "  text-align: right;\n",
       "  color: var(--xr-font-color2);\n",
       "}\n",
       "\n",
       ".xr-var-preview {\n",
       "  grid-column: 4;\n",
       "}\n",
       "\n",
       ".xr-index-preview {\n",
       "  grid-column: 2 / 5;\n",
       "  color: var(--xr-font-color2);\n",
       "}\n",
       "\n",
       ".xr-var-name,\n",
       ".xr-var-dims,\n",
       ".xr-var-dtype,\n",
       ".xr-preview,\n",
       ".xr-attrs dt {\n",
       "  white-space: nowrap;\n",
       "  overflow: hidden;\n",
       "  text-overflow: ellipsis;\n",
       "  padding-right: 10px;\n",
       "}\n",
       "\n",
       ".xr-var-name:hover,\n",
       ".xr-var-dims:hover,\n",
       ".xr-var-dtype:hover,\n",
       ".xr-attrs dt:hover {\n",
       "  overflow: visible;\n",
       "  width: auto;\n",
       "  z-index: 1;\n",
       "}\n",
       "\n",
       ".xr-var-attrs,\n",
       ".xr-var-data,\n",
       ".xr-index-data {\n",
       "  display: none;\n",
       "  background-color: var(--xr-background-color) !important;\n",
       "  padding-bottom: 5px !important;\n",
       "}\n",
       "\n",
       ".xr-var-attrs-in:checked ~ .xr-var-attrs,\n",
       ".xr-var-data-in:checked ~ .xr-var-data,\n",
       ".xr-index-data-in:checked ~ .xr-index-data {\n",
       "  display: block;\n",
       "}\n",
       "\n",
       ".xr-var-data > table {\n",
       "  float: right;\n",
       "}\n",
       "\n",
       ".xr-var-name span,\n",
       ".xr-var-data,\n",
       ".xr-index-name div,\n",
       ".xr-index-data,\n",
       ".xr-attrs {\n",
       "  padding-left: 25px !important;\n",
       "}\n",
       "\n",
       ".xr-attrs,\n",
       ".xr-var-attrs,\n",
       ".xr-var-data,\n",
       ".xr-index-data {\n",
       "  grid-column: 1 / -1;\n",
       "}\n",
       "\n",
       "dl.xr-attrs {\n",
       "  padding: 0;\n",
       "  margin: 0;\n",
       "  display: grid;\n",
       "  grid-template-columns: 125px auto;\n",
       "}\n",
       "\n",
       ".xr-attrs dt,\n",
       ".xr-attrs dd {\n",
       "  padding: 0;\n",
       "  margin: 0;\n",
       "  float: left;\n",
       "  padding-right: 10px;\n",
       "  width: auto;\n",
       "}\n",
       "\n",
       ".xr-attrs dt {\n",
       "  font-weight: normal;\n",
       "  grid-column: 1;\n",
       "}\n",
       "\n",
       ".xr-attrs dt:hover span {\n",
       "  display: inline-block;\n",
       "  background: var(--xr-background-color);\n",
       "  padding-right: 10px;\n",
       "}\n",
       "\n",
       ".xr-attrs dd {\n",
       "  grid-column: 2;\n",
       "  white-space: pre-wrap;\n",
       "  word-break: break-all;\n",
       "}\n",
       "\n",
       ".xr-icon-database,\n",
       ".xr-icon-file-text2,\n",
       ".xr-no-icon {\n",
       "  display: inline-block;\n",
       "  vertical-align: middle;\n",
       "  width: 1em;\n",
       "  height: 1.5em !important;\n",
       "  stroke-width: 0;\n",
       "  stroke: currentColor;\n",
       "  fill: currentColor;\n",
       "}\n",
       "</style><pre class='xr-text-repr-fallback'>&lt;xarray.DataArray &#x27;thetao&#x27; (member: 40, time: 1980, lev: 50, j: 300, i: 360)&gt; Size: 2TB\n",
       "dask.array&lt;concatenate, shape=(40, 1980, 50, 300, 360), dtype=float32, chunksize=(1, 12, 50, 300, 360), chunktype=numpy.ndarray&gt;\n",
       "Coordinates:\n",
       "  * time       (time) datetime64[ns] 16kB 1850-01-16T12:00:00 ... 2014-12-16T...\n",
       "  * lev        (lev) float64 400B 5.0 15.0 25.0 ... 5.499e+03 5.831e+03\n",
       "  * j          (j) int32 1kB 0 1 2 3 4 5 6 7 ... 292 293 294 295 296 297 298 299\n",
       "  * i          (i) int32 1kB 0 1 2 3 4 5 6 7 ... 352 353 354 355 356 357 358 359\n",
       "    latitude   (j, i) float64 864kB -77.88 -77.88 -77.88 ... 66.04 65.63 65.21\n",
       "    longitude  (j, i) float64 864kB 80.5 81.5 82.5 83.5 ... 79.96 79.97 79.99\n",
       "Dimensions without coordinates: member\n",
       "Attributes:\n",
       "    standard_name:  sea_water_potential_temperature\n",
       "    long_name:      Sea Water Potential Temperature\n",
       "    comment:        Diagnostic should be contributed even for models using co...\n",
       "    units:          degC\n",
       "    cell_methods:   area: mean where sea time: mean\n",
       "    cell_measures:  area: areacello volume: volcello</pre><div class='xr-wrap' style='display:none'><div class='xr-header'><div class='xr-obj-type'>xarray.DataArray</div><div class='xr-array-name'>'thetao'</div><ul class='xr-dim-list'><li><span>member</span>: 40</li><li><span class='xr-has-index'>time</span>: 1980</li><li><span class='xr-has-index'>lev</span>: 50</li><li><span class='xr-has-index'>j</span>: 300</li><li><span class='xr-has-index'>i</span>: 360</li></ul></div><ul class='xr-sections'><li class='xr-section-item'><div class='xr-array-wrap'><input id='section-d979d794-d311-40bc-8a37-436e6d91a8dc' class='xr-array-in' type='checkbox' checked><label for='section-d979d794-d311-40bc-8a37-436e6d91a8dc' title='Show/hide data repr'><svg class='icon xr-icon-database'><use xlink:href='#icon-database'></use></svg></label><div class='xr-array-preview xr-preview'><span>dask.array&lt;chunksize=(1, 12, 50, 300, 360), meta=np.ndarray&gt;</span></div><div class='xr-array-data'><table>\n",
       "    <tr>\n",
       "        <td>\n",
       "            <table style=\"border-collapse: collapse;\">\n",
       "                <thead>\n",
       "                    <tr>\n",
       "                        <td> </td>\n",
       "                        <th> Array </th>\n",
       "                        <th> Chunk </th>\n",
       "                    </tr>\n",
       "                </thead>\n",
       "                <tbody>\n",
       "                    \n",
       "                    <tr>\n",
       "                        <th> Bytes </th>\n",
       "                        <td> 1.56 TiB </td>\n",
       "                        <td> 247.19 MiB </td>\n",
       "                    </tr>\n",
       "                    \n",
       "                    <tr>\n",
       "                        <th> Shape </th>\n",
       "                        <td> (40, 1980, 50, 300, 360) </td>\n",
       "                        <td> (1, 12, 50, 300, 360) </td>\n",
       "                    </tr>\n",
       "                    <tr>\n",
       "                        <th> Dask graph </th>\n",
       "                        <td colspan=\"2\"> 6600 chunks in 1441 graph layers </td>\n",
       "                    </tr>\n",
       "                    <tr>\n",
       "                        <th> Data type </th>\n",
       "                        <td colspan=\"2\"> float32 numpy.ndarray </td>\n",
       "                    </tr>\n",
       "                </tbody>\n",
       "            </table>\n",
       "        </td>\n",
       "        <td>\n",
       "        <svg width=\"489\" height=\"108\" style=\"stroke:rgb(0,0,0);stroke-width:1\" >\n",
       "\n",
       "  <!-- Horizontal lines -->\n",
       "  <line x1=\"0\" y1=\"0\" x2=\"120\" y2=\"0\" style=\"stroke-width:2\" />\n",
       "  <line x1=\"0\" y1=\"0\" x2=\"120\" y2=\"0\" />\n",
       "  <line x1=\"0\" y1=\"1\" x2=\"120\" y2=\"1\" />\n",
       "  <line x1=\"0\" y1=\"2\" x2=\"120\" y2=\"2\" />\n",
       "  <line x1=\"0\" y1=\"3\" x2=\"120\" y2=\"3\" />\n",
       "  <line x1=\"0\" y1=\"4\" x2=\"120\" y2=\"4\" />\n",
       "  <line x1=\"0\" y1=\"5\" x2=\"120\" y2=\"5\" />\n",
       "  <line x1=\"0\" y1=\"5\" x2=\"120\" y2=\"5\" />\n",
       "  <line x1=\"0\" y1=\"7\" x2=\"120\" y2=\"7\" />\n",
       "  <line x1=\"0\" y1=\"7\" x2=\"120\" y2=\"7\" />\n",
       "  <line x1=\"0\" y1=\"8\" x2=\"120\" y2=\"8\" />\n",
       "  <line x1=\"0\" y1=\"9\" x2=\"120\" y2=\"9\" />\n",
       "  <line x1=\"0\" y1=\"10\" x2=\"120\" y2=\"10\" />\n",
       "  <line x1=\"0\" y1=\"11\" x2=\"120\" y2=\"11\" />\n",
       "  <line x1=\"0\" y1=\"12\" x2=\"120\" y2=\"12\" />\n",
       "  <line x1=\"0\" y1=\"13\" x2=\"120\" y2=\"13\" />\n",
       "  <line x1=\"0\" y1=\"14\" x2=\"120\" y2=\"14\" />\n",
       "  <line x1=\"0\" y1=\"15\" x2=\"120\" y2=\"15\" />\n",
       "  <line x1=\"0\" y1=\"15\" x2=\"120\" y2=\"15\" />\n",
       "  <line x1=\"0\" y1=\"16\" x2=\"120\" y2=\"16\" />\n",
       "  <line x1=\"0\" y1=\"18\" x2=\"120\" y2=\"18\" />\n",
       "  <line x1=\"0\" y1=\"18\" x2=\"120\" y2=\"18\" />\n",
       "  <line x1=\"0\" y1=\"19\" x2=\"120\" y2=\"19\" />\n",
       "  <line x1=\"0\" y1=\"20\" x2=\"120\" y2=\"20\" />\n",
       "  <line x1=\"0\" y1=\"21\" x2=\"120\" y2=\"21\" />\n",
       "  <line x1=\"0\" y1=\"22\" x2=\"120\" y2=\"22\" />\n",
       "  <line x1=\"0\" y1=\"23\" x2=\"120\" y2=\"23\" />\n",
       "  <line x1=\"0\" y1=\"23\" x2=\"120\" y2=\"23\" />\n",
       "  <line x1=\"0\" y1=\"25\" x2=\"120\" y2=\"25\" />\n",
       "  <line x1=\"0\" y1=\"26\" x2=\"120\" y2=\"26\" />\n",
       "  <line x1=\"0\" y1=\"26\" x2=\"120\" y2=\"26\" />\n",
       "  <line x1=\"0\" y1=\"27\" x2=\"120\" y2=\"27\" />\n",
       "  <line x1=\"0\" y1=\"29\" x2=\"120\" y2=\"29\" style=\"stroke-width:2\" />\n",
       "\n",
       "  <!-- Vertical lines -->\n",
       "  <line x1=\"0\" y1=\"0\" x2=\"0\" y2=\"29\" style=\"stroke-width:2\" />\n",
       "  <line x1=\"3\" y1=\"0\" x2=\"3\" y2=\"29\" />\n",
       "  <line x1=\"7\" y1=\"0\" x2=\"7\" y2=\"29\" />\n",
       "  <line x1=\"10\" y1=\"0\" x2=\"10\" y2=\"29\" />\n",
       "  <line x1=\"14\" y1=\"0\" x2=\"14\" y2=\"29\" />\n",
       "  <line x1=\"18\" y1=\"0\" x2=\"18\" y2=\"29\" />\n",
       "  <line x1=\"21\" y1=\"0\" x2=\"21\" y2=\"29\" />\n",
       "  <line x1=\"26\" y1=\"0\" x2=\"26\" y2=\"29\" />\n",
       "  <line x1=\"29\" y1=\"0\" x2=\"29\" y2=\"29\" />\n",
       "  <line x1=\"33\" y1=\"0\" x2=\"33\" y2=\"29\" />\n",
       "  <line x1=\"37\" y1=\"0\" x2=\"37\" y2=\"29\" />\n",
       "  <line x1=\"40\" y1=\"0\" x2=\"40\" y2=\"29\" />\n",
       "  <line x1=\"44\" y1=\"0\" x2=\"44\" y2=\"29\" />\n",
       "  <line x1=\"48\" y1=\"0\" x2=\"48\" y2=\"29\" />\n",
       "  <line x1=\"52\" y1=\"0\" x2=\"52\" y2=\"29\" />\n",
       "  <line x1=\"56\" y1=\"0\" x2=\"56\" y2=\"29\" />\n",
       "  <line x1=\"59\" y1=\"0\" x2=\"59\" y2=\"29\" />\n",
       "  <line x1=\"63\" y1=\"0\" x2=\"63\" y2=\"29\" />\n",
       "  <line x1=\"66\" y1=\"0\" x2=\"66\" y2=\"29\" />\n",
       "  <line x1=\"70\" y1=\"0\" x2=\"70\" y2=\"29\" />\n",
       "  <line x1=\"74\" y1=\"0\" x2=\"74\" y2=\"29\" />\n",
       "  <line x1=\"78\" y1=\"0\" x2=\"78\" y2=\"29\" />\n",
       "  <line x1=\"82\" y1=\"0\" x2=\"82\" y2=\"29\" />\n",
       "  <line x1=\"85\" y1=\"0\" x2=\"85\" y2=\"29\" />\n",
       "  <line x1=\"89\" y1=\"0\" x2=\"89\" y2=\"29\" />\n",
       "  <line x1=\"93\" y1=\"0\" x2=\"93\" y2=\"29\" />\n",
       "  <line x1=\"97\" y1=\"0\" x2=\"97\" y2=\"29\" />\n",
       "  <line x1=\"101\" y1=\"0\" x2=\"101\" y2=\"29\" />\n",
       "  <line x1=\"104\" y1=\"0\" x2=\"104\" y2=\"29\" />\n",
       "  <line x1=\"108\" y1=\"0\" x2=\"108\" y2=\"29\" />\n",
       "  <line x1=\"112\" y1=\"0\" x2=\"112\" y2=\"29\" />\n",
       "  <line x1=\"115\" y1=\"0\" x2=\"115\" y2=\"29\" />\n",
       "  <line x1=\"120\" y1=\"0\" x2=\"120\" y2=\"29\" style=\"stroke-width:2\" />\n",
       "\n",
       "  <!-- Colored Rectangle -->\n",
       "  <polygon points=\"0.0,0.0 120.0,0.0 120.0,29.087241068591993 0.0,29.087241068591993\" style=\"fill:#8B4903A0;stroke-width:0\"/>\n",
       "\n",
       "  <!-- Text -->\n",
       "  <text x=\"60.000000\" y=\"49.087241\" font-size=\"1.0rem\" font-weight=\"100\" text-anchor=\"middle\" >1980</text>\n",
       "  <text x=\"140.000000\" y=\"14.543621\" font-size=\"1.0rem\" font-weight=\"100\" text-anchor=\"middle\" transform=\"rotate(0,140.000000,14.543621)\">40</text>\n",
       "\n",
       "\n",
       "  <!-- Horizontal lines -->\n",
       "  <line x1=\"190\" y1=\"0\" x2=\"207\" y2=\"17\" style=\"stroke-width:2\" />\n",
       "  <line x1=\"190\" y1=\"40\" x2=\"207\" y2=\"58\" style=\"stroke-width:2\" />\n",
       "\n",
       "  <!-- Vertical lines -->\n",
       "  <line x1=\"190\" y1=\"0\" x2=\"190\" y2=\"40\" style=\"stroke-width:2\" />\n",
       "  <line x1=\"207\" y1=\"17\" x2=\"207\" y2=\"58\" style=\"stroke-width:2\" />\n",
       "\n",
       "  <!-- Colored Rectangle -->\n",
       "  <polygon points=\"190.0,0.0 207.86481430192825,17.86481430192825 207.86481430192825,58.61960692934128 190.0,40.75479262741303\" style=\"fill:#ECB172A0;stroke-width:0\"/>\n",
       "\n",
       "  <!-- Horizontal lines -->\n",
       "  <line x1=\"190\" y1=\"0\" x2=\"231\" y2=\"0\" style=\"stroke-width:2\" />\n",
       "  <line x1=\"207\" y1=\"17\" x2=\"249\" y2=\"17\" style=\"stroke-width:2\" />\n",
       "\n",
       "  <!-- Vertical lines -->\n",
       "  <line x1=\"190\" y1=\"0\" x2=\"207\" y2=\"17\" style=\"stroke-width:2\" />\n",
       "  <line x1=\"231\" y1=\"0\" x2=\"249\" y2=\"17\" style=\"stroke-width:2\" />\n",
       "\n",
       "  <!-- Colored Rectangle -->\n",
       "  <polygon points=\"190.0,0.0 231.59732749150098,0.0 249.46214179342923,17.86481430192825 207.86481430192825,17.86481430192825\" style=\"fill:#ECB172A0;stroke-width:0\"/>\n",
       "\n",
       "  <!-- Horizontal lines -->\n",
       "  <line x1=\"207\" y1=\"17\" x2=\"249\" y2=\"17\" style=\"stroke-width:2\" />\n",
       "  <line x1=\"207\" y1=\"58\" x2=\"249\" y2=\"58\" style=\"stroke-width:2\" />\n",
       "\n",
       "  <!-- Vertical lines -->\n",
       "  <line x1=\"207\" y1=\"17\" x2=\"207\" y2=\"58\" style=\"stroke-width:2\" />\n",
       "  <line x1=\"249\" y1=\"17\" x2=\"249\" y2=\"58\" style=\"stroke-width:2\" />\n",
       "\n",
       "  <!-- Colored Rectangle -->\n",
       "  <polygon points=\"207.86481430192825,17.86481430192825 249.46214179342923,17.86481430192825 249.46214179342923,58.61960692934128 207.86481430192825,58.61960692934128\" style=\"fill:#ECB172A0;stroke-width:0\"/>\n",
       "\n",
       "  <!-- Text -->\n",
       "  <text x=\"228.663478\" y=\"78.619607\" font-size=\"1.0rem\" font-weight=\"100\" text-anchor=\"middle\" >360</text>\n",
       "  <text x=\"269.462142\" y=\"38.242211\" font-size=\"1.0rem\" font-weight=\"100\" text-anchor=\"middle\" transform=\"rotate(-90,269.462142,38.242211)\">300</text>\n",
       "  <text x=\"188.932407\" y=\"69.687200\" font-size=\"1.0rem\" font-weight=\"100\" text-anchor=\"middle\" transform=\"rotate(45,188.932407,69.687200)\">50</text>\n",
       "</svg>\n",
       "        </td>\n",
       "    </tr>\n",
       "</table></div></div></li><li class='xr-section-item'><input id='section-5dec8c13-130b-48c1-ba40-e3ab61f57a8b' class='xr-section-summary-in' type='checkbox'  checked><label for='section-5dec8c13-130b-48c1-ba40-e3ab61f57a8b' class='xr-section-summary' >Coordinates: <span>(6)</span></label><div class='xr-section-inline-details'></div><div class='xr-section-details'><ul class='xr-var-list'><li class='xr-var-item'><div class='xr-var-name'><span class='xr-has-index'>time</span></div><div class='xr-var-dims'>(time)</div><div class='xr-var-dtype'>datetime64[ns]</div><div class='xr-var-preview xr-preview'>1850-01-16T12:00:00 ... 2014-12-...</div><input id='attrs-205b4847-8c34-4408-bbc9-38485f1bcdfd' class='xr-var-attrs-in' type='checkbox' ><label for='attrs-205b4847-8c34-4408-bbc9-38485f1bcdfd' title='Show/Hide attributes'><svg class='icon xr-icon-file-text2'><use xlink:href='#icon-file-text2'></use></svg></label><input id='data-34f74b0b-5578-44e3-a15e-046e5ed2066a' class='xr-var-data-in' type='checkbox'><label for='data-34f74b0b-5578-44e3-a15e-046e5ed2066a' title='Show/Hide data repr'><svg class='icon xr-icon-database'><use xlink:href='#icon-database'></use></svg></label><div class='xr-var-attrs'><dl class='xr-attrs'><dt><span>bounds :</span></dt><dd>time_bnds</dd><dt><span>axis :</span></dt><dd>T</dd><dt><span>long_name :</span></dt><dd>time</dd><dt><span>standard_name :</span></dt><dd>time</dd></dl></div><div class='xr-var-data'><pre>array([&#x27;1850-01-16T12:00:00.000000000&#x27;, &#x27;1850-02-15T00:00:00.000000000&#x27;,\n",
       "       &#x27;1850-03-16T12:00:00.000000000&#x27;, ..., &#x27;2014-10-16T12:00:00.000000000&#x27;,\n",
       "       &#x27;2014-11-16T00:00:00.000000000&#x27;, &#x27;2014-12-16T12:00:00.000000000&#x27;],\n",
       "      dtype=&#x27;datetime64[ns]&#x27;)</pre></div></li><li class='xr-var-item'><div class='xr-var-name'><span class='xr-has-index'>lev</span></div><div class='xr-var-dims'>(lev)</div><div class='xr-var-dtype'>float64</div><div class='xr-var-preview xr-preview'>5.0 15.0 ... 5.499e+03 5.831e+03</div><input id='attrs-c59b1c74-d9c4-4788-812f-9b823b15981e' class='xr-var-attrs-in' type='checkbox' ><label for='attrs-c59b1c74-d9c4-4788-812f-9b823b15981e' title='Show/Hide attributes'><svg class='icon xr-icon-file-text2'><use xlink:href='#icon-file-text2'></use></svg></label><input id='data-6171a405-2283-4283-8d4c-b5349f00f3a7' class='xr-var-data-in' type='checkbox'><label for='data-6171a405-2283-4283-8d4c-b5349f00f3a7' title='Show/Hide data repr'><svg class='icon xr-icon-database'><use xlink:href='#icon-database'></use></svg></label><div class='xr-var-attrs'><dl class='xr-attrs'><dt><span>bounds :</span></dt><dd>lev_bnds</dd><dt><span>units :</span></dt><dd>m</dd><dt><span>axis :</span></dt><dd>Z</dd><dt><span>positive :</span></dt><dd>down</dd><dt><span>long_name :</span></dt><dd>ocean depth coordinate</dd><dt><span>standard_name :</span></dt><dd>depth</dd></dl></div><div class='xr-var-data'><pre>array([5.000000e+00, 1.500000e+01, 2.500000e+01, 3.500000e+01, 4.500000e+01,\n",
       "       5.500000e+01, 6.500000e+01, 7.500000e+01, 8.500000e+01, 9.500000e+01,\n",
       "       1.050000e+02, 1.150000e+02, 1.250000e+02, 1.350000e+02, 1.450000e+02,\n",
       "       1.550000e+02, 1.650000e+02, 1.750000e+02, 1.850000e+02, 1.950000e+02,\n",
       "       2.050000e+02, 2.168468e+02, 2.413490e+02, 2.807807e+02, 3.432505e+02,\n",
       "       4.273156e+02, 5.367156e+02, 6.654141e+02, 8.127816e+02, 9.690651e+02,\n",
       "       1.130935e+03, 1.289605e+03, 1.455770e+03, 1.622926e+03, 1.801558e+03,\n",
       "       1.984855e+03, 2.182905e+03, 2.388417e+03, 2.610935e+03, 2.842564e+03,\n",
       "       3.092205e+03, 3.351295e+03, 3.628058e+03, 3.913264e+03, 4.214495e+03,\n",
       "       4.521918e+03, 4.842566e+03, 5.166130e+03, 5.499245e+03, 5.831294e+03])</pre></div></li><li class='xr-var-item'><div class='xr-var-name'><span class='xr-has-index'>j</span></div><div class='xr-var-dims'>(j)</div><div class='xr-var-dtype'>int32</div><div class='xr-var-preview xr-preview'>0 1 2 3 4 5 ... 295 296 297 298 299</div><input id='attrs-d2bab606-d107-4e7a-b658-32980c163361' class='xr-var-attrs-in' type='checkbox' ><label for='attrs-d2bab606-d107-4e7a-b658-32980c163361' title='Show/Hide attributes'><svg class='icon xr-icon-file-text2'><use xlink:href='#icon-file-text2'></use></svg></label><input id='data-fabfa547-ad8d-416b-b46c-4551cedd4c2f' class='xr-var-data-in' type='checkbox'><label for='data-fabfa547-ad8d-416b-b46c-4551cedd4c2f' title='Show/Hide data repr'><svg class='icon xr-icon-database'><use xlink:href='#icon-database'></use></svg></label><div class='xr-var-attrs'><dl class='xr-attrs'><dt><span>units :</span></dt><dd>1</dd><dt><span>long_name :</span></dt><dd>cell index along second dimension</dd></dl></div><div class='xr-var-data'><pre>array([  0,   1,   2, ..., 297, 298, 299], dtype=int32)</pre></div></li><li class='xr-var-item'><div class='xr-var-name'><span class='xr-has-index'>i</span></div><div class='xr-var-dims'>(i)</div><div class='xr-var-dtype'>int32</div><div class='xr-var-preview xr-preview'>0 1 2 3 4 5 ... 355 356 357 358 359</div><input id='attrs-5b11f142-babd-4236-86d7-d510fcac9d4b' class='xr-var-attrs-in' type='checkbox' ><label for='attrs-5b11f142-babd-4236-86d7-d510fcac9d4b' title='Show/Hide attributes'><svg class='icon xr-icon-file-text2'><use xlink:href='#icon-file-text2'></use></svg></label><input id='data-ff9c87ae-5552-4e5d-992a-05f46bb66545' class='xr-var-data-in' type='checkbox'><label for='data-ff9c87ae-5552-4e5d-992a-05f46bb66545' title='Show/Hide data repr'><svg class='icon xr-icon-database'><use xlink:href='#icon-database'></use></svg></label><div class='xr-var-attrs'><dl class='xr-attrs'><dt><span>units :</span></dt><dd>1</dd><dt><span>long_name :</span></dt><dd>cell index along first dimension</dd></dl></div><div class='xr-var-data'><pre>array([  0,   1,   2, ..., 357, 358, 359], dtype=int32)</pre></div></li><li class='xr-var-item'><div class='xr-var-name'><span>latitude</span></div><div class='xr-var-dims'>(j, i)</div><div class='xr-var-dtype'>float64</div><div class='xr-var-preview xr-preview'>-77.88 -77.88 ... 65.63 65.21</div><input id='attrs-c93e52ae-72ed-4efc-8aca-e275464645e9' class='xr-var-attrs-in' type='checkbox' ><label for='attrs-c93e52ae-72ed-4efc-8aca-e275464645e9' title='Show/Hide attributes'><svg class='icon xr-icon-file-text2'><use xlink:href='#icon-file-text2'></use></svg></label><input id='data-ccb42335-f967-4e82-b601-a14a4ae1d013' class='xr-var-data-in' type='checkbox'><label for='data-ccb42335-f967-4e82-b601-a14a4ae1d013' title='Show/Hide data repr'><svg class='icon xr-icon-database'><use xlink:href='#icon-database'></use></svg></label><div class='xr-var-attrs'><dl class='xr-attrs'><dt><span>standard_name :</span></dt><dd>latitude</dd><dt><span>long_name :</span></dt><dd>latitude</dd><dt><span>units :</span></dt><dd>degrees_north</dd><dt><span>bounds :</span></dt><dd>vertices_latitude</dd></dl></div><div class='xr-var-data'><pre>array([[-77.87662506, -77.87662506, -77.87662506, ..., -77.87662506,\n",
       "        -77.87662506, -77.87662506],\n",
       "       [-77.62971497, -77.62971497, -77.62971497, ..., -77.62971497,\n",
       "        -77.62971497, -77.62971497],\n",
       "       [-77.38170624, -77.38170624, -77.38170624, ..., -77.38170624,\n",
       "        -77.38170624, -77.38170624],\n",
       "       ...,\n",
       "       [ 65.20965576,  65.6240921 ,  66.03219604, ...,  66.03219604,\n",
       "         65.6240921 ,  65.20965576],\n",
       "       [ 65.21018219,  65.6256485 ,  66.03475189, ...,  66.03475189,\n",
       "         65.6256485 ,  65.21018219],\n",
       "       [ 65.21044159,  65.6264267 ,  66.03603363, ...,  66.03603363,\n",
       "         65.6264267 ,  65.21044159]])</pre></div></li><li class='xr-var-item'><div class='xr-var-name'><span>longitude</span></div><div class='xr-var-dims'>(j, i)</div><div class='xr-var-dtype'>float64</div><div class='xr-var-preview xr-preview'>80.5 81.5 82.5 ... 79.97 79.99</div><input id='attrs-3f59f052-d4ef-4ed6-b6a9-29bede879c06' class='xr-var-attrs-in' type='checkbox' ><label for='attrs-3f59f052-d4ef-4ed6-b6a9-29bede879c06' title='Show/Hide attributes'><svg class='icon xr-icon-file-text2'><use xlink:href='#icon-file-text2'></use></svg></label><input id='data-085fa233-3aca-4cbd-b20d-767780b8d514' class='xr-var-data-in' type='checkbox'><label for='data-085fa233-3aca-4cbd-b20d-767780b8d514' title='Show/Hide data repr'><svg class='icon xr-icon-database'><use xlink:href='#icon-database'></use></svg></label><div class='xr-var-attrs'><dl class='xr-attrs'><dt><span>standard_name :</span></dt><dd>longitude</dd><dt><span>long_name :</span></dt><dd>longitude</dd><dt><span>units :</span></dt><dd>degrees_east</dd><dt><span>bounds :</span></dt><dd>vertices_longitude</dd></dl></div><div class='xr-var-data'><pre>array([[80.5       , 81.5       , 82.5       , ..., 77.5       ,\n",
       "        78.5       , 79.5       ],\n",
       "       [80.5       , 81.5       , 82.5       , ..., 77.5       ,\n",
       "        78.5       , 79.5       ],\n",
       "       [80.5       , 81.5       , 82.5       , ..., 77.5       ,\n",
       "        78.5       , 79.5       ],\n",
       "       ...,\n",
       "       [80.04428101, 80.13287354, 80.2215271 , ..., 79.77846527,\n",
       "        79.86713409, 79.95571899],\n",
       "       [80.02658081, 80.07980347, 80.13302612, ..., 79.86695862,\n",
       "        79.92021179, 79.97341156],\n",
       "       [80.00888062, 80.02664185, 80.04440308, ..., 79.95558929,\n",
       "        79.97336578, 79.99111938]])</pre></div></li></ul></div></li><li class='xr-section-item'><input id='section-fc266254-86c1-4d39-8525-35869e1e39d2' class='xr-section-summary-in' type='checkbox'  ><label for='section-fc266254-86c1-4d39-8525-35869e1e39d2' class='xr-section-summary' >Indexes: <span>(4)</span></label><div class='xr-section-inline-details'></div><div class='xr-section-details'><ul class='xr-var-list'><li class='xr-var-item'><div class='xr-index-name'><div>time</div></div><div class='xr-index-preview'>PandasIndex</div><div></div><input id='index-7b7c0251-7c74-4039-868f-bd24b341c357' class='xr-index-data-in' type='checkbox'/><label for='index-7b7c0251-7c74-4039-868f-bd24b341c357' title='Show/Hide index repr'><svg class='icon xr-icon-database'><use xlink:href='#icon-database'></use></svg></label><div class='xr-index-data'><pre>PandasIndex(DatetimeIndex([&#x27;1850-01-16 12:00:00&#x27;, &#x27;1850-02-15 00:00:00&#x27;,\n",
       "               &#x27;1850-03-16 12:00:00&#x27;, &#x27;1850-04-16 00:00:00&#x27;,\n",
       "               &#x27;1850-05-16 12:00:00&#x27;, &#x27;1850-06-16 00:00:00&#x27;,\n",
       "               &#x27;1850-07-16 12:00:00&#x27;, &#x27;1850-08-16 12:00:00&#x27;,\n",
       "               &#x27;1850-09-16 00:00:00&#x27;, &#x27;1850-10-16 12:00:00&#x27;,\n",
       "               ...\n",
       "               &#x27;2014-03-16 12:00:00&#x27;, &#x27;2014-04-16 00:00:00&#x27;,\n",
       "               &#x27;2014-05-16 12:00:00&#x27;, &#x27;2014-06-16 00:00:00&#x27;,\n",
       "               &#x27;2014-07-16 12:00:00&#x27;, &#x27;2014-08-16 12:00:00&#x27;,\n",
       "               &#x27;2014-09-16 00:00:00&#x27;, &#x27;2014-10-16 12:00:00&#x27;,\n",
       "               &#x27;2014-11-16 00:00:00&#x27;, &#x27;2014-12-16 12:00:00&#x27;],\n",
       "              dtype=&#x27;datetime64[ns]&#x27;, name=&#x27;time&#x27;, length=1980, freq=None))</pre></div></li><li class='xr-var-item'><div class='xr-index-name'><div>lev</div></div><div class='xr-index-preview'>PandasIndex</div><div></div><input id='index-1c22ee1c-5972-45c1-b6d1-27140e708eb6' class='xr-index-data-in' type='checkbox'/><label for='index-1c22ee1c-5972-45c1-b6d1-27140e708eb6' title='Show/Hide index repr'><svg class='icon xr-icon-database'><use xlink:href='#icon-database'></use></svg></label><div class='xr-index-data'><pre>PandasIndex(Index([               5.0,               15.0,               25.0,\n",
       "                     35.0,               45.0,               55.0,\n",
       "                     65.0,               75.0,               85.0,\n",
       "                     95.0,              105.0,              115.0,\n",
       "                    125.0,              135.0,              145.0,\n",
       "                    155.0,              165.0,              175.0,\n",
       "                    185.0,              195.0,              205.0,\n",
       "        216.8467559814453, 241.34901428222656,  280.7807312011719,\n",
       "        343.2504577636719,  427.3155517578125,  536.7156372070312,\n",
       "        665.4141235351562,  812.7816162109375,  969.0651245117188,\n",
       "       1130.9349365234375, 1289.6046142578125, 1455.7701416015625,\n",
       "       1622.9256591796875,   1801.55810546875, 1984.8546142578125,\n",
       "         2182.90478515625,   2388.41748046875,   2610.93505859375,\n",
       "           2842.564453125,  3092.204833984375,  3351.294677734375,\n",
       "          3628.0576171875,  3913.264404296875,    4214.4951171875,\n",
       "            4521.91796875,   4842.56591796875,    5166.1298828125,\n",
       "          5499.2451171875,   5831.29443359375],\n",
       "      dtype=&#x27;float64&#x27;, name=&#x27;lev&#x27;))</pre></div></li><li class='xr-var-item'><div class='xr-index-name'><div>j</div></div><div class='xr-index-preview'>PandasIndex</div><div></div><input id='index-d4d4740a-c68a-40f0-9539-645da5e65488' class='xr-index-data-in' type='checkbox'/><label for='index-d4d4740a-c68a-40f0-9539-645da5e65488' title='Show/Hide index repr'><svg class='icon xr-icon-database'><use xlink:href='#icon-database'></use></svg></label><div class='xr-index-data'><pre>PandasIndex(Index([  0,   1,   2,   3,   4,   5,   6,   7,   8,   9,\n",
       "       ...\n",
       "       290, 291, 292, 293, 294, 295, 296, 297, 298, 299],\n",
       "      dtype=&#x27;int32&#x27;, name=&#x27;j&#x27;, length=300))</pre></div></li><li class='xr-var-item'><div class='xr-index-name'><div>i</div></div><div class='xr-index-preview'>PandasIndex</div><div></div><input id='index-e2f3ceea-a198-4740-954c-2d876166a678' class='xr-index-data-in' type='checkbox'/><label for='index-e2f3ceea-a198-4740-954c-2d876166a678' title='Show/Hide index repr'><svg class='icon xr-icon-database'><use xlink:href='#icon-database'></use></svg></label><div class='xr-index-data'><pre>PandasIndex(Index([  0,   1,   2,   3,   4,   5,   6,   7,   8,   9,\n",
       "       ...\n",
       "       350, 351, 352, 353, 354, 355, 356, 357, 358, 359],\n",
       "      dtype=&#x27;int32&#x27;, name=&#x27;i&#x27;, length=360))</pre></div></li></ul></div></li><li class='xr-section-item'><input id='section-10c6112e-c4a1-4e0a-ac76-47e86909f745' class='xr-section-summary-in' type='checkbox'  checked><label for='section-10c6112e-c4a1-4e0a-ac76-47e86909f745' class='xr-section-summary' >Attributes: <span>(6)</span></label><div class='xr-section-inline-details'></div><div class='xr-section-details'><dl class='xr-attrs'><dt><span>standard_name :</span></dt><dd>sea_water_potential_temperature</dd><dt><span>long_name :</span></dt><dd>Sea Water Potential Temperature</dd><dt><span>comment :</span></dt><dd>Diagnostic should be contributed even for models using conservative temperature as prognostic field.</dd><dt><span>units :</span></dt><dd>degC</dd><dt><span>cell_methods :</span></dt><dd>area: mean where sea time: mean</dd><dt><span>cell_measures :</span></dt><dd>area: areacello volume: volcello</dd></dl></div></li></ul></div></div>"
      ],
      "text/plain": [
       "<xarray.DataArray 'thetao' (member: 40, time: 1980, lev: 50, j: 300, i: 360)> Size: 2TB\n",
       "dask.array<concatenate, shape=(40, 1980, 50, 300, 360), dtype=float32, chunksize=(1, 12, 50, 300, 360), chunktype=numpy.ndarray>\n",
       "Coordinates:\n",
       "  * time       (time) datetime64[ns] 16kB 1850-01-16T12:00:00 ... 2014-12-16T...\n",
       "  * lev        (lev) float64 400B 5.0 15.0 25.0 ... 5.499e+03 5.831e+03\n",
       "  * j          (j) int32 1kB 0 1 2 3 4 5 6 7 ... 292 293 294 295 296 297 298 299\n",
       "  * i          (i) int32 1kB 0 1 2 3 4 5 6 7 ... 352 353 354 355 356 357 358 359\n",
       "    latitude   (j, i) float64 864kB -77.88 -77.88 -77.88 ... 66.04 65.63 65.21\n",
       "    longitude  (j, i) float64 864kB 80.5 81.5 82.5 83.5 ... 79.96 79.97 79.99\n",
       "Dimensions without coordinates: member\n",
       "Attributes:\n",
       "    standard_name:  sea_water_potential_temperature\n",
       "    long_name:      Sea Water Potential Temperature\n",
       "    comment:        Diagnostic should be contributed even for models using co...\n",
       "    units:          degC\n",
       "    cell_methods:   area: mean where sea time: mean\n",
       "    cell_measures:  area: areacello volume: volcello"
      ]
     },
     "execution_count": 9,
     "metadata": {},
     "output_type": "execute_result"
    }
   ],
   "source": [
    "DA_concat = DS_concat['thetao']\n",
    "DA_concat"
   ]
  },
  {
   "cell_type": "code",
   "execution_count": 10,
   "id": "ff12f458-f936-4ec9-b683-b9860c864ee1",
   "metadata": {},
   "outputs": [
    {
     "data": {
      "text/html": [
       "<div><svg style=\"position: absolute; width: 0; height: 0; overflow: hidden\">\n",
       "<defs>\n",
       "<symbol id=\"icon-database\" viewBox=\"0 0 32 32\">\n",
       "<path d=\"M16 0c-8.837 0-16 2.239-16 5v4c0 2.761 7.163 5 16 5s16-2.239 16-5v-4c0-2.761-7.163-5-16-5z\"></path>\n",
       "<path d=\"M16 17c-8.837 0-16-2.239-16-5v6c0 2.761 7.163 5 16 5s16-2.239 16-5v-6c0 2.761-7.163 5-16 5z\"></path>\n",
       "<path d=\"M16 26c-8.837 0-16-2.239-16-5v6c0 2.761 7.163 5 16 5s16-2.239 16-5v-6c0 2.761-7.163 5-16 5z\"></path>\n",
       "</symbol>\n",
       "<symbol id=\"icon-file-text2\" viewBox=\"0 0 32 32\">\n",
       "<path d=\"M28.681 7.159c-0.694-0.947-1.662-2.053-2.724-3.116s-2.169-2.030-3.116-2.724c-1.612-1.182-2.393-1.319-2.841-1.319h-15.5c-1.378 0-2.5 1.121-2.5 2.5v27c0 1.378 1.122 2.5 2.5 2.5h23c1.378 0 2.5-1.122 2.5-2.5v-19.5c0-0.448-0.137-1.23-1.319-2.841zM24.543 5.457c0.959 0.959 1.712 1.825 2.268 2.543h-4.811v-4.811c0.718 0.556 1.584 1.309 2.543 2.268zM28 29.5c0 0.271-0.229 0.5-0.5 0.5h-23c-0.271 0-0.5-0.229-0.5-0.5v-27c0-0.271 0.229-0.5 0.5-0.5 0 0 15.499-0 15.5 0v7c0 0.552 0.448 1 1 1h7v19.5z\"></path>\n",
       "<path d=\"M23 26h-14c-0.552 0-1-0.448-1-1s0.448-1 1-1h14c0.552 0 1 0.448 1 1s-0.448 1-1 1z\"></path>\n",
       "<path d=\"M23 22h-14c-0.552 0-1-0.448-1-1s0.448-1 1-1h14c0.552 0 1 0.448 1 1s-0.448 1-1 1z\"></path>\n",
       "<path d=\"M23 18h-14c-0.552 0-1-0.448-1-1s0.448-1 1-1h14c0.552 0 1 0.448 1 1s-0.448 1-1 1z\"></path>\n",
       "</symbol>\n",
       "</defs>\n",
       "</svg>\n",
       "<style>/* CSS stylesheet for displaying xarray objects in jupyterlab.\n",
       " *\n",
       " */\n",
       "\n",
       ":root {\n",
       "  --xr-font-color0: var(--jp-content-font-color0, rgba(0, 0, 0, 1));\n",
       "  --xr-font-color2: var(--jp-content-font-color2, rgba(0, 0, 0, 0.54));\n",
       "  --xr-font-color3: var(--jp-content-font-color3, rgba(0, 0, 0, 0.38));\n",
       "  --xr-border-color: var(--jp-border-color2, #e0e0e0);\n",
       "  --xr-disabled-color: var(--jp-layout-color3, #bdbdbd);\n",
       "  --xr-background-color: var(--jp-layout-color0, white);\n",
       "  --xr-background-color-row-even: var(--jp-layout-color1, white);\n",
       "  --xr-background-color-row-odd: var(--jp-layout-color2, #eeeeee);\n",
       "}\n",
       "\n",
       "html[theme=dark],\n",
       "body[data-theme=dark],\n",
       "body.vscode-dark {\n",
       "  --xr-font-color0: rgba(255, 255, 255, 1);\n",
       "  --xr-font-color2: rgba(255, 255, 255, 0.54);\n",
       "  --xr-font-color3: rgba(255, 255, 255, 0.38);\n",
       "  --xr-border-color: #1F1F1F;\n",
       "  --xr-disabled-color: #515151;\n",
       "  --xr-background-color: #111111;\n",
       "  --xr-background-color-row-even: #111111;\n",
       "  --xr-background-color-row-odd: #313131;\n",
       "}\n",
       "\n",
       ".xr-wrap {\n",
       "  display: block !important;\n",
       "  min-width: 300px;\n",
       "  max-width: 700px;\n",
       "}\n",
       "\n",
       ".xr-text-repr-fallback {\n",
       "  /* fallback to plain text repr when CSS is not injected (untrusted notebook) */\n",
       "  display: none;\n",
       "}\n",
       "\n",
       ".xr-header {\n",
       "  padding-top: 6px;\n",
       "  padding-bottom: 6px;\n",
       "  margin-bottom: 4px;\n",
       "  border-bottom: solid 1px var(--xr-border-color);\n",
       "}\n",
       "\n",
       ".xr-header > div,\n",
       ".xr-header > ul {\n",
       "  display: inline;\n",
       "  margin-top: 0;\n",
       "  margin-bottom: 0;\n",
       "}\n",
       "\n",
       ".xr-obj-type,\n",
       ".xr-array-name {\n",
       "  margin-left: 2px;\n",
       "  margin-right: 10px;\n",
       "}\n",
       "\n",
       ".xr-obj-type {\n",
       "  color: var(--xr-font-color2);\n",
       "}\n",
       "\n",
       ".xr-sections {\n",
       "  padding-left: 0 !important;\n",
       "  display: grid;\n",
       "  grid-template-columns: 150px auto auto 1fr 20px 20px;\n",
       "}\n",
       "\n",
       ".xr-section-item {\n",
       "  display: contents;\n",
       "}\n",
       "\n",
       ".xr-section-item input {\n",
       "  display: none;\n",
       "}\n",
       "\n",
       ".xr-section-item input + label {\n",
       "  color: var(--xr-disabled-color);\n",
       "}\n",
       "\n",
       ".xr-section-item input:enabled + label {\n",
       "  cursor: pointer;\n",
       "  color: var(--xr-font-color2);\n",
       "}\n",
       "\n",
       ".xr-section-item input:enabled + label:hover {\n",
       "  color: var(--xr-font-color0);\n",
       "}\n",
       "\n",
       ".xr-section-summary {\n",
       "  grid-column: 1;\n",
       "  color: var(--xr-font-color2);\n",
       "  font-weight: 500;\n",
       "}\n",
       "\n",
       ".xr-section-summary > span {\n",
       "  display: inline-block;\n",
       "  padding-left: 0.5em;\n",
       "}\n",
       "\n",
       ".xr-section-summary-in:disabled + label {\n",
       "  color: var(--xr-font-color2);\n",
       "}\n",
       "\n",
       ".xr-section-summary-in + label:before {\n",
       "  display: inline-block;\n",
       "  content: '►';\n",
       "  font-size: 11px;\n",
       "  width: 15px;\n",
       "  text-align: center;\n",
       "}\n",
       "\n",
       ".xr-section-summary-in:disabled + label:before {\n",
       "  color: var(--xr-disabled-color);\n",
       "}\n",
       "\n",
       ".xr-section-summary-in:checked + label:before {\n",
       "  content: '▼';\n",
       "}\n",
       "\n",
       ".xr-section-summary-in:checked + label > span {\n",
       "  display: none;\n",
       "}\n",
       "\n",
       ".xr-section-summary,\n",
       ".xr-section-inline-details {\n",
       "  padding-top: 4px;\n",
       "  padding-bottom: 4px;\n",
       "}\n",
       "\n",
       ".xr-section-inline-details {\n",
       "  grid-column: 2 / -1;\n",
       "}\n",
       "\n",
       ".xr-section-details {\n",
       "  display: none;\n",
       "  grid-column: 1 / -1;\n",
       "  margin-bottom: 5px;\n",
       "}\n",
       "\n",
       ".xr-section-summary-in:checked ~ .xr-section-details {\n",
       "  display: contents;\n",
       "}\n",
       "\n",
       ".xr-array-wrap {\n",
       "  grid-column: 1 / -1;\n",
       "  display: grid;\n",
       "  grid-template-columns: 20px auto;\n",
       "}\n",
       "\n",
       ".xr-array-wrap > label {\n",
       "  grid-column: 1;\n",
       "  vertical-align: top;\n",
       "}\n",
       "\n",
       ".xr-preview {\n",
       "  color: var(--xr-font-color3);\n",
       "}\n",
       "\n",
       ".xr-array-preview,\n",
       ".xr-array-data {\n",
       "  padding: 0 5px !important;\n",
       "  grid-column: 2;\n",
       "}\n",
       "\n",
       ".xr-array-data,\n",
       ".xr-array-in:checked ~ .xr-array-preview {\n",
       "  display: none;\n",
       "}\n",
       "\n",
       ".xr-array-in:checked ~ .xr-array-data,\n",
       ".xr-array-preview {\n",
       "  display: inline-block;\n",
       "}\n",
       "\n",
       ".xr-dim-list {\n",
       "  display: inline-block !important;\n",
       "  list-style: none;\n",
       "  padding: 0 !important;\n",
       "  margin: 0;\n",
       "}\n",
       "\n",
       ".xr-dim-list li {\n",
       "  display: inline-block;\n",
       "  padding: 0;\n",
       "  margin: 0;\n",
       "}\n",
       "\n",
       ".xr-dim-list:before {\n",
       "  content: '(';\n",
       "}\n",
       "\n",
       ".xr-dim-list:after {\n",
       "  content: ')';\n",
       "}\n",
       "\n",
       ".xr-dim-list li:not(:last-child):after {\n",
       "  content: ',';\n",
       "  padding-right: 5px;\n",
       "}\n",
       "\n",
       ".xr-has-index {\n",
       "  font-weight: bold;\n",
       "}\n",
       "\n",
       ".xr-var-list,\n",
       ".xr-var-item {\n",
       "  display: contents;\n",
       "}\n",
       "\n",
       ".xr-var-item > div,\n",
       ".xr-var-item label,\n",
       ".xr-var-item > .xr-var-name span {\n",
       "  background-color: var(--xr-background-color-row-even);\n",
       "  margin-bottom: 0;\n",
       "}\n",
       "\n",
       ".xr-var-item > .xr-var-name:hover span {\n",
       "  padding-right: 5px;\n",
       "}\n",
       "\n",
       ".xr-var-list > li:nth-child(odd) > div,\n",
       ".xr-var-list > li:nth-child(odd) > label,\n",
       ".xr-var-list > li:nth-child(odd) > .xr-var-name span {\n",
       "  background-color: var(--xr-background-color-row-odd);\n",
       "}\n",
       "\n",
       ".xr-var-name {\n",
       "  grid-column: 1;\n",
       "}\n",
       "\n",
       ".xr-var-dims {\n",
       "  grid-column: 2;\n",
       "}\n",
       "\n",
       ".xr-var-dtype {\n",
       "  grid-column: 3;\n",
       "  text-align: right;\n",
       "  color: var(--xr-font-color2);\n",
       "}\n",
       "\n",
       ".xr-var-preview {\n",
       "  grid-column: 4;\n",
       "}\n",
       "\n",
       ".xr-index-preview {\n",
       "  grid-column: 2 / 5;\n",
       "  color: var(--xr-font-color2);\n",
       "}\n",
       "\n",
       ".xr-var-name,\n",
       ".xr-var-dims,\n",
       ".xr-var-dtype,\n",
       ".xr-preview,\n",
       ".xr-attrs dt {\n",
       "  white-space: nowrap;\n",
       "  overflow: hidden;\n",
       "  text-overflow: ellipsis;\n",
       "  padding-right: 10px;\n",
       "}\n",
       "\n",
       ".xr-var-name:hover,\n",
       ".xr-var-dims:hover,\n",
       ".xr-var-dtype:hover,\n",
       ".xr-attrs dt:hover {\n",
       "  overflow: visible;\n",
       "  width: auto;\n",
       "  z-index: 1;\n",
       "}\n",
       "\n",
       ".xr-var-attrs,\n",
       ".xr-var-data,\n",
       ".xr-index-data {\n",
       "  display: none;\n",
       "  background-color: var(--xr-background-color) !important;\n",
       "  padding-bottom: 5px !important;\n",
       "}\n",
       "\n",
       ".xr-var-attrs-in:checked ~ .xr-var-attrs,\n",
       ".xr-var-data-in:checked ~ .xr-var-data,\n",
       ".xr-index-data-in:checked ~ .xr-index-data {\n",
       "  display: block;\n",
       "}\n",
       "\n",
       ".xr-var-data > table {\n",
       "  float: right;\n",
       "}\n",
       "\n",
       ".xr-var-name span,\n",
       ".xr-var-data,\n",
       ".xr-index-name div,\n",
       ".xr-index-data,\n",
       ".xr-attrs {\n",
       "  padding-left: 25px !important;\n",
       "}\n",
       "\n",
       ".xr-attrs,\n",
       ".xr-var-attrs,\n",
       ".xr-var-data,\n",
       ".xr-index-data {\n",
       "  grid-column: 1 / -1;\n",
       "}\n",
       "\n",
       "dl.xr-attrs {\n",
       "  padding: 0;\n",
       "  margin: 0;\n",
       "  display: grid;\n",
       "  grid-template-columns: 125px auto;\n",
       "}\n",
       "\n",
       ".xr-attrs dt,\n",
       ".xr-attrs dd {\n",
       "  padding: 0;\n",
       "  margin: 0;\n",
       "  float: left;\n",
       "  padding-right: 10px;\n",
       "  width: auto;\n",
       "}\n",
       "\n",
       ".xr-attrs dt {\n",
       "  font-weight: normal;\n",
       "  grid-column: 1;\n",
       "}\n",
       "\n",
       ".xr-attrs dt:hover span {\n",
       "  display: inline-block;\n",
       "  background: var(--xr-background-color);\n",
       "  padding-right: 10px;\n",
       "}\n",
       "\n",
       ".xr-attrs dd {\n",
       "  grid-column: 2;\n",
       "  white-space: pre-wrap;\n",
       "  word-break: break-all;\n",
       "}\n",
       "\n",
       ".xr-icon-database,\n",
       ".xr-icon-file-text2,\n",
       ".xr-no-icon {\n",
       "  display: inline-block;\n",
       "  vertical-align: middle;\n",
       "  width: 1em;\n",
       "  height: 1.5em !important;\n",
       "  stroke-width: 0;\n",
       "  stroke: currentColor;\n",
       "  fill: currentColor;\n",
       "}\n",
       "</style><pre class='xr-text-repr-fallback'>&lt;xarray.Dataset&gt; Size: 2TB\n",
       "Dimensions:    (time: 1980, lev: 50, j: 300, i: 360, member: 40)\n",
       "Coordinates:\n",
       "  * time       (time) datetime64[ns] 16kB 1850-01-16T12:00:00 ... 2014-12-16T...\n",
       "  * lev        (lev) float64 400B 5.0 15.0 25.0 ... 5.499e+03 5.831e+03\n",
       "  * j          (j) int32 1kB 0 1 2 3 4 5 6 7 ... 292 293 294 295 296 297 298 299\n",
       "  * i          (i) int32 1kB 0 1 2 3 4 5 6 7 ... 352 353 354 355 356 357 358 359\n",
       "    latitude   (j, i) float64 864kB -77.88 -77.88 -77.88 ... 66.04 65.63 65.21\n",
       "    longitude  (j, i) float64 864kB 80.5 81.5 82.5 83.5 ... 79.96 79.97 79.99\n",
       "Dimensions without coordinates: member\n",
       "Data variables:\n",
       "    thetao     (member, time, lev, j, i) float32 2TB dask.array&lt;chunksize=(1, 12, 50, 300, 360), meta=np.ndarray&gt;</pre><div class='xr-wrap' style='display:none'><div class='xr-header'><div class='xr-obj-type'>xarray.Dataset</div></div><ul class='xr-sections'><li class='xr-section-item'><input id='section-fb24d68b-7992-45d3-8716-8abe38d089b1' class='xr-section-summary-in' type='checkbox' disabled ><label for='section-fb24d68b-7992-45d3-8716-8abe38d089b1' class='xr-section-summary'  title='Expand/collapse section'>Dimensions:</label><div class='xr-section-inline-details'><ul class='xr-dim-list'><li><span class='xr-has-index'>time</span>: 1980</li><li><span class='xr-has-index'>lev</span>: 50</li><li><span class='xr-has-index'>j</span>: 300</li><li><span class='xr-has-index'>i</span>: 360</li><li><span>member</span>: 40</li></ul></div><div class='xr-section-details'></div></li><li class='xr-section-item'><input id='section-c2bf28f0-8aef-490b-896e-30101e6232b8' class='xr-section-summary-in' type='checkbox'  checked><label for='section-c2bf28f0-8aef-490b-896e-30101e6232b8' class='xr-section-summary' >Coordinates: <span>(6)</span></label><div class='xr-section-inline-details'></div><div class='xr-section-details'><ul class='xr-var-list'><li class='xr-var-item'><div class='xr-var-name'><span class='xr-has-index'>time</span></div><div class='xr-var-dims'>(time)</div><div class='xr-var-dtype'>datetime64[ns]</div><div class='xr-var-preview xr-preview'>1850-01-16T12:00:00 ... 2014-12-...</div><input id='attrs-292878b6-3e47-43ae-9952-2f01d347e879' class='xr-var-attrs-in' type='checkbox' ><label for='attrs-292878b6-3e47-43ae-9952-2f01d347e879' title='Show/Hide attributes'><svg class='icon xr-icon-file-text2'><use xlink:href='#icon-file-text2'></use></svg></label><input id='data-079835f4-209b-4433-8ccf-5e92b7521bb2' class='xr-var-data-in' type='checkbox'><label for='data-079835f4-209b-4433-8ccf-5e92b7521bb2' title='Show/Hide data repr'><svg class='icon xr-icon-database'><use xlink:href='#icon-database'></use></svg></label><div class='xr-var-attrs'><dl class='xr-attrs'><dt><span>bounds :</span></dt><dd>time_bnds</dd><dt><span>axis :</span></dt><dd>T</dd><dt><span>long_name :</span></dt><dd>time</dd><dt><span>standard_name :</span></dt><dd>time</dd></dl></div><div class='xr-var-data'><pre>array([&#x27;1850-01-16T12:00:00.000000000&#x27;, &#x27;1850-02-15T00:00:00.000000000&#x27;,\n",
       "       &#x27;1850-03-16T12:00:00.000000000&#x27;, ..., &#x27;2014-10-16T12:00:00.000000000&#x27;,\n",
       "       &#x27;2014-11-16T00:00:00.000000000&#x27;, &#x27;2014-12-16T12:00:00.000000000&#x27;],\n",
       "      dtype=&#x27;datetime64[ns]&#x27;)</pre></div></li><li class='xr-var-item'><div class='xr-var-name'><span class='xr-has-index'>lev</span></div><div class='xr-var-dims'>(lev)</div><div class='xr-var-dtype'>float64</div><div class='xr-var-preview xr-preview'>5.0 15.0 ... 5.499e+03 5.831e+03</div><input id='attrs-ad708e5e-5fe1-48b6-baa7-707ef827f4b5' class='xr-var-attrs-in' type='checkbox' ><label for='attrs-ad708e5e-5fe1-48b6-baa7-707ef827f4b5' title='Show/Hide attributes'><svg class='icon xr-icon-file-text2'><use xlink:href='#icon-file-text2'></use></svg></label><input id='data-9758c419-020b-45f0-8735-ce44c855d7de' class='xr-var-data-in' type='checkbox'><label for='data-9758c419-020b-45f0-8735-ce44c855d7de' title='Show/Hide data repr'><svg class='icon xr-icon-database'><use xlink:href='#icon-database'></use></svg></label><div class='xr-var-attrs'><dl class='xr-attrs'><dt><span>bounds :</span></dt><dd>lev_bnds</dd><dt><span>units :</span></dt><dd>m</dd><dt><span>axis :</span></dt><dd>Z</dd><dt><span>positive :</span></dt><dd>down</dd><dt><span>long_name :</span></dt><dd>ocean depth coordinate</dd><dt><span>standard_name :</span></dt><dd>depth</dd></dl></div><div class='xr-var-data'><pre>array([5.000000e+00, 1.500000e+01, 2.500000e+01, 3.500000e+01, 4.500000e+01,\n",
       "       5.500000e+01, 6.500000e+01, 7.500000e+01, 8.500000e+01, 9.500000e+01,\n",
       "       1.050000e+02, 1.150000e+02, 1.250000e+02, 1.350000e+02, 1.450000e+02,\n",
       "       1.550000e+02, 1.650000e+02, 1.750000e+02, 1.850000e+02, 1.950000e+02,\n",
       "       2.050000e+02, 2.168468e+02, 2.413490e+02, 2.807807e+02, 3.432505e+02,\n",
       "       4.273156e+02, 5.367156e+02, 6.654141e+02, 8.127816e+02, 9.690651e+02,\n",
       "       1.130935e+03, 1.289605e+03, 1.455770e+03, 1.622926e+03, 1.801558e+03,\n",
       "       1.984855e+03, 2.182905e+03, 2.388417e+03, 2.610935e+03, 2.842564e+03,\n",
       "       3.092205e+03, 3.351295e+03, 3.628058e+03, 3.913264e+03, 4.214495e+03,\n",
       "       4.521918e+03, 4.842566e+03, 5.166130e+03, 5.499245e+03, 5.831294e+03])</pre></div></li><li class='xr-var-item'><div class='xr-var-name'><span class='xr-has-index'>j</span></div><div class='xr-var-dims'>(j)</div><div class='xr-var-dtype'>int32</div><div class='xr-var-preview xr-preview'>0 1 2 3 4 5 ... 295 296 297 298 299</div><input id='attrs-d66afeef-1b64-458e-8c12-2ae44601092f' class='xr-var-attrs-in' type='checkbox' ><label for='attrs-d66afeef-1b64-458e-8c12-2ae44601092f' title='Show/Hide attributes'><svg class='icon xr-icon-file-text2'><use xlink:href='#icon-file-text2'></use></svg></label><input id='data-a5863ec5-3661-4a04-9e13-eebedf3764f9' class='xr-var-data-in' type='checkbox'><label for='data-a5863ec5-3661-4a04-9e13-eebedf3764f9' title='Show/Hide data repr'><svg class='icon xr-icon-database'><use xlink:href='#icon-database'></use></svg></label><div class='xr-var-attrs'><dl class='xr-attrs'><dt><span>units :</span></dt><dd>1</dd><dt><span>long_name :</span></dt><dd>cell index along second dimension</dd></dl></div><div class='xr-var-data'><pre>array([  0,   1,   2, ..., 297, 298, 299], dtype=int32)</pre></div></li><li class='xr-var-item'><div class='xr-var-name'><span class='xr-has-index'>i</span></div><div class='xr-var-dims'>(i)</div><div class='xr-var-dtype'>int32</div><div class='xr-var-preview xr-preview'>0 1 2 3 4 5 ... 355 356 357 358 359</div><input id='attrs-9be17b68-d715-42e6-aea4-12b0cc4c0371' class='xr-var-attrs-in' type='checkbox' ><label for='attrs-9be17b68-d715-42e6-aea4-12b0cc4c0371' title='Show/Hide attributes'><svg class='icon xr-icon-file-text2'><use xlink:href='#icon-file-text2'></use></svg></label><input id='data-ecb52341-a4a6-47cc-8129-a1d2044c04b4' class='xr-var-data-in' type='checkbox'><label for='data-ecb52341-a4a6-47cc-8129-a1d2044c04b4' title='Show/Hide data repr'><svg class='icon xr-icon-database'><use xlink:href='#icon-database'></use></svg></label><div class='xr-var-attrs'><dl class='xr-attrs'><dt><span>units :</span></dt><dd>1</dd><dt><span>long_name :</span></dt><dd>cell index along first dimension</dd></dl></div><div class='xr-var-data'><pre>array([  0,   1,   2, ..., 357, 358, 359], dtype=int32)</pre></div></li><li class='xr-var-item'><div class='xr-var-name'><span>latitude</span></div><div class='xr-var-dims'>(j, i)</div><div class='xr-var-dtype'>float64</div><div class='xr-var-preview xr-preview'>-77.88 -77.88 ... 65.63 65.21</div><input id='attrs-9172cbd6-6baa-4255-95b3-7864bf608f23' class='xr-var-attrs-in' type='checkbox' ><label for='attrs-9172cbd6-6baa-4255-95b3-7864bf608f23' title='Show/Hide attributes'><svg class='icon xr-icon-file-text2'><use xlink:href='#icon-file-text2'></use></svg></label><input id='data-3bc1c580-cc7a-45db-9770-7ee8ea3e1de2' class='xr-var-data-in' type='checkbox'><label for='data-3bc1c580-cc7a-45db-9770-7ee8ea3e1de2' title='Show/Hide data repr'><svg class='icon xr-icon-database'><use xlink:href='#icon-database'></use></svg></label><div class='xr-var-attrs'><dl class='xr-attrs'><dt><span>standard_name :</span></dt><dd>latitude</dd><dt><span>long_name :</span></dt><dd>latitude</dd><dt><span>units :</span></dt><dd>degrees_north</dd><dt><span>bounds :</span></dt><dd>vertices_latitude</dd></dl></div><div class='xr-var-data'><pre>array([[-77.87662506, -77.87662506, -77.87662506, ..., -77.87662506,\n",
       "        -77.87662506, -77.87662506],\n",
       "       [-77.62971497, -77.62971497, -77.62971497, ..., -77.62971497,\n",
       "        -77.62971497, -77.62971497],\n",
       "       [-77.38170624, -77.38170624, -77.38170624, ..., -77.38170624,\n",
       "        -77.38170624, -77.38170624],\n",
       "       ...,\n",
       "       [ 65.20965576,  65.6240921 ,  66.03219604, ...,  66.03219604,\n",
       "         65.6240921 ,  65.20965576],\n",
       "       [ 65.21018219,  65.6256485 ,  66.03475189, ...,  66.03475189,\n",
       "         65.6256485 ,  65.21018219],\n",
       "       [ 65.21044159,  65.6264267 ,  66.03603363, ...,  66.03603363,\n",
       "         65.6264267 ,  65.21044159]])</pre></div></li><li class='xr-var-item'><div class='xr-var-name'><span>longitude</span></div><div class='xr-var-dims'>(j, i)</div><div class='xr-var-dtype'>float64</div><div class='xr-var-preview xr-preview'>80.5 81.5 82.5 ... 79.97 79.99</div><input id='attrs-41833530-b6c2-41c8-b3f8-2d2c410ece3e' class='xr-var-attrs-in' type='checkbox' ><label for='attrs-41833530-b6c2-41c8-b3f8-2d2c410ece3e' title='Show/Hide attributes'><svg class='icon xr-icon-file-text2'><use xlink:href='#icon-file-text2'></use></svg></label><input id='data-67cf49ab-130c-448c-a639-af0456d9d471' class='xr-var-data-in' type='checkbox'><label for='data-67cf49ab-130c-448c-a639-af0456d9d471' title='Show/Hide data repr'><svg class='icon xr-icon-database'><use xlink:href='#icon-database'></use></svg></label><div class='xr-var-attrs'><dl class='xr-attrs'><dt><span>standard_name :</span></dt><dd>longitude</dd><dt><span>long_name :</span></dt><dd>longitude</dd><dt><span>units :</span></dt><dd>degrees_east</dd><dt><span>bounds :</span></dt><dd>vertices_longitude</dd></dl></div><div class='xr-var-data'><pre>array([[80.5       , 81.5       , 82.5       , ..., 77.5       ,\n",
       "        78.5       , 79.5       ],\n",
       "       [80.5       , 81.5       , 82.5       , ..., 77.5       ,\n",
       "        78.5       , 79.5       ],\n",
       "       [80.5       , 81.5       , 82.5       , ..., 77.5       ,\n",
       "        78.5       , 79.5       ],\n",
       "       ...,\n",
       "       [80.04428101, 80.13287354, 80.2215271 , ..., 79.77846527,\n",
       "        79.86713409, 79.95571899],\n",
       "       [80.02658081, 80.07980347, 80.13302612, ..., 79.86695862,\n",
       "        79.92021179, 79.97341156],\n",
       "       [80.00888062, 80.02664185, 80.04440308, ..., 79.95558929,\n",
       "        79.97336578, 79.99111938]])</pre></div></li></ul></div></li><li class='xr-section-item'><input id='section-0c7220d2-e28d-4749-bb16-ecbf748e6e59' class='xr-section-summary-in' type='checkbox'  checked><label for='section-0c7220d2-e28d-4749-bb16-ecbf748e6e59' class='xr-section-summary' >Data variables: <span>(1)</span></label><div class='xr-section-inline-details'></div><div class='xr-section-details'><ul class='xr-var-list'><li class='xr-var-item'><div class='xr-var-name'><span>thetao</span></div><div class='xr-var-dims'>(member, time, lev, j, i)</div><div class='xr-var-dtype'>float32</div><div class='xr-var-preview xr-preview'>dask.array&lt;chunksize=(1, 12, 50, 300, 360), meta=np.ndarray&gt;</div><input id='attrs-62630974-fa13-48bf-a078-246650fc3325' class='xr-var-attrs-in' type='checkbox' ><label for='attrs-62630974-fa13-48bf-a078-246650fc3325' title='Show/Hide attributes'><svg class='icon xr-icon-file-text2'><use xlink:href='#icon-file-text2'></use></svg></label><input id='data-8236e35d-f296-4b84-8ecc-5a68c6816d9d' class='xr-var-data-in' type='checkbox'><label for='data-8236e35d-f296-4b84-8ecc-5a68c6816d9d' title='Show/Hide data repr'><svg class='icon xr-icon-database'><use xlink:href='#icon-database'></use></svg></label><div class='xr-var-attrs'><dl class='xr-attrs'><dt><span>standard_name :</span></dt><dd>sea_water_potential_temperature</dd><dt><span>long_name :</span></dt><dd>Sea Water Potential Temperature</dd><dt><span>comment :</span></dt><dd>Diagnostic should be contributed even for models using conservative temperature as prognostic field.</dd><dt><span>units :</span></dt><dd>degC</dd><dt><span>cell_methods :</span></dt><dd>area: mean where sea time: mean</dd><dt><span>cell_measures :</span></dt><dd>area: areacello volume: volcello</dd></dl></div><div class='xr-var-data'><table>\n",
       "    <tr>\n",
       "        <td>\n",
       "            <table style=\"border-collapse: collapse;\">\n",
       "                <thead>\n",
       "                    <tr>\n",
       "                        <td> </td>\n",
       "                        <th> Array </th>\n",
       "                        <th> Chunk </th>\n",
       "                    </tr>\n",
       "                </thead>\n",
       "                <tbody>\n",
       "                    \n",
       "                    <tr>\n",
       "                        <th> Bytes </th>\n",
       "                        <td> 1.56 TiB </td>\n",
       "                        <td> 247.19 MiB </td>\n",
       "                    </tr>\n",
       "                    \n",
       "                    <tr>\n",
       "                        <th> Shape </th>\n",
       "                        <td> (40, 1980, 50, 300, 360) </td>\n",
       "                        <td> (1, 12, 50, 300, 360) </td>\n",
       "                    </tr>\n",
       "                    <tr>\n",
       "                        <th> Dask graph </th>\n",
       "                        <td colspan=\"2\"> 6600 chunks in 1441 graph layers </td>\n",
       "                    </tr>\n",
       "                    <tr>\n",
       "                        <th> Data type </th>\n",
       "                        <td colspan=\"2\"> float32 numpy.ndarray </td>\n",
       "                    </tr>\n",
       "                </tbody>\n",
       "            </table>\n",
       "        </td>\n",
       "        <td>\n",
       "        <svg width=\"489\" height=\"108\" style=\"stroke:rgb(0,0,0);stroke-width:1\" >\n",
       "\n",
       "  <!-- Horizontal lines -->\n",
       "  <line x1=\"0\" y1=\"0\" x2=\"120\" y2=\"0\" style=\"stroke-width:2\" />\n",
       "  <line x1=\"0\" y1=\"0\" x2=\"120\" y2=\"0\" />\n",
       "  <line x1=\"0\" y1=\"1\" x2=\"120\" y2=\"1\" />\n",
       "  <line x1=\"0\" y1=\"2\" x2=\"120\" y2=\"2\" />\n",
       "  <line x1=\"0\" y1=\"3\" x2=\"120\" y2=\"3\" />\n",
       "  <line x1=\"0\" y1=\"4\" x2=\"120\" y2=\"4\" />\n",
       "  <line x1=\"0\" y1=\"5\" x2=\"120\" y2=\"5\" />\n",
       "  <line x1=\"0\" y1=\"5\" x2=\"120\" y2=\"5\" />\n",
       "  <line x1=\"0\" y1=\"7\" x2=\"120\" y2=\"7\" />\n",
       "  <line x1=\"0\" y1=\"7\" x2=\"120\" y2=\"7\" />\n",
       "  <line x1=\"0\" y1=\"8\" x2=\"120\" y2=\"8\" />\n",
       "  <line x1=\"0\" y1=\"9\" x2=\"120\" y2=\"9\" />\n",
       "  <line x1=\"0\" y1=\"10\" x2=\"120\" y2=\"10\" />\n",
       "  <line x1=\"0\" y1=\"11\" x2=\"120\" y2=\"11\" />\n",
       "  <line x1=\"0\" y1=\"12\" x2=\"120\" y2=\"12\" />\n",
       "  <line x1=\"0\" y1=\"13\" x2=\"120\" y2=\"13\" />\n",
       "  <line x1=\"0\" y1=\"14\" x2=\"120\" y2=\"14\" />\n",
       "  <line x1=\"0\" y1=\"15\" x2=\"120\" y2=\"15\" />\n",
       "  <line x1=\"0\" y1=\"15\" x2=\"120\" y2=\"15\" />\n",
       "  <line x1=\"0\" y1=\"16\" x2=\"120\" y2=\"16\" />\n",
       "  <line x1=\"0\" y1=\"18\" x2=\"120\" y2=\"18\" />\n",
       "  <line x1=\"0\" y1=\"18\" x2=\"120\" y2=\"18\" />\n",
       "  <line x1=\"0\" y1=\"19\" x2=\"120\" y2=\"19\" />\n",
       "  <line x1=\"0\" y1=\"20\" x2=\"120\" y2=\"20\" />\n",
       "  <line x1=\"0\" y1=\"21\" x2=\"120\" y2=\"21\" />\n",
       "  <line x1=\"0\" y1=\"22\" x2=\"120\" y2=\"22\" />\n",
       "  <line x1=\"0\" y1=\"23\" x2=\"120\" y2=\"23\" />\n",
       "  <line x1=\"0\" y1=\"23\" x2=\"120\" y2=\"23\" />\n",
       "  <line x1=\"0\" y1=\"25\" x2=\"120\" y2=\"25\" />\n",
       "  <line x1=\"0\" y1=\"26\" x2=\"120\" y2=\"26\" />\n",
       "  <line x1=\"0\" y1=\"26\" x2=\"120\" y2=\"26\" />\n",
       "  <line x1=\"0\" y1=\"27\" x2=\"120\" y2=\"27\" />\n",
       "  <line x1=\"0\" y1=\"29\" x2=\"120\" y2=\"29\" style=\"stroke-width:2\" />\n",
       "\n",
       "  <!-- Vertical lines -->\n",
       "  <line x1=\"0\" y1=\"0\" x2=\"0\" y2=\"29\" style=\"stroke-width:2\" />\n",
       "  <line x1=\"3\" y1=\"0\" x2=\"3\" y2=\"29\" />\n",
       "  <line x1=\"7\" y1=\"0\" x2=\"7\" y2=\"29\" />\n",
       "  <line x1=\"10\" y1=\"0\" x2=\"10\" y2=\"29\" />\n",
       "  <line x1=\"14\" y1=\"0\" x2=\"14\" y2=\"29\" />\n",
       "  <line x1=\"18\" y1=\"0\" x2=\"18\" y2=\"29\" />\n",
       "  <line x1=\"21\" y1=\"0\" x2=\"21\" y2=\"29\" />\n",
       "  <line x1=\"26\" y1=\"0\" x2=\"26\" y2=\"29\" />\n",
       "  <line x1=\"29\" y1=\"0\" x2=\"29\" y2=\"29\" />\n",
       "  <line x1=\"33\" y1=\"0\" x2=\"33\" y2=\"29\" />\n",
       "  <line x1=\"37\" y1=\"0\" x2=\"37\" y2=\"29\" />\n",
       "  <line x1=\"40\" y1=\"0\" x2=\"40\" y2=\"29\" />\n",
       "  <line x1=\"44\" y1=\"0\" x2=\"44\" y2=\"29\" />\n",
       "  <line x1=\"48\" y1=\"0\" x2=\"48\" y2=\"29\" />\n",
       "  <line x1=\"52\" y1=\"0\" x2=\"52\" y2=\"29\" />\n",
       "  <line x1=\"56\" y1=\"0\" x2=\"56\" y2=\"29\" />\n",
       "  <line x1=\"59\" y1=\"0\" x2=\"59\" y2=\"29\" />\n",
       "  <line x1=\"63\" y1=\"0\" x2=\"63\" y2=\"29\" />\n",
       "  <line x1=\"66\" y1=\"0\" x2=\"66\" y2=\"29\" />\n",
       "  <line x1=\"70\" y1=\"0\" x2=\"70\" y2=\"29\" />\n",
       "  <line x1=\"74\" y1=\"0\" x2=\"74\" y2=\"29\" />\n",
       "  <line x1=\"78\" y1=\"0\" x2=\"78\" y2=\"29\" />\n",
       "  <line x1=\"82\" y1=\"0\" x2=\"82\" y2=\"29\" />\n",
       "  <line x1=\"85\" y1=\"0\" x2=\"85\" y2=\"29\" />\n",
       "  <line x1=\"89\" y1=\"0\" x2=\"89\" y2=\"29\" />\n",
       "  <line x1=\"93\" y1=\"0\" x2=\"93\" y2=\"29\" />\n",
       "  <line x1=\"97\" y1=\"0\" x2=\"97\" y2=\"29\" />\n",
       "  <line x1=\"101\" y1=\"0\" x2=\"101\" y2=\"29\" />\n",
       "  <line x1=\"104\" y1=\"0\" x2=\"104\" y2=\"29\" />\n",
       "  <line x1=\"108\" y1=\"0\" x2=\"108\" y2=\"29\" />\n",
       "  <line x1=\"112\" y1=\"0\" x2=\"112\" y2=\"29\" />\n",
       "  <line x1=\"115\" y1=\"0\" x2=\"115\" y2=\"29\" />\n",
       "  <line x1=\"120\" y1=\"0\" x2=\"120\" y2=\"29\" style=\"stroke-width:2\" />\n",
       "\n",
       "  <!-- Colored Rectangle -->\n",
       "  <polygon points=\"0.0,0.0 120.0,0.0 120.0,29.087241068591993 0.0,29.087241068591993\" style=\"fill:#8B4903A0;stroke-width:0\"/>\n",
       "\n",
       "  <!-- Text -->\n",
       "  <text x=\"60.000000\" y=\"49.087241\" font-size=\"1.0rem\" font-weight=\"100\" text-anchor=\"middle\" >1980</text>\n",
       "  <text x=\"140.000000\" y=\"14.543621\" font-size=\"1.0rem\" font-weight=\"100\" text-anchor=\"middle\" transform=\"rotate(0,140.000000,14.543621)\">40</text>\n",
       "\n",
       "\n",
       "  <!-- Horizontal lines -->\n",
       "  <line x1=\"190\" y1=\"0\" x2=\"207\" y2=\"17\" style=\"stroke-width:2\" />\n",
       "  <line x1=\"190\" y1=\"40\" x2=\"207\" y2=\"58\" style=\"stroke-width:2\" />\n",
       "\n",
       "  <!-- Vertical lines -->\n",
       "  <line x1=\"190\" y1=\"0\" x2=\"190\" y2=\"40\" style=\"stroke-width:2\" />\n",
       "  <line x1=\"207\" y1=\"17\" x2=\"207\" y2=\"58\" style=\"stroke-width:2\" />\n",
       "\n",
       "  <!-- Colored Rectangle -->\n",
       "  <polygon points=\"190.0,0.0 207.86481430192825,17.86481430192825 207.86481430192825,58.61960692934128 190.0,40.75479262741303\" style=\"fill:#ECB172A0;stroke-width:0\"/>\n",
       "\n",
       "  <!-- Horizontal lines -->\n",
       "  <line x1=\"190\" y1=\"0\" x2=\"231\" y2=\"0\" style=\"stroke-width:2\" />\n",
       "  <line x1=\"207\" y1=\"17\" x2=\"249\" y2=\"17\" style=\"stroke-width:2\" />\n",
       "\n",
       "  <!-- Vertical lines -->\n",
       "  <line x1=\"190\" y1=\"0\" x2=\"207\" y2=\"17\" style=\"stroke-width:2\" />\n",
       "  <line x1=\"231\" y1=\"0\" x2=\"249\" y2=\"17\" style=\"stroke-width:2\" />\n",
       "\n",
       "  <!-- Colored Rectangle -->\n",
       "  <polygon points=\"190.0,0.0 231.59732749150098,0.0 249.46214179342923,17.86481430192825 207.86481430192825,17.86481430192825\" style=\"fill:#ECB172A0;stroke-width:0\"/>\n",
       "\n",
       "  <!-- Horizontal lines -->\n",
       "  <line x1=\"207\" y1=\"17\" x2=\"249\" y2=\"17\" style=\"stroke-width:2\" />\n",
       "  <line x1=\"207\" y1=\"58\" x2=\"249\" y2=\"58\" style=\"stroke-width:2\" />\n",
       "\n",
       "  <!-- Vertical lines -->\n",
       "  <line x1=\"207\" y1=\"17\" x2=\"207\" y2=\"58\" style=\"stroke-width:2\" />\n",
       "  <line x1=\"249\" y1=\"17\" x2=\"249\" y2=\"58\" style=\"stroke-width:2\" />\n",
       "\n",
       "  <!-- Colored Rectangle -->\n",
       "  <polygon points=\"207.86481430192825,17.86481430192825 249.46214179342923,17.86481430192825 249.46214179342923,58.61960692934128 207.86481430192825,58.61960692934128\" style=\"fill:#ECB172A0;stroke-width:0\"/>\n",
       "\n",
       "  <!-- Text -->\n",
       "  <text x=\"228.663478\" y=\"78.619607\" font-size=\"1.0rem\" font-weight=\"100\" text-anchor=\"middle\" >360</text>\n",
       "  <text x=\"269.462142\" y=\"38.242211\" font-size=\"1.0rem\" font-weight=\"100\" text-anchor=\"middle\" transform=\"rotate(-90,269.462142,38.242211)\">300</text>\n",
       "  <text x=\"188.932407\" y=\"69.687200\" font-size=\"1.0rem\" font-weight=\"100\" text-anchor=\"middle\" transform=\"rotate(45,188.932407,69.687200)\">50</text>\n",
       "</svg>\n",
       "        </td>\n",
       "    </tr>\n",
       "</table></div></li></ul></div></li><li class='xr-section-item'><input id='section-277f7dc8-e92e-4ac0-b58b-f7a30d5cd475' class='xr-section-summary-in' type='checkbox'  ><label for='section-277f7dc8-e92e-4ac0-b58b-f7a30d5cd475' class='xr-section-summary' >Indexes: <span>(4)</span></label><div class='xr-section-inline-details'></div><div class='xr-section-details'><ul class='xr-var-list'><li class='xr-var-item'><div class='xr-index-name'><div>time</div></div><div class='xr-index-preview'>PandasIndex</div><div></div><input id='index-a6e335f3-f7af-4f4b-87ff-e7bb13b5f53c' class='xr-index-data-in' type='checkbox'/><label for='index-a6e335f3-f7af-4f4b-87ff-e7bb13b5f53c' title='Show/Hide index repr'><svg class='icon xr-icon-database'><use xlink:href='#icon-database'></use></svg></label><div class='xr-index-data'><pre>PandasIndex(DatetimeIndex([&#x27;1850-01-16 12:00:00&#x27;, &#x27;1850-02-15 00:00:00&#x27;,\n",
       "               &#x27;1850-03-16 12:00:00&#x27;, &#x27;1850-04-16 00:00:00&#x27;,\n",
       "               &#x27;1850-05-16 12:00:00&#x27;, &#x27;1850-06-16 00:00:00&#x27;,\n",
       "               &#x27;1850-07-16 12:00:00&#x27;, &#x27;1850-08-16 12:00:00&#x27;,\n",
       "               &#x27;1850-09-16 00:00:00&#x27;, &#x27;1850-10-16 12:00:00&#x27;,\n",
       "               ...\n",
       "               &#x27;2014-03-16 12:00:00&#x27;, &#x27;2014-04-16 00:00:00&#x27;,\n",
       "               &#x27;2014-05-16 12:00:00&#x27;, &#x27;2014-06-16 00:00:00&#x27;,\n",
       "               &#x27;2014-07-16 12:00:00&#x27;, &#x27;2014-08-16 12:00:00&#x27;,\n",
       "               &#x27;2014-09-16 00:00:00&#x27;, &#x27;2014-10-16 12:00:00&#x27;,\n",
       "               &#x27;2014-11-16 00:00:00&#x27;, &#x27;2014-12-16 12:00:00&#x27;],\n",
       "              dtype=&#x27;datetime64[ns]&#x27;, name=&#x27;time&#x27;, length=1980, freq=None))</pre></div></li><li class='xr-var-item'><div class='xr-index-name'><div>lev</div></div><div class='xr-index-preview'>PandasIndex</div><div></div><input id='index-194c11a8-6db4-43ce-95c9-69b6686a6de0' class='xr-index-data-in' type='checkbox'/><label for='index-194c11a8-6db4-43ce-95c9-69b6686a6de0' title='Show/Hide index repr'><svg class='icon xr-icon-database'><use xlink:href='#icon-database'></use></svg></label><div class='xr-index-data'><pre>PandasIndex(Index([               5.0,               15.0,               25.0,\n",
       "                     35.0,               45.0,               55.0,\n",
       "                     65.0,               75.0,               85.0,\n",
       "                     95.0,              105.0,              115.0,\n",
       "                    125.0,              135.0,              145.0,\n",
       "                    155.0,              165.0,              175.0,\n",
       "                    185.0,              195.0,              205.0,\n",
       "        216.8467559814453, 241.34901428222656,  280.7807312011719,\n",
       "        343.2504577636719,  427.3155517578125,  536.7156372070312,\n",
       "        665.4141235351562,  812.7816162109375,  969.0651245117188,\n",
       "       1130.9349365234375, 1289.6046142578125, 1455.7701416015625,\n",
       "       1622.9256591796875,   1801.55810546875, 1984.8546142578125,\n",
       "         2182.90478515625,   2388.41748046875,   2610.93505859375,\n",
       "           2842.564453125,  3092.204833984375,  3351.294677734375,\n",
       "          3628.0576171875,  3913.264404296875,    4214.4951171875,\n",
       "            4521.91796875,   4842.56591796875,    5166.1298828125,\n",
       "          5499.2451171875,   5831.29443359375],\n",
       "      dtype=&#x27;float64&#x27;, name=&#x27;lev&#x27;))</pre></div></li><li class='xr-var-item'><div class='xr-index-name'><div>j</div></div><div class='xr-index-preview'>PandasIndex</div><div></div><input id='index-8b9c192d-fc56-41fc-950d-db42b7a3c3f8' class='xr-index-data-in' type='checkbox'/><label for='index-8b9c192d-fc56-41fc-950d-db42b7a3c3f8' title='Show/Hide index repr'><svg class='icon xr-icon-database'><use xlink:href='#icon-database'></use></svg></label><div class='xr-index-data'><pre>PandasIndex(Index([  0,   1,   2,   3,   4,   5,   6,   7,   8,   9,\n",
       "       ...\n",
       "       290, 291, 292, 293, 294, 295, 296, 297, 298, 299],\n",
       "      dtype=&#x27;int32&#x27;, name=&#x27;j&#x27;, length=300))</pre></div></li><li class='xr-var-item'><div class='xr-index-name'><div>i</div></div><div class='xr-index-preview'>PandasIndex</div><div></div><input id='index-bcf817a0-2cd4-401a-bd79-53b9ae681edd' class='xr-index-data-in' type='checkbox'/><label for='index-bcf817a0-2cd4-401a-bd79-53b9ae681edd' title='Show/Hide index repr'><svg class='icon xr-icon-database'><use xlink:href='#icon-database'></use></svg></label><div class='xr-index-data'><pre>PandasIndex(Index([  0,   1,   2,   3,   4,   5,   6,   7,   8,   9,\n",
       "       ...\n",
       "       350, 351, 352, 353, 354, 355, 356, 357, 358, 359],\n",
       "      dtype=&#x27;int32&#x27;, name=&#x27;i&#x27;, length=360))</pre></div></li></ul></div></li><li class='xr-section-item'><input id='section-03ccbc87-5e33-4b65-84f2-b5039064003d' class='xr-section-summary-in' type='checkbox' disabled ><label for='section-03ccbc87-5e33-4b65-84f2-b5039064003d' class='xr-section-summary'  title='Expand/collapse section'>Attributes: <span>(0)</span></label><div class='xr-section-inline-details'></div><div class='xr-section-details'><dl class='xr-attrs'></dl></div></li></ul></div></div>"
      ],
      "text/plain": [
       "<xarray.Dataset> Size: 2TB\n",
       "Dimensions:    (time: 1980, lev: 50, j: 300, i: 360, member: 40)\n",
       "Coordinates:\n",
       "  * time       (time) datetime64[ns] 16kB 1850-01-16T12:00:00 ... 2014-12-16T...\n",
       "  * lev        (lev) float64 400B 5.0 15.0 25.0 ... 5.499e+03 5.831e+03\n",
       "  * j          (j) int32 1kB 0 1 2 3 4 5 6 7 ... 292 293 294 295 296 297 298 299\n",
       "  * i          (i) int32 1kB 0 1 2 3 4 5 6 7 ... 352 353 354 355 356 357 358 359\n",
       "    latitude   (j, i) float64 864kB -77.88 -77.88 -77.88 ... 66.04 65.63 65.21\n",
       "    longitude  (j, i) float64 864kB 80.5 81.5 82.5 83.5 ... 79.96 79.97 79.99\n",
       "Dimensions without coordinates: member\n",
       "Data variables:\n",
       "    thetao     (member, time, lev, j, i) float32 2TB dask.array<chunksize=(1, 12, 50, 300, 360), meta=np.ndarray>"
      ]
     },
     "execution_count": 10,
     "metadata": {},
     "output_type": "execute_result"
    }
   ],
   "source": [
    "DS_out = DA_concat.to_dataset()\n",
    "DS_out"
   ]
  },
  {
   "cell_type": "markdown",
   "id": "bf2992db-989b-4d10-98f5-eb6ed038a0ed",
   "metadata": {},
   "source": [
    "# drop multi-dimensional coordinates"
   ]
  },
  {
   "cell_type": "code",
   "execution_count": 11,
   "id": "a7a5f952-f10a-4cf0-adbb-b12919bc993a",
   "metadata": {},
   "outputs": [
    {
     "name": "stderr",
     "output_type": "stream",
     "text": [
      "/jobfs/121717339.gadi-pbs/ipykernel_2339981/742450614.py:1: DeprecationWarning: dropping variables using `drop` is deprecated; use drop_vars.\n",
      "  DS_out = DS_out.drop(['latitude','longitude'])\n"
     ]
    }
   ],
   "source": [
    "DS_out = DS_out.drop(['latitude','longitude'])"
   ]
  },
  {
   "cell_type": "code",
   "execution_count": 12,
   "id": "c166c9c5-4ebb-41ea-a54d-a70965e3d812",
   "metadata": {},
   "outputs": [
    {
     "data": {
      "text/html": [
       "<div><svg style=\"position: absolute; width: 0; height: 0; overflow: hidden\">\n",
       "<defs>\n",
       "<symbol id=\"icon-database\" viewBox=\"0 0 32 32\">\n",
       "<path d=\"M16 0c-8.837 0-16 2.239-16 5v4c0 2.761 7.163 5 16 5s16-2.239 16-5v-4c0-2.761-7.163-5-16-5z\"></path>\n",
       "<path d=\"M16 17c-8.837 0-16-2.239-16-5v6c0 2.761 7.163 5 16 5s16-2.239 16-5v-6c0 2.761-7.163 5-16 5z\"></path>\n",
       "<path d=\"M16 26c-8.837 0-16-2.239-16-5v6c0 2.761 7.163 5 16 5s16-2.239 16-5v-6c0 2.761-7.163 5-16 5z\"></path>\n",
       "</symbol>\n",
       "<symbol id=\"icon-file-text2\" viewBox=\"0 0 32 32\">\n",
       "<path d=\"M28.681 7.159c-0.694-0.947-1.662-2.053-2.724-3.116s-2.169-2.030-3.116-2.724c-1.612-1.182-2.393-1.319-2.841-1.319h-15.5c-1.378 0-2.5 1.121-2.5 2.5v27c0 1.378 1.122 2.5 2.5 2.5h23c1.378 0 2.5-1.122 2.5-2.5v-19.5c0-0.448-0.137-1.23-1.319-2.841zM24.543 5.457c0.959 0.959 1.712 1.825 2.268 2.543h-4.811v-4.811c0.718 0.556 1.584 1.309 2.543 2.268zM28 29.5c0 0.271-0.229 0.5-0.5 0.5h-23c-0.271 0-0.5-0.229-0.5-0.5v-27c0-0.271 0.229-0.5 0.5-0.5 0 0 15.499-0 15.5 0v7c0 0.552 0.448 1 1 1h7v19.5z\"></path>\n",
       "<path d=\"M23 26h-14c-0.552 0-1-0.448-1-1s0.448-1 1-1h14c0.552 0 1 0.448 1 1s-0.448 1-1 1z\"></path>\n",
       "<path d=\"M23 22h-14c-0.552 0-1-0.448-1-1s0.448-1 1-1h14c0.552 0 1 0.448 1 1s-0.448 1-1 1z\"></path>\n",
       "<path d=\"M23 18h-14c-0.552 0-1-0.448-1-1s0.448-1 1-1h14c0.552 0 1 0.448 1 1s-0.448 1-1 1z\"></path>\n",
       "</symbol>\n",
       "</defs>\n",
       "</svg>\n",
       "<style>/* CSS stylesheet for displaying xarray objects in jupyterlab.\n",
       " *\n",
       " */\n",
       "\n",
       ":root {\n",
       "  --xr-font-color0: var(--jp-content-font-color0, rgba(0, 0, 0, 1));\n",
       "  --xr-font-color2: var(--jp-content-font-color2, rgba(0, 0, 0, 0.54));\n",
       "  --xr-font-color3: var(--jp-content-font-color3, rgba(0, 0, 0, 0.38));\n",
       "  --xr-border-color: var(--jp-border-color2, #e0e0e0);\n",
       "  --xr-disabled-color: var(--jp-layout-color3, #bdbdbd);\n",
       "  --xr-background-color: var(--jp-layout-color0, white);\n",
       "  --xr-background-color-row-even: var(--jp-layout-color1, white);\n",
       "  --xr-background-color-row-odd: var(--jp-layout-color2, #eeeeee);\n",
       "}\n",
       "\n",
       "html[theme=dark],\n",
       "body[data-theme=dark],\n",
       "body.vscode-dark {\n",
       "  --xr-font-color0: rgba(255, 255, 255, 1);\n",
       "  --xr-font-color2: rgba(255, 255, 255, 0.54);\n",
       "  --xr-font-color3: rgba(255, 255, 255, 0.38);\n",
       "  --xr-border-color: #1F1F1F;\n",
       "  --xr-disabled-color: #515151;\n",
       "  --xr-background-color: #111111;\n",
       "  --xr-background-color-row-even: #111111;\n",
       "  --xr-background-color-row-odd: #313131;\n",
       "}\n",
       "\n",
       ".xr-wrap {\n",
       "  display: block !important;\n",
       "  min-width: 300px;\n",
       "  max-width: 700px;\n",
       "}\n",
       "\n",
       ".xr-text-repr-fallback {\n",
       "  /* fallback to plain text repr when CSS is not injected (untrusted notebook) */\n",
       "  display: none;\n",
       "}\n",
       "\n",
       ".xr-header {\n",
       "  padding-top: 6px;\n",
       "  padding-bottom: 6px;\n",
       "  margin-bottom: 4px;\n",
       "  border-bottom: solid 1px var(--xr-border-color);\n",
       "}\n",
       "\n",
       ".xr-header > div,\n",
       ".xr-header > ul {\n",
       "  display: inline;\n",
       "  margin-top: 0;\n",
       "  margin-bottom: 0;\n",
       "}\n",
       "\n",
       ".xr-obj-type,\n",
       ".xr-array-name {\n",
       "  margin-left: 2px;\n",
       "  margin-right: 10px;\n",
       "}\n",
       "\n",
       ".xr-obj-type {\n",
       "  color: var(--xr-font-color2);\n",
       "}\n",
       "\n",
       ".xr-sections {\n",
       "  padding-left: 0 !important;\n",
       "  display: grid;\n",
       "  grid-template-columns: 150px auto auto 1fr 20px 20px;\n",
       "}\n",
       "\n",
       ".xr-section-item {\n",
       "  display: contents;\n",
       "}\n",
       "\n",
       ".xr-section-item input {\n",
       "  display: none;\n",
       "}\n",
       "\n",
       ".xr-section-item input + label {\n",
       "  color: var(--xr-disabled-color);\n",
       "}\n",
       "\n",
       ".xr-section-item input:enabled + label {\n",
       "  cursor: pointer;\n",
       "  color: var(--xr-font-color2);\n",
       "}\n",
       "\n",
       ".xr-section-item input:enabled + label:hover {\n",
       "  color: var(--xr-font-color0);\n",
       "}\n",
       "\n",
       ".xr-section-summary {\n",
       "  grid-column: 1;\n",
       "  color: var(--xr-font-color2);\n",
       "  font-weight: 500;\n",
       "}\n",
       "\n",
       ".xr-section-summary > span {\n",
       "  display: inline-block;\n",
       "  padding-left: 0.5em;\n",
       "}\n",
       "\n",
       ".xr-section-summary-in:disabled + label {\n",
       "  color: var(--xr-font-color2);\n",
       "}\n",
       "\n",
       ".xr-section-summary-in + label:before {\n",
       "  display: inline-block;\n",
       "  content: '►';\n",
       "  font-size: 11px;\n",
       "  width: 15px;\n",
       "  text-align: center;\n",
       "}\n",
       "\n",
       ".xr-section-summary-in:disabled + label:before {\n",
       "  color: var(--xr-disabled-color);\n",
       "}\n",
       "\n",
       ".xr-section-summary-in:checked + label:before {\n",
       "  content: '▼';\n",
       "}\n",
       "\n",
       ".xr-section-summary-in:checked + label > span {\n",
       "  display: none;\n",
       "}\n",
       "\n",
       ".xr-section-summary,\n",
       ".xr-section-inline-details {\n",
       "  padding-top: 4px;\n",
       "  padding-bottom: 4px;\n",
       "}\n",
       "\n",
       ".xr-section-inline-details {\n",
       "  grid-column: 2 / -1;\n",
       "}\n",
       "\n",
       ".xr-section-details {\n",
       "  display: none;\n",
       "  grid-column: 1 / -1;\n",
       "  margin-bottom: 5px;\n",
       "}\n",
       "\n",
       ".xr-section-summary-in:checked ~ .xr-section-details {\n",
       "  display: contents;\n",
       "}\n",
       "\n",
       ".xr-array-wrap {\n",
       "  grid-column: 1 / -1;\n",
       "  display: grid;\n",
       "  grid-template-columns: 20px auto;\n",
       "}\n",
       "\n",
       ".xr-array-wrap > label {\n",
       "  grid-column: 1;\n",
       "  vertical-align: top;\n",
       "}\n",
       "\n",
       ".xr-preview {\n",
       "  color: var(--xr-font-color3);\n",
       "}\n",
       "\n",
       ".xr-array-preview,\n",
       ".xr-array-data {\n",
       "  padding: 0 5px !important;\n",
       "  grid-column: 2;\n",
       "}\n",
       "\n",
       ".xr-array-data,\n",
       ".xr-array-in:checked ~ .xr-array-preview {\n",
       "  display: none;\n",
       "}\n",
       "\n",
       ".xr-array-in:checked ~ .xr-array-data,\n",
       ".xr-array-preview {\n",
       "  display: inline-block;\n",
       "}\n",
       "\n",
       ".xr-dim-list {\n",
       "  display: inline-block !important;\n",
       "  list-style: none;\n",
       "  padding: 0 !important;\n",
       "  margin: 0;\n",
       "}\n",
       "\n",
       ".xr-dim-list li {\n",
       "  display: inline-block;\n",
       "  padding: 0;\n",
       "  margin: 0;\n",
       "}\n",
       "\n",
       ".xr-dim-list:before {\n",
       "  content: '(';\n",
       "}\n",
       "\n",
       ".xr-dim-list:after {\n",
       "  content: ')';\n",
       "}\n",
       "\n",
       ".xr-dim-list li:not(:last-child):after {\n",
       "  content: ',';\n",
       "  padding-right: 5px;\n",
       "}\n",
       "\n",
       ".xr-has-index {\n",
       "  font-weight: bold;\n",
       "}\n",
       "\n",
       ".xr-var-list,\n",
       ".xr-var-item {\n",
       "  display: contents;\n",
       "}\n",
       "\n",
       ".xr-var-item > div,\n",
       ".xr-var-item label,\n",
       ".xr-var-item > .xr-var-name span {\n",
       "  background-color: var(--xr-background-color-row-even);\n",
       "  margin-bottom: 0;\n",
       "}\n",
       "\n",
       ".xr-var-item > .xr-var-name:hover span {\n",
       "  padding-right: 5px;\n",
       "}\n",
       "\n",
       ".xr-var-list > li:nth-child(odd) > div,\n",
       ".xr-var-list > li:nth-child(odd) > label,\n",
       ".xr-var-list > li:nth-child(odd) > .xr-var-name span {\n",
       "  background-color: var(--xr-background-color-row-odd);\n",
       "}\n",
       "\n",
       ".xr-var-name {\n",
       "  grid-column: 1;\n",
       "}\n",
       "\n",
       ".xr-var-dims {\n",
       "  grid-column: 2;\n",
       "}\n",
       "\n",
       ".xr-var-dtype {\n",
       "  grid-column: 3;\n",
       "  text-align: right;\n",
       "  color: var(--xr-font-color2);\n",
       "}\n",
       "\n",
       ".xr-var-preview {\n",
       "  grid-column: 4;\n",
       "}\n",
       "\n",
       ".xr-index-preview {\n",
       "  grid-column: 2 / 5;\n",
       "  color: var(--xr-font-color2);\n",
       "}\n",
       "\n",
       ".xr-var-name,\n",
       ".xr-var-dims,\n",
       ".xr-var-dtype,\n",
       ".xr-preview,\n",
       ".xr-attrs dt {\n",
       "  white-space: nowrap;\n",
       "  overflow: hidden;\n",
       "  text-overflow: ellipsis;\n",
       "  padding-right: 10px;\n",
       "}\n",
       "\n",
       ".xr-var-name:hover,\n",
       ".xr-var-dims:hover,\n",
       ".xr-var-dtype:hover,\n",
       ".xr-attrs dt:hover {\n",
       "  overflow: visible;\n",
       "  width: auto;\n",
       "  z-index: 1;\n",
       "}\n",
       "\n",
       ".xr-var-attrs,\n",
       ".xr-var-data,\n",
       ".xr-index-data {\n",
       "  display: none;\n",
       "  background-color: var(--xr-background-color) !important;\n",
       "  padding-bottom: 5px !important;\n",
       "}\n",
       "\n",
       ".xr-var-attrs-in:checked ~ .xr-var-attrs,\n",
       ".xr-var-data-in:checked ~ .xr-var-data,\n",
       ".xr-index-data-in:checked ~ .xr-index-data {\n",
       "  display: block;\n",
       "}\n",
       "\n",
       ".xr-var-data > table {\n",
       "  float: right;\n",
       "}\n",
       "\n",
       ".xr-var-name span,\n",
       ".xr-var-data,\n",
       ".xr-index-name div,\n",
       ".xr-index-data,\n",
       ".xr-attrs {\n",
       "  padding-left: 25px !important;\n",
       "}\n",
       "\n",
       ".xr-attrs,\n",
       ".xr-var-attrs,\n",
       ".xr-var-data,\n",
       ".xr-index-data {\n",
       "  grid-column: 1 / -1;\n",
       "}\n",
       "\n",
       "dl.xr-attrs {\n",
       "  padding: 0;\n",
       "  margin: 0;\n",
       "  display: grid;\n",
       "  grid-template-columns: 125px auto;\n",
       "}\n",
       "\n",
       ".xr-attrs dt,\n",
       ".xr-attrs dd {\n",
       "  padding: 0;\n",
       "  margin: 0;\n",
       "  float: left;\n",
       "  padding-right: 10px;\n",
       "  width: auto;\n",
       "}\n",
       "\n",
       ".xr-attrs dt {\n",
       "  font-weight: normal;\n",
       "  grid-column: 1;\n",
       "}\n",
       "\n",
       ".xr-attrs dt:hover span {\n",
       "  display: inline-block;\n",
       "  background: var(--xr-background-color);\n",
       "  padding-right: 10px;\n",
       "}\n",
       "\n",
       ".xr-attrs dd {\n",
       "  grid-column: 2;\n",
       "  white-space: pre-wrap;\n",
       "  word-break: break-all;\n",
       "}\n",
       "\n",
       ".xr-icon-database,\n",
       ".xr-icon-file-text2,\n",
       ".xr-no-icon {\n",
       "  display: inline-block;\n",
       "  vertical-align: middle;\n",
       "  width: 1em;\n",
       "  height: 1.5em !important;\n",
       "  stroke-width: 0;\n",
       "  stroke: currentColor;\n",
       "  fill: currentColor;\n",
       "}\n",
       "</style><pre class='xr-text-repr-fallback'>&lt;xarray.Dataset&gt; Size: 2TB\n",
       "Dimensions:  (time: 1980, lev: 50, j: 300, i: 360, member: 40)\n",
       "Coordinates:\n",
       "  * time     (time) datetime64[ns] 16kB 1850-01-16T12:00:00 ... 2014-12-16T12...\n",
       "  * lev      (lev) float64 400B 5.0 15.0 25.0 ... 5.166e+03 5.499e+03 5.831e+03\n",
       "  * j        (j) int32 1kB 0 1 2 3 4 5 6 7 8 ... 292 293 294 295 296 297 298 299\n",
       "  * i        (i) int32 1kB 0 1 2 3 4 5 6 7 8 ... 352 353 354 355 356 357 358 359\n",
       "Dimensions without coordinates: member\n",
       "Data variables:\n",
       "    thetao   (member, time, lev, j, i) float32 2TB dask.array&lt;chunksize=(1, 12, 50, 300, 360), meta=np.ndarray&gt;</pre><div class='xr-wrap' style='display:none'><div class='xr-header'><div class='xr-obj-type'>xarray.Dataset</div></div><ul class='xr-sections'><li class='xr-section-item'><input id='section-ee2d676b-5f33-4d46-9885-ae496c4ddcd7' class='xr-section-summary-in' type='checkbox' disabled ><label for='section-ee2d676b-5f33-4d46-9885-ae496c4ddcd7' class='xr-section-summary'  title='Expand/collapse section'>Dimensions:</label><div class='xr-section-inline-details'><ul class='xr-dim-list'><li><span class='xr-has-index'>time</span>: 1980</li><li><span class='xr-has-index'>lev</span>: 50</li><li><span class='xr-has-index'>j</span>: 300</li><li><span class='xr-has-index'>i</span>: 360</li><li><span>member</span>: 40</li></ul></div><div class='xr-section-details'></div></li><li class='xr-section-item'><input id='section-ecadeac4-f478-4c5a-be30-854945d10b7a' class='xr-section-summary-in' type='checkbox'  checked><label for='section-ecadeac4-f478-4c5a-be30-854945d10b7a' class='xr-section-summary' >Coordinates: <span>(4)</span></label><div class='xr-section-inline-details'></div><div class='xr-section-details'><ul class='xr-var-list'><li class='xr-var-item'><div class='xr-var-name'><span class='xr-has-index'>time</span></div><div class='xr-var-dims'>(time)</div><div class='xr-var-dtype'>datetime64[ns]</div><div class='xr-var-preview xr-preview'>1850-01-16T12:00:00 ... 2014-12-...</div><input id='attrs-20290faf-77a1-488b-9bc0-5738e8533803' class='xr-var-attrs-in' type='checkbox' ><label for='attrs-20290faf-77a1-488b-9bc0-5738e8533803' title='Show/Hide attributes'><svg class='icon xr-icon-file-text2'><use xlink:href='#icon-file-text2'></use></svg></label><input id='data-1ad7a4e6-2553-466f-94b1-7ae3f3dae7f1' class='xr-var-data-in' type='checkbox'><label for='data-1ad7a4e6-2553-466f-94b1-7ae3f3dae7f1' title='Show/Hide data repr'><svg class='icon xr-icon-database'><use xlink:href='#icon-database'></use></svg></label><div class='xr-var-attrs'><dl class='xr-attrs'><dt><span>bounds :</span></dt><dd>time_bnds</dd><dt><span>axis :</span></dt><dd>T</dd><dt><span>long_name :</span></dt><dd>time</dd><dt><span>standard_name :</span></dt><dd>time</dd></dl></div><div class='xr-var-data'><pre>array([&#x27;1850-01-16T12:00:00.000000000&#x27;, &#x27;1850-02-15T00:00:00.000000000&#x27;,\n",
       "       &#x27;1850-03-16T12:00:00.000000000&#x27;, ..., &#x27;2014-10-16T12:00:00.000000000&#x27;,\n",
       "       &#x27;2014-11-16T00:00:00.000000000&#x27;, &#x27;2014-12-16T12:00:00.000000000&#x27;],\n",
       "      dtype=&#x27;datetime64[ns]&#x27;)</pre></div></li><li class='xr-var-item'><div class='xr-var-name'><span class='xr-has-index'>lev</span></div><div class='xr-var-dims'>(lev)</div><div class='xr-var-dtype'>float64</div><div class='xr-var-preview xr-preview'>5.0 15.0 ... 5.499e+03 5.831e+03</div><input id='attrs-24b207c7-267f-4d4d-a725-eb505ac481a1' class='xr-var-attrs-in' type='checkbox' ><label for='attrs-24b207c7-267f-4d4d-a725-eb505ac481a1' title='Show/Hide attributes'><svg class='icon xr-icon-file-text2'><use xlink:href='#icon-file-text2'></use></svg></label><input id='data-e52be89b-d020-409e-aa15-c7f83a5a9e8e' class='xr-var-data-in' type='checkbox'><label for='data-e52be89b-d020-409e-aa15-c7f83a5a9e8e' title='Show/Hide data repr'><svg class='icon xr-icon-database'><use xlink:href='#icon-database'></use></svg></label><div class='xr-var-attrs'><dl class='xr-attrs'><dt><span>bounds :</span></dt><dd>lev_bnds</dd><dt><span>units :</span></dt><dd>m</dd><dt><span>axis :</span></dt><dd>Z</dd><dt><span>positive :</span></dt><dd>down</dd><dt><span>long_name :</span></dt><dd>ocean depth coordinate</dd><dt><span>standard_name :</span></dt><dd>depth</dd></dl></div><div class='xr-var-data'><pre>array([5.000000e+00, 1.500000e+01, 2.500000e+01, 3.500000e+01, 4.500000e+01,\n",
       "       5.500000e+01, 6.500000e+01, 7.500000e+01, 8.500000e+01, 9.500000e+01,\n",
       "       1.050000e+02, 1.150000e+02, 1.250000e+02, 1.350000e+02, 1.450000e+02,\n",
       "       1.550000e+02, 1.650000e+02, 1.750000e+02, 1.850000e+02, 1.950000e+02,\n",
       "       2.050000e+02, 2.168468e+02, 2.413490e+02, 2.807807e+02, 3.432505e+02,\n",
       "       4.273156e+02, 5.367156e+02, 6.654141e+02, 8.127816e+02, 9.690651e+02,\n",
       "       1.130935e+03, 1.289605e+03, 1.455770e+03, 1.622926e+03, 1.801558e+03,\n",
       "       1.984855e+03, 2.182905e+03, 2.388417e+03, 2.610935e+03, 2.842564e+03,\n",
       "       3.092205e+03, 3.351295e+03, 3.628058e+03, 3.913264e+03, 4.214495e+03,\n",
       "       4.521918e+03, 4.842566e+03, 5.166130e+03, 5.499245e+03, 5.831294e+03])</pre></div></li><li class='xr-var-item'><div class='xr-var-name'><span class='xr-has-index'>j</span></div><div class='xr-var-dims'>(j)</div><div class='xr-var-dtype'>int32</div><div class='xr-var-preview xr-preview'>0 1 2 3 4 5 ... 295 296 297 298 299</div><input id='attrs-8e47e557-e3bc-440b-ab4b-b4545337554c' class='xr-var-attrs-in' type='checkbox' ><label for='attrs-8e47e557-e3bc-440b-ab4b-b4545337554c' title='Show/Hide attributes'><svg class='icon xr-icon-file-text2'><use xlink:href='#icon-file-text2'></use></svg></label><input id='data-d23f6123-1da9-4cbd-bf1c-8c462e84b9a1' class='xr-var-data-in' type='checkbox'><label for='data-d23f6123-1da9-4cbd-bf1c-8c462e84b9a1' title='Show/Hide data repr'><svg class='icon xr-icon-database'><use xlink:href='#icon-database'></use></svg></label><div class='xr-var-attrs'><dl class='xr-attrs'><dt><span>units :</span></dt><dd>1</dd><dt><span>long_name :</span></dt><dd>cell index along second dimension</dd></dl></div><div class='xr-var-data'><pre>array([  0,   1,   2, ..., 297, 298, 299], dtype=int32)</pre></div></li><li class='xr-var-item'><div class='xr-var-name'><span class='xr-has-index'>i</span></div><div class='xr-var-dims'>(i)</div><div class='xr-var-dtype'>int32</div><div class='xr-var-preview xr-preview'>0 1 2 3 4 5 ... 355 356 357 358 359</div><input id='attrs-0c2ea8b9-0411-43c5-a918-565c5cade1d9' class='xr-var-attrs-in' type='checkbox' ><label for='attrs-0c2ea8b9-0411-43c5-a918-565c5cade1d9' title='Show/Hide attributes'><svg class='icon xr-icon-file-text2'><use xlink:href='#icon-file-text2'></use></svg></label><input id='data-51a71dab-0363-415b-80b8-6aa2814b1413' class='xr-var-data-in' type='checkbox'><label for='data-51a71dab-0363-415b-80b8-6aa2814b1413' title='Show/Hide data repr'><svg class='icon xr-icon-database'><use xlink:href='#icon-database'></use></svg></label><div class='xr-var-attrs'><dl class='xr-attrs'><dt><span>units :</span></dt><dd>1</dd><dt><span>long_name :</span></dt><dd>cell index along first dimension</dd></dl></div><div class='xr-var-data'><pre>array([  0,   1,   2, ..., 357, 358, 359], dtype=int32)</pre></div></li></ul></div></li><li class='xr-section-item'><input id='section-d19ed3be-a83b-450d-8b2a-2afb418f14f6' class='xr-section-summary-in' type='checkbox'  checked><label for='section-d19ed3be-a83b-450d-8b2a-2afb418f14f6' class='xr-section-summary' >Data variables: <span>(1)</span></label><div class='xr-section-inline-details'></div><div class='xr-section-details'><ul class='xr-var-list'><li class='xr-var-item'><div class='xr-var-name'><span>thetao</span></div><div class='xr-var-dims'>(member, time, lev, j, i)</div><div class='xr-var-dtype'>float32</div><div class='xr-var-preview xr-preview'>dask.array&lt;chunksize=(1, 12, 50, 300, 360), meta=np.ndarray&gt;</div><input id='attrs-37307fb4-f1a0-4107-bdd9-7bbd6ce2a898' class='xr-var-attrs-in' type='checkbox' ><label for='attrs-37307fb4-f1a0-4107-bdd9-7bbd6ce2a898' title='Show/Hide attributes'><svg class='icon xr-icon-file-text2'><use xlink:href='#icon-file-text2'></use></svg></label><input id='data-806c7a09-eb62-407f-b70e-fca4d11806f5' class='xr-var-data-in' type='checkbox'><label for='data-806c7a09-eb62-407f-b70e-fca4d11806f5' title='Show/Hide data repr'><svg class='icon xr-icon-database'><use xlink:href='#icon-database'></use></svg></label><div class='xr-var-attrs'><dl class='xr-attrs'><dt><span>standard_name :</span></dt><dd>sea_water_potential_temperature</dd><dt><span>long_name :</span></dt><dd>Sea Water Potential Temperature</dd><dt><span>comment :</span></dt><dd>Diagnostic should be contributed even for models using conservative temperature as prognostic field.</dd><dt><span>units :</span></dt><dd>degC</dd><dt><span>cell_methods :</span></dt><dd>area: mean where sea time: mean</dd><dt><span>cell_measures :</span></dt><dd>area: areacello volume: volcello</dd></dl></div><div class='xr-var-data'><table>\n",
       "    <tr>\n",
       "        <td>\n",
       "            <table style=\"border-collapse: collapse;\">\n",
       "                <thead>\n",
       "                    <tr>\n",
       "                        <td> </td>\n",
       "                        <th> Array </th>\n",
       "                        <th> Chunk </th>\n",
       "                    </tr>\n",
       "                </thead>\n",
       "                <tbody>\n",
       "                    \n",
       "                    <tr>\n",
       "                        <th> Bytes </th>\n",
       "                        <td> 1.56 TiB </td>\n",
       "                        <td> 247.19 MiB </td>\n",
       "                    </tr>\n",
       "                    \n",
       "                    <tr>\n",
       "                        <th> Shape </th>\n",
       "                        <td> (40, 1980, 50, 300, 360) </td>\n",
       "                        <td> (1, 12, 50, 300, 360) </td>\n",
       "                    </tr>\n",
       "                    <tr>\n",
       "                        <th> Dask graph </th>\n",
       "                        <td colspan=\"2\"> 6600 chunks in 1441 graph layers </td>\n",
       "                    </tr>\n",
       "                    <tr>\n",
       "                        <th> Data type </th>\n",
       "                        <td colspan=\"2\"> float32 numpy.ndarray </td>\n",
       "                    </tr>\n",
       "                </tbody>\n",
       "            </table>\n",
       "        </td>\n",
       "        <td>\n",
       "        <svg width=\"489\" height=\"108\" style=\"stroke:rgb(0,0,0);stroke-width:1\" >\n",
       "\n",
       "  <!-- Horizontal lines -->\n",
       "  <line x1=\"0\" y1=\"0\" x2=\"120\" y2=\"0\" style=\"stroke-width:2\" />\n",
       "  <line x1=\"0\" y1=\"0\" x2=\"120\" y2=\"0\" />\n",
       "  <line x1=\"0\" y1=\"1\" x2=\"120\" y2=\"1\" />\n",
       "  <line x1=\"0\" y1=\"2\" x2=\"120\" y2=\"2\" />\n",
       "  <line x1=\"0\" y1=\"3\" x2=\"120\" y2=\"3\" />\n",
       "  <line x1=\"0\" y1=\"4\" x2=\"120\" y2=\"4\" />\n",
       "  <line x1=\"0\" y1=\"5\" x2=\"120\" y2=\"5\" />\n",
       "  <line x1=\"0\" y1=\"5\" x2=\"120\" y2=\"5\" />\n",
       "  <line x1=\"0\" y1=\"7\" x2=\"120\" y2=\"7\" />\n",
       "  <line x1=\"0\" y1=\"7\" x2=\"120\" y2=\"7\" />\n",
       "  <line x1=\"0\" y1=\"8\" x2=\"120\" y2=\"8\" />\n",
       "  <line x1=\"0\" y1=\"9\" x2=\"120\" y2=\"9\" />\n",
       "  <line x1=\"0\" y1=\"10\" x2=\"120\" y2=\"10\" />\n",
       "  <line x1=\"0\" y1=\"11\" x2=\"120\" y2=\"11\" />\n",
       "  <line x1=\"0\" y1=\"12\" x2=\"120\" y2=\"12\" />\n",
       "  <line x1=\"0\" y1=\"13\" x2=\"120\" y2=\"13\" />\n",
       "  <line x1=\"0\" y1=\"14\" x2=\"120\" y2=\"14\" />\n",
       "  <line x1=\"0\" y1=\"15\" x2=\"120\" y2=\"15\" />\n",
       "  <line x1=\"0\" y1=\"15\" x2=\"120\" y2=\"15\" />\n",
       "  <line x1=\"0\" y1=\"16\" x2=\"120\" y2=\"16\" />\n",
       "  <line x1=\"0\" y1=\"18\" x2=\"120\" y2=\"18\" />\n",
       "  <line x1=\"0\" y1=\"18\" x2=\"120\" y2=\"18\" />\n",
       "  <line x1=\"0\" y1=\"19\" x2=\"120\" y2=\"19\" />\n",
       "  <line x1=\"0\" y1=\"20\" x2=\"120\" y2=\"20\" />\n",
       "  <line x1=\"0\" y1=\"21\" x2=\"120\" y2=\"21\" />\n",
       "  <line x1=\"0\" y1=\"22\" x2=\"120\" y2=\"22\" />\n",
       "  <line x1=\"0\" y1=\"23\" x2=\"120\" y2=\"23\" />\n",
       "  <line x1=\"0\" y1=\"23\" x2=\"120\" y2=\"23\" />\n",
       "  <line x1=\"0\" y1=\"25\" x2=\"120\" y2=\"25\" />\n",
       "  <line x1=\"0\" y1=\"26\" x2=\"120\" y2=\"26\" />\n",
       "  <line x1=\"0\" y1=\"26\" x2=\"120\" y2=\"26\" />\n",
       "  <line x1=\"0\" y1=\"27\" x2=\"120\" y2=\"27\" />\n",
       "  <line x1=\"0\" y1=\"29\" x2=\"120\" y2=\"29\" style=\"stroke-width:2\" />\n",
       "\n",
       "  <!-- Vertical lines -->\n",
       "  <line x1=\"0\" y1=\"0\" x2=\"0\" y2=\"29\" style=\"stroke-width:2\" />\n",
       "  <line x1=\"3\" y1=\"0\" x2=\"3\" y2=\"29\" />\n",
       "  <line x1=\"7\" y1=\"0\" x2=\"7\" y2=\"29\" />\n",
       "  <line x1=\"10\" y1=\"0\" x2=\"10\" y2=\"29\" />\n",
       "  <line x1=\"14\" y1=\"0\" x2=\"14\" y2=\"29\" />\n",
       "  <line x1=\"18\" y1=\"0\" x2=\"18\" y2=\"29\" />\n",
       "  <line x1=\"21\" y1=\"0\" x2=\"21\" y2=\"29\" />\n",
       "  <line x1=\"26\" y1=\"0\" x2=\"26\" y2=\"29\" />\n",
       "  <line x1=\"29\" y1=\"0\" x2=\"29\" y2=\"29\" />\n",
       "  <line x1=\"33\" y1=\"0\" x2=\"33\" y2=\"29\" />\n",
       "  <line x1=\"37\" y1=\"0\" x2=\"37\" y2=\"29\" />\n",
       "  <line x1=\"40\" y1=\"0\" x2=\"40\" y2=\"29\" />\n",
       "  <line x1=\"44\" y1=\"0\" x2=\"44\" y2=\"29\" />\n",
       "  <line x1=\"48\" y1=\"0\" x2=\"48\" y2=\"29\" />\n",
       "  <line x1=\"52\" y1=\"0\" x2=\"52\" y2=\"29\" />\n",
       "  <line x1=\"56\" y1=\"0\" x2=\"56\" y2=\"29\" />\n",
       "  <line x1=\"59\" y1=\"0\" x2=\"59\" y2=\"29\" />\n",
       "  <line x1=\"63\" y1=\"0\" x2=\"63\" y2=\"29\" />\n",
       "  <line x1=\"66\" y1=\"0\" x2=\"66\" y2=\"29\" />\n",
       "  <line x1=\"70\" y1=\"0\" x2=\"70\" y2=\"29\" />\n",
       "  <line x1=\"74\" y1=\"0\" x2=\"74\" y2=\"29\" />\n",
       "  <line x1=\"78\" y1=\"0\" x2=\"78\" y2=\"29\" />\n",
       "  <line x1=\"82\" y1=\"0\" x2=\"82\" y2=\"29\" />\n",
       "  <line x1=\"85\" y1=\"0\" x2=\"85\" y2=\"29\" />\n",
       "  <line x1=\"89\" y1=\"0\" x2=\"89\" y2=\"29\" />\n",
       "  <line x1=\"93\" y1=\"0\" x2=\"93\" y2=\"29\" />\n",
       "  <line x1=\"97\" y1=\"0\" x2=\"97\" y2=\"29\" />\n",
       "  <line x1=\"101\" y1=\"0\" x2=\"101\" y2=\"29\" />\n",
       "  <line x1=\"104\" y1=\"0\" x2=\"104\" y2=\"29\" />\n",
       "  <line x1=\"108\" y1=\"0\" x2=\"108\" y2=\"29\" />\n",
       "  <line x1=\"112\" y1=\"0\" x2=\"112\" y2=\"29\" />\n",
       "  <line x1=\"115\" y1=\"0\" x2=\"115\" y2=\"29\" />\n",
       "  <line x1=\"120\" y1=\"0\" x2=\"120\" y2=\"29\" style=\"stroke-width:2\" />\n",
       "\n",
       "  <!-- Colored Rectangle -->\n",
       "  <polygon points=\"0.0,0.0 120.0,0.0 120.0,29.087241068591993 0.0,29.087241068591993\" style=\"fill:#8B4903A0;stroke-width:0\"/>\n",
       "\n",
       "  <!-- Text -->\n",
       "  <text x=\"60.000000\" y=\"49.087241\" font-size=\"1.0rem\" font-weight=\"100\" text-anchor=\"middle\" >1980</text>\n",
       "  <text x=\"140.000000\" y=\"14.543621\" font-size=\"1.0rem\" font-weight=\"100\" text-anchor=\"middle\" transform=\"rotate(0,140.000000,14.543621)\">40</text>\n",
       "\n",
       "\n",
       "  <!-- Horizontal lines -->\n",
       "  <line x1=\"190\" y1=\"0\" x2=\"207\" y2=\"17\" style=\"stroke-width:2\" />\n",
       "  <line x1=\"190\" y1=\"40\" x2=\"207\" y2=\"58\" style=\"stroke-width:2\" />\n",
       "\n",
       "  <!-- Vertical lines -->\n",
       "  <line x1=\"190\" y1=\"0\" x2=\"190\" y2=\"40\" style=\"stroke-width:2\" />\n",
       "  <line x1=\"207\" y1=\"17\" x2=\"207\" y2=\"58\" style=\"stroke-width:2\" />\n",
       "\n",
       "  <!-- Colored Rectangle -->\n",
       "  <polygon points=\"190.0,0.0 207.86481430192825,17.86481430192825 207.86481430192825,58.61960692934128 190.0,40.75479262741303\" style=\"fill:#ECB172A0;stroke-width:0\"/>\n",
       "\n",
       "  <!-- Horizontal lines -->\n",
       "  <line x1=\"190\" y1=\"0\" x2=\"231\" y2=\"0\" style=\"stroke-width:2\" />\n",
       "  <line x1=\"207\" y1=\"17\" x2=\"249\" y2=\"17\" style=\"stroke-width:2\" />\n",
       "\n",
       "  <!-- Vertical lines -->\n",
       "  <line x1=\"190\" y1=\"0\" x2=\"207\" y2=\"17\" style=\"stroke-width:2\" />\n",
       "  <line x1=\"231\" y1=\"0\" x2=\"249\" y2=\"17\" style=\"stroke-width:2\" />\n",
       "\n",
       "  <!-- Colored Rectangle -->\n",
       "  <polygon points=\"190.0,0.0 231.59732749150098,0.0 249.46214179342923,17.86481430192825 207.86481430192825,17.86481430192825\" style=\"fill:#ECB172A0;stroke-width:0\"/>\n",
       "\n",
       "  <!-- Horizontal lines -->\n",
       "  <line x1=\"207\" y1=\"17\" x2=\"249\" y2=\"17\" style=\"stroke-width:2\" />\n",
       "  <line x1=\"207\" y1=\"58\" x2=\"249\" y2=\"58\" style=\"stroke-width:2\" />\n",
       "\n",
       "  <!-- Vertical lines -->\n",
       "  <line x1=\"207\" y1=\"17\" x2=\"207\" y2=\"58\" style=\"stroke-width:2\" />\n",
       "  <line x1=\"249\" y1=\"17\" x2=\"249\" y2=\"58\" style=\"stroke-width:2\" />\n",
       "\n",
       "  <!-- Colored Rectangle -->\n",
       "  <polygon points=\"207.86481430192825,17.86481430192825 249.46214179342923,17.86481430192825 249.46214179342923,58.61960692934128 207.86481430192825,58.61960692934128\" style=\"fill:#ECB172A0;stroke-width:0\"/>\n",
       "\n",
       "  <!-- Text -->\n",
       "  <text x=\"228.663478\" y=\"78.619607\" font-size=\"1.0rem\" font-weight=\"100\" text-anchor=\"middle\" >360</text>\n",
       "  <text x=\"269.462142\" y=\"38.242211\" font-size=\"1.0rem\" font-weight=\"100\" text-anchor=\"middle\" transform=\"rotate(-90,269.462142,38.242211)\">300</text>\n",
       "  <text x=\"188.932407\" y=\"69.687200\" font-size=\"1.0rem\" font-weight=\"100\" text-anchor=\"middle\" transform=\"rotate(45,188.932407,69.687200)\">50</text>\n",
       "</svg>\n",
       "        </td>\n",
       "    </tr>\n",
       "</table></div></li></ul></div></li><li class='xr-section-item'><input id='section-4ba63f4d-f06e-49bc-80c7-905d2c70010e' class='xr-section-summary-in' type='checkbox'  ><label for='section-4ba63f4d-f06e-49bc-80c7-905d2c70010e' class='xr-section-summary' >Indexes: <span>(4)</span></label><div class='xr-section-inline-details'></div><div class='xr-section-details'><ul class='xr-var-list'><li class='xr-var-item'><div class='xr-index-name'><div>time</div></div><div class='xr-index-preview'>PandasIndex</div><div></div><input id='index-4b5c7193-a527-4ebc-8a50-ed300c54c00b' class='xr-index-data-in' type='checkbox'/><label for='index-4b5c7193-a527-4ebc-8a50-ed300c54c00b' title='Show/Hide index repr'><svg class='icon xr-icon-database'><use xlink:href='#icon-database'></use></svg></label><div class='xr-index-data'><pre>PandasIndex(DatetimeIndex([&#x27;1850-01-16 12:00:00&#x27;, &#x27;1850-02-15 00:00:00&#x27;,\n",
       "               &#x27;1850-03-16 12:00:00&#x27;, &#x27;1850-04-16 00:00:00&#x27;,\n",
       "               &#x27;1850-05-16 12:00:00&#x27;, &#x27;1850-06-16 00:00:00&#x27;,\n",
       "               &#x27;1850-07-16 12:00:00&#x27;, &#x27;1850-08-16 12:00:00&#x27;,\n",
       "               &#x27;1850-09-16 00:00:00&#x27;, &#x27;1850-10-16 12:00:00&#x27;,\n",
       "               ...\n",
       "               &#x27;2014-03-16 12:00:00&#x27;, &#x27;2014-04-16 00:00:00&#x27;,\n",
       "               &#x27;2014-05-16 12:00:00&#x27;, &#x27;2014-06-16 00:00:00&#x27;,\n",
       "               &#x27;2014-07-16 12:00:00&#x27;, &#x27;2014-08-16 12:00:00&#x27;,\n",
       "               &#x27;2014-09-16 00:00:00&#x27;, &#x27;2014-10-16 12:00:00&#x27;,\n",
       "               &#x27;2014-11-16 00:00:00&#x27;, &#x27;2014-12-16 12:00:00&#x27;],\n",
       "              dtype=&#x27;datetime64[ns]&#x27;, name=&#x27;time&#x27;, length=1980, freq=None))</pre></div></li><li class='xr-var-item'><div class='xr-index-name'><div>lev</div></div><div class='xr-index-preview'>PandasIndex</div><div></div><input id='index-ff06f914-2d84-45a4-83a0-5e238c12751e' class='xr-index-data-in' type='checkbox'/><label for='index-ff06f914-2d84-45a4-83a0-5e238c12751e' title='Show/Hide index repr'><svg class='icon xr-icon-database'><use xlink:href='#icon-database'></use></svg></label><div class='xr-index-data'><pre>PandasIndex(Index([               5.0,               15.0,               25.0,\n",
       "                     35.0,               45.0,               55.0,\n",
       "                     65.0,               75.0,               85.0,\n",
       "                     95.0,              105.0,              115.0,\n",
       "                    125.0,              135.0,              145.0,\n",
       "                    155.0,              165.0,              175.0,\n",
       "                    185.0,              195.0,              205.0,\n",
       "        216.8467559814453, 241.34901428222656,  280.7807312011719,\n",
       "        343.2504577636719,  427.3155517578125,  536.7156372070312,\n",
       "        665.4141235351562,  812.7816162109375,  969.0651245117188,\n",
       "       1130.9349365234375, 1289.6046142578125, 1455.7701416015625,\n",
       "       1622.9256591796875,   1801.55810546875, 1984.8546142578125,\n",
       "         2182.90478515625,   2388.41748046875,   2610.93505859375,\n",
       "           2842.564453125,  3092.204833984375,  3351.294677734375,\n",
       "          3628.0576171875,  3913.264404296875,    4214.4951171875,\n",
       "            4521.91796875,   4842.56591796875,    5166.1298828125,\n",
       "          5499.2451171875,   5831.29443359375],\n",
       "      dtype=&#x27;float64&#x27;, name=&#x27;lev&#x27;))</pre></div></li><li class='xr-var-item'><div class='xr-index-name'><div>j</div></div><div class='xr-index-preview'>PandasIndex</div><div></div><input id='index-03b6c4ee-c028-490d-b863-8914716b7e94' class='xr-index-data-in' type='checkbox'/><label for='index-03b6c4ee-c028-490d-b863-8914716b7e94' title='Show/Hide index repr'><svg class='icon xr-icon-database'><use xlink:href='#icon-database'></use></svg></label><div class='xr-index-data'><pre>PandasIndex(Index([  0,   1,   2,   3,   4,   5,   6,   7,   8,   9,\n",
       "       ...\n",
       "       290, 291, 292, 293, 294, 295, 296, 297, 298, 299],\n",
       "      dtype=&#x27;int32&#x27;, name=&#x27;j&#x27;, length=300))</pre></div></li><li class='xr-var-item'><div class='xr-index-name'><div>i</div></div><div class='xr-index-preview'>PandasIndex</div><div></div><input id='index-cd1d5826-5552-42d2-a7cb-c5af86bb9eb9' class='xr-index-data-in' type='checkbox'/><label for='index-cd1d5826-5552-42d2-a7cb-c5af86bb9eb9' title='Show/Hide index repr'><svg class='icon xr-icon-database'><use xlink:href='#icon-database'></use></svg></label><div class='xr-index-data'><pre>PandasIndex(Index([  0,   1,   2,   3,   4,   5,   6,   7,   8,   9,\n",
       "       ...\n",
       "       350, 351, 352, 353, 354, 355, 356, 357, 358, 359],\n",
       "      dtype=&#x27;int32&#x27;, name=&#x27;i&#x27;, length=360))</pre></div></li></ul></div></li><li class='xr-section-item'><input id='section-f3898864-4b83-458a-849b-1d7213791fd4' class='xr-section-summary-in' type='checkbox' disabled ><label for='section-f3898864-4b83-458a-849b-1d7213791fd4' class='xr-section-summary'  title='Expand/collapse section'>Attributes: <span>(0)</span></label><div class='xr-section-inline-details'></div><div class='xr-section-details'><dl class='xr-attrs'></dl></div></li></ul></div></div>"
      ],
      "text/plain": [
       "<xarray.Dataset> Size: 2TB\n",
       "Dimensions:  (time: 1980, lev: 50, j: 300, i: 360, member: 40)\n",
       "Coordinates:\n",
       "  * time     (time) datetime64[ns] 16kB 1850-01-16T12:00:00 ... 2014-12-16T12...\n",
       "  * lev      (lev) float64 400B 5.0 15.0 25.0 ... 5.166e+03 5.499e+03 5.831e+03\n",
       "  * j        (j) int32 1kB 0 1 2 3 4 5 6 7 8 ... 292 293 294 295 296 297 298 299\n",
       "  * i        (i) int32 1kB 0 1 2 3 4 5 6 7 8 ... 352 353 354 355 356 357 358 359\n",
       "Dimensions without coordinates: member\n",
       "Data variables:\n",
       "    thetao   (member, time, lev, j, i) float32 2TB dask.array<chunksize=(1, 12, 50, 300, 360), meta=np.ndarray>"
      ]
     },
     "execution_count": 12,
     "metadata": {},
     "output_type": "execute_result"
    }
   ],
   "source": [
    "DS_out"
   ]
  },
  {
   "cell_type": "markdown",
   "id": "74a57e02-5396-4394-b137-94622cf1d239",
   "metadata": {},
   "source": [
    "# remove encoding"
   ]
  },
  {
   "cell_type": "code",
   "execution_count": 13,
   "id": "c5b9151b-c612-4b92-8a35-2297d155aceb",
   "metadata": {},
   "outputs": [],
   "source": [
    "def remove_zarr_encoding(DS):\n",
    "    for var in DS:\n",
    "        DS[var].encoding = {}\n",
    "\n",
    "    for coord in DS.coords:\n",
    "        DS[coord].encoding = {}\n",
    "    return DS"
   ]
  },
  {
   "cell_type": "code",
   "execution_count": 14,
   "id": "e06a18c7-3156-40c2-be11-6321274dbac6",
   "metadata": {},
   "outputs": [
    {
     "data": {
      "text/plain": [
       "{'dtype': dtype('float32'),\n",
       " 'zlib': True,\n",
       " 'szip': False,\n",
       " 'zstd': False,\n",
       " 'bzip2': False,\n",
       " 'blosc': False,\n",
       " 'shuffle': False,\n",
       " 'complevel': 1,\n",
       " 'fletcher32': False,\n",
       " 'contiguous': False,\n",
       " 'chunksizes': (1, 25, 150, 180),\n",
       " 'preferred_chunks': {'time': 1, 'lev': 25, 'j': 150, 'i': 180},\n",
       " 'source': '/g/data/fs38/publications/CMIP6/CMIP/CSIRO/ACCESS-ESM1-5/historical/r39i1p1f1/Omon/thetao/gn/files/d20210525/thetao_Omon_ACCESS-ESM1-5_historical_r39i1p1f1_gn_185001-185912.nc',\n",
       " 'original_shape': (120, 50, 300, 360),\n",
       " 'missing_value': 1e+20,\n",
       " '_FillValue': 1e+20,\n",
       " 'coordinates': 'latitude longitude'}"
      ]
     },
     "execution_count": 14,
     "metadata": {},
     "output_type": "execute_result"
    }
   ],
   "source": [
    "DS_out.thetao.encoding"
   ]
  },
  {
   "cell_type": "code",
   "execution_count": 15,
   "id": "03e06ca8-2a90-49cd-9240-5fc1e444a64e",
   "metadata": {},
   "outputs": [
    {
     "data": {
      "text/html": [
       "<div><svg style=\"position: absolute; width: 0; height: 0; overflow: hidden\">\n",
       "<defs>\n",
       "<symbol id=\"icon-database\" viewBox=\"0 0 32 32\">\n",
       "<path d=\"M16 0c-8.837 0-16 2.239-16 5v4c0 2.761 7.163 5 16 5s16-2.239 16-5v-4c0-2.761-7.163-5-16-5z\"></path>\n",
       "<path d=\"M16 17c-8.837 0-16-2.239-16-5v6c0 2.761 7.163 5 16 5s16-2.239 16-5v-6c0 2.761-7.163 5-16 5z\"></path>\n",
       "<path d=\"M16 26c-8.837 0-16-2.239-16-5v6c0 2.761 7.163 5 16 5s16-2.239 16-5v-6c0 2.761-7.163 5-16 5z\"></path>\n",
       "</symbol>\n",
       "<symbol id=\"icon-file-text2\" viewBox=\"0 0 32 32\">\n",
       "<path d=\"M28.681 7.159c-0.694-0.947-1.662-2.053-2.724-3.116s-2.169-2.030-3.116-2.724c-1.612-1.182-2.393-1.319-2.841-1.319h-15.5c-1.378 0-2.5 1.121-2.5 2.5v27c0 1.378 1.122 2.5 2.5 2.5h23c1.378 0 2.5-1.122 2.5-2.5v-19.5c0-0.448-0.137-1.23-1.319-2.841zM24.543 5.457c0.959 0.959 1.712 1.825 2.268 2.543h-4.811v-4.811c0.718 0.556 1.584 1.309 2.543 2.268zM28 29.5c0 0.271-0.229 0.5-0.5 0.5h-23c-0.271 0-0.5-0.229-0.5-0.5v-27c0-0.271 0.229-0.5 0.5-0.5 0 0 15.499-0 15.5 0v7c0 0.552 0.448 1 1 1h7v19.5z\"></path>\n",
       "<path d=\"M23 26h-14c-0.552 0-1-0.448-1-1s0.448-1 1-1h14c0.552 0 1 0.448 1 1s-0.448 1-1 1z\"></path>\n",
       "<path d=\"M23 22h-14c-0.552 0-1-0.448-1-1s0.448-1 1-1h14c0.552 0 1 0.448 1 1s-0.448 1-1 1z\"></path>\n",
       "<path d=\"M23 18h-14c-0.552 0-1-0.448-1-1s0.448-1 1-1h14c0.552 0 1 0.448 1 1s-0.448 1-1 1z\"></path>\n",
       "</symbol>\n",
       "</defs>\n",
       "</svg>\n",
       "<style>/* CSS stylesheet for displaying xarray objects in jupyterlab.\n",
       " *\n",
       " */\n",
       "\n",
       ":root {\n",
       "  --xr-font-color0: var(--jp-content-font-color0, rgba(0, 0, 0, 1));\n",
       "  --xr-font-color2: var(--jp-content-font-color2, rgba(0, 0, 0, 0.54));\n",
       "  --xr-font-color3: var(--jp-content-font-color3, rgba(0, 0, 0, 0.38));\n",
       "  --xr-border-color: var(--jp-border-color2, #e0e0e0);\n",
       "  --xr-disabled-color: var(--jp-layout-color3, #bdbdbd);\n",
       "  --xr-background-color: var(--jp-layout-color0, white);\n",
       "  --xr-background-color-row-even: var(--jp-layout-color1, white);\n",
       "  --xr-background-color-row-odd: var(--jp-layout-color2, #eeeeee);\n",
       "}\n",
       "\n",
       "html[theme=dark],\n",
       "body[data-theme=dark],\n",
       "body.vscode-dark {\n",
       "  --xr-font-color0: rgba(255, 255, 255, 1);\n",
       "  --xr-font-color2: rgba(255, 255, 255, 0.54);\n",
       "  --xr-font-color3: rgba(255, 255, 255, 0.38);\n",
       "  --xr-border-color: #1F1F1F;\n",
       "  --xr-disabled-color: #515151;\n",
       "  --xr-background-color: #111111;\n",
       "  --xr-background-color-row-even: #111111;\n",
       "  --xr-background-color-row-odd: #313131;\n",
       "}\n",
       "\n",
       ".xr-wrap {\n",
       "  display: block !important;\n",
       "  min-width: 300px;\n",
       "  max-width: 700px;\n",
       "}\n",
       "\n",
       ".xr-text-repr-fallback {\n",
       "  /* fallback to plain text repr when CSS is not injected (untrusted notebook) */\n",
       "  display: none;\n",
       "}\n",
       "\n",
       ".xr-header {\n",
       "  padding-top: 6px;\n",
       "  padding-bottom: 6px;\n",
       "  margin-bottom: 4px;\n",
       "  border-bottom: solid 1px var(--xr-border-color);\n",
       "}\n",
       "\n",
       ".xr-header > div,\n",
       ".xr-header > ul {\n",
       "  display: inline;\n",
       "  margin-top: 0;\n",
       "  margin-bottom: 0;\n",
       "}\n",
       "\n",
       ".xr-obj-type,\n",
       ".xr-array-name {\n",
       "  margin-left: 2px;\n",
       "  margin-right: 10px;\n",
       "}\n",
       "\n",
       ".xr-obj-type {\n",
       "  color: var(--xr-font-color2);\n",
       "}\n",
       "\n",
       ".xr-sections {\n",
       "  padding-left: 0 !important;\n",
       "  display: grid;\n",
       "  grid-template-columns: 150px auto auto 1fr 20px 20px;\n",
       "}\n",
       "\n",
       ".xr-section-item {\n",
       "  display: contents;\n",
       "}\n",
       "\n",
       ".xr-section-item input {\n",
       "  display: none;\n",
       "}\n",
       "\n",
       ".xr-section-item input + label {\n",
       "  color: var(--xr-disabled-color);\n",
       "}\n",
       "\n",
       ".xr-section-item input:enabled + label {\n",
       "  cursor: pointer;\n",
       "  color: var(--xr-font-color2);\n",
       "}\n",
       "\n",
       ".xr-section-item input:enabled + label:hover {\n",
       "  color: var(--xr-font-color0);\n",
       "}\n",
       "\n",
       ".xr-section-summary {\n",
       "  grid-column: 1;\n",
       "  color: var(--xr-font-color2);\n",
       "  font-weight: 500;\n",
       "}\n",
       "\n",
       ".xr-section-summary > span {\n",
       "  display: inline-block;\n",
       "  padding-left: 0.5em;\n",
       "}\n",
       "\n",
       ".xr-section-summary-in:disabled + label {\n",
       "  color: var(--xr-font-color2);\n",
       "}\n",
       "\n",
       ".xr-section-summary-in + label:before {\n",
       "  display: inline-block;\n",
       "  content: '►';\n",
       "  font-size: 11px;\n",
       "  width: 15px;\n",
       "  text-align: center;\n",
       "}\n",
       "\n",
       ".xr-section-summary-in:disabled + label:before {\n",
       "  color: var(--xr-disabled-color);\n",
       "}\n",
       "\n",
       ".xr-section-summary-in:checked + label:before {\n",
       "  content: '▼';\n",
       "}\n",
       "\n",
       ".xr-section-summary-in:checked + label > span {\n",
       "  display: none;\n",
       "}\n",
       "\n",
       ".xr-section-summary,\n",
       ".xr-section-inline-details {\n",
       "  padding-top: 4px;\n",
       "  padding-bottom: 4px;\n",
       "}\n",
       "\n",
       ".xr-section-inline-details {\n",
       "  grid-column: 2 / -1;\n",
       "}\n",
       "\n",
       ".xr-section-details {\n",
       "  display: none;\n",
       "  grid-column: 1 / -1;\n",
       "  margin-bottom: 5px;\n",
       "}\n",
       "\n",
       ".xr-section-summary-in:checked ~ .xr-section-details {\n",
       "  display: contents;\n",
       "}\n",
       "\n",
       ".xr-array-wrap {\n",
       "  grid-column: 1 / -1;\n",
       "  display: grid;\n",
       "  grid-template-columns: 20px auto;\n",
       "}\n",
       "\n",
       ".xr-array-wrap > label {\n",
       "  grid-column: 1;\n",
       "  vertical-align: top;\n",
       "}\n",
       "\n",
       ".xr-preview {\n",
       "  color: var(--xr-font-color3);\n",
       "}\n",
       "\n",
       ".xr-array-preview,\n",
       ".xr-array-data {\n",
       "  padding: 0 5px !important;\n",
       "  grid-column: 2;\n",
       "}\n",
       "\n",
       ".xr-array-data,\n",
       ".xr-array-in:checked ~ .xr-array-preview {\n",
       "  display: none;\n",
       "}\n",
       "\n",
       ".xr-array-in:checked ~ .xr-array-data,\n",
       ".xr-array-preview {\n",
       "  display: inline-block;\n",
       "}\n",
       "\n",
       ".xr-dim-list {\n",
       "  display: inline-block !important;\n",
       "  list-style: none;\n",
       "  padding: 0 !important;\n",
       "  margin: 0;\n",
       "}\n",
       "\n",
       ".xr-dim-list li {\n",
       "  display: inline-block;\n",
       "  padding: 0;\n",
       "  margin: 0;\n",
       "}\n",
       "\n",
       ".xr-dim-list:before {\n",
       "  content: '(';\n",
       "}\n",
       "\n",
       ".xr-dim-list:after {\n",
       "  content: ')';\n",
       "}\n",
       "\n",
       ".xr-dim-list li:not(:last-child):after {\n",
       "  content: ',';\n",
       "  padding-right: 5px;\n",
       "}\n",
       "\n",
       ".xr-has-index {\n",
       "  font-weight: bold;\n",
       "}\n",
       "\n",
       ".xr-var-list,\n",
       ".xr-var-item {\n",
       "  display: contents;\n",
       "}\n",
       "\n",
       ".xr-var-item > div,\n",
       ".xr-var-item label,\n",
       ".xr-var-item > .xr-var-name span {\n",
       "  background-color: var(--xr-background-color-row-even);\n",
       "  margin-bottom: 0;\n",
       "}\n",
       "\n",
       ".xr-var-item > .xr-var-name:hover span {\n",
       "  padding-right: 5px;\n",
       "}\n",
       "\n",
       ".xr-var-list > li:nth-child(odd) > div,\n",
       ".xr-var-list > li:nth-child(odd) > label,\n",
       ".xr-var-list > li:nth-child(odd) > .xr-var-name span {\n",
       "  background-color: var(--xr-background-color-row-odd);\n",
       "}\n",
       "\n",
       ".xr-var-name {\n",
       "  grid-column: 1;\n",
       "}\n",
       "\n",
       ".xr-var-dims {\n",
       "  grid-column: 2;\n",
       "}\n",
       "\n",
       ".xr-var-dtype {\n",
       "  grid-column: 3;\n",
       "  text-align: right;\n",
       "  color: var(--xr-font-color2);\n",
       "}\n",
       "\n",
       ".xr-var-preview {\n",
       "  grid-column: 4;\n",
       "}\n",
       "\n",
       ".xr-index-preview {\n",
       "  grid-column: 2 / 5;\n",
       "  color: var(--xr-font-color2);\n",
       "}\n",
       "\n",
       ".xr-var-name,\n",
       ".xr-var-dims,\n",
       ".xr-var-dtype,\n",
       ".xr-preview,\n",
       ".xr-attrs dt {\n",
       "  white-space: nowrap;\n",
       "  overflow: hidden;\n",
       "  text-overflow: ellipsis;\n",
       "  padding-right: 10px;\n",
       "}\n",
       "\n",
       ".xr-var-name:hover,\n",
       ".xr-var-dims:hover,\n",
       ".xr-var-dtype:hover,\n",
       ".xr-attrs dt:hover {\n",
       "  overflow: visible;\n",
       "  width: auto;\n",
       "  z-index: 1;\n",
       "}\n",
       "\n",
       ".xr-var-attrs,\n",
       ".xr-var-data,\n",
       ".xr-index-data {\n",
       "  display: none;\n",
       "  background-color: var(--xr-background-color) !important;\n",
       "  padding-bottom: 5px !important;\n",
       "}\n",
       "\n",
       ".xr-var-attrs-in:checked ~ .xr-var-attrs,\n",
       ".xr-var-data-in:checked ~ .xr-var-data,\n",
       ".xr-index-data-in:checked ~ .xr-index-data {\n",
       "  display: block;\n",
       "}\n",
       "\n",
       ".xr-var-data > table {\n",
       "  float: right;\n",
       "}\n",
       "\n",
       ".xr-var-name span,\n",
       ".xr-var-data,\n",
       ".xr-index-name div,\n",
       ".xr-index-data,\n",
       ".xr-attrs {\n",
       "  padding-left: 25px !important;\n",
       "}\n",
       "\n",
       ".xr-attrs,\n",
       ".xr-var-attrs,\n",
       ".xr-var-data,\n",
       ".xr-index-data {\n",
       "  grid-column: 1 / -1;\n",
       "}\n",
       "\n",
       "dl.xr-attrs {\n",
       "  padding: 0;\n",
       "  margin: 0;\n",
       "  display: grid;\n",
       "  grid-template-columns: 125px auto;\n",
       "}\n",
       "\n",
       ".xr-attrs dt,\n",
       ".xr-attrs dd {\n",
       "  padding: 0;\n",
       "  margin: 0;\n",
       "  float: left;\n",
       "  padding-right: 10px;\n",
       "  width: auto;\n",
       "}\n",
       "\n",
       ".xr-attrs dt {\n",
       "  font-weight: normal;\n",
       "  grid-column: 1;\n",
       "}\n",
       "\n",
       ".xr-attrs dt:hover span {\n",
       "  display: inline-block;\n",
       "  background: var(--xr-background-color);\n",
       "  padding-right: 10px;\n",
       "}\n",
       "\n",
       ".xr-attrs dd {\n",
       "  grid-column: 2;\n",
       "  white-space: pre-wrap;\n",
       "  word-break: break-all;\n",
       "}\n",
       "\n",
       ".xr-icon-database,\n",
       ".xr-icon-file-text2,\n",
       ".xr-no-icon {\n",
       "  display: inline-block;\n",
       "  vertical-align: middle;\n",
       "  width: 1em;\n",
       "  height: 1.5em !important;\n",
       "  stroke-width: 0;\n",
       "  stroke: currentColor;\n",
       "  fill: currentColor;\n",
       "}\n",
       "</style><pre class='xr-text-repr-fallback'>&lt;xarray.Dataset&gt; Size: 2TB\n",
       "Dimensions:  (time: 1980, lev: 50, j: 300, i: 360, member: 40)\n",
       "Coordinates:\n",
       "  * time     (time) datetime64[ns] 16kB 1850-01-16T12:00:00 ... 2014-12-16T12...\n",
       "  * lev      (lev) float64 400B 5.0 15.0 25.0 ... 5.166e+03 5.499e+03 5.831e+03\n",
       "  * j        (j) int32 1kB 0 1 2 3 4 5 6 7 8 ... 292 293 294 295 296 297 298 299\n",
       "  * i        (i) int32 1kB 0 1 2 3 4 5 6 7 8 ... 352 353 354 355 356 357 358 359\n",
       "Dimensions without coordinates: member\n",
       "Data variables:\n",
       "    thetao   (member, time, lev, j, i) float32 2TB dask.array&lt;chunksize=(1, 12, 50, 300, 360), meta=np.ndarray&gt;</pre><div class='xr-wrap' style='display:none'><div class='xr-header'><div class='xr-obj-type'>xarray.Dataset</div></div><ul class='xr-sections'><li class='xr-section-item'><input id='section-04f85ade-1996-4cdf-acd7-ac9e9ece8182' class='xr-section-summary-in' type='checkbox' disabled ><label for='section-04f85ade-1996-4cdf-acd7-ac9e9ece8182' class='xr-section-summary'  title='Expand/collapse section'>Dimensions:</label><div class='xr-section-inline-details'><ul class='xr-dim-list'><li><span class='xr-has-index'>time</span>: 1980</li><li><span class='xr-has-index'>lev</span>: 50</li><li><span class='xr-has-index'>j</span>: 300</li><li><span class='xr-has-index'>i</span>: 360</li><li><span>member</span>: 40</li></ul></div><div class='xr-section-details'></div></li><li class='xr-section-item'><input id='section-8672db1b-16a9-4048-b2b8-1341e036117a' class='xr-section-summary-in' type='checkbox'  checked><label for='section-8672db1b-16a9-4048-b2b8-1341e036117a' class='xr-section-summary' >Coordinates: <span>(4)</span></label><div class='xr-section-inline-details'></div><div class='xr-section-details'><ul class='xr-var-list'><li class='xr-var-item'><div class='xr-var-name'><span class='xr-has-index'>time</span></div><div class='xr-var-dims'>(time)</div><div class='xr-var-dtype'>datetime64[ns]</div><div class='xr-var-preview xr-preview'>1850-01-16T12:00:00 ... 2014-12-...</div><input id='attrs-481b8ced-2713-4e0f-b6c0-eed1fe223b73' class='xr-var-attrs-in' type='checkbox' ><label for='attrs-481b8ced-2713-4e0f-b6c0-eed1fe223b73' title='Show/Hide attributes'><svg class='icon xr-icon-file-text2'><use xlink:href='#icon-file-text2'></use></svg></label><input id='data-bcb5ccc5-3a67-4795-bab1-8e063797781a' class='xr-var-data-in' type='checkbox'><label for='data-bcb5ccc5-3a67-4795-bab1-8e063797781a' title='Show/Hide data repr'><svg class='icon xr-icon-database'><use xlink:href='#icon-database'></use></svg></label><div class='xr-var-attrs'><dl class='xr-attrs'><dt><span>bounds :</span></dt><dd>time_bnds</dd><dt><span>axis :</span></dt><dd>T</dd><dt><span>long_name :</span></dt><dd>time</dd><dt><span>standard_name :</span></dt><dd>time</dd></dl></div><div class='xr-var-data'><pre>array([&#x27;1850-01-16T12:00:00.000000000&#x27;, &#x27;1850-02-15T00:00:00.000000000&#x27;,\n",
       "       &#x27;1850-03-16T12:00:00.000000000&#x27;, ..., &#x27;2014-10-16T12:00:00.000000000&#x27;,\n",
       "       &#x27;2014-11-16T00:00:00.000000000&#x27;, &#x27;2014-12-16T12:00:00.000000000&#x27;],\n",
       "      dtype=&#x27;datetime64[ns]&#x27;)</pre></div></li><li class='xr-var-item'><div class='xr-var-name'><span class='xr-has-index'>lev</span></div><div class='xr-var-dims'>(lev)</div><div class='xr-var-dtype'>float64</div><div class='xr-var-preview xr-preview'>5.0 15.0 ... 5.499e+03 5.831e+03</div><input id='attrs-731da151-293f-48c2-a82c-ccf87c12450c' class='xr-var-attrs-in' type='checkbox' ><label for='attrs-731da151-293f-48c2-a82c-ccf87c12450c' title='Show/Hide attributes'><svg class='icon xr-icon-file-text2'><use xlink:href='#icon-file-text2'></use></svg></label><input id='data-84419953-1ae9-4109-978b-5b525874d392' class='xr-var-data-in' type='checkbox'><label for='data-84419953-1ae9-4109-978b-5b525874d392' title='Show/Hide data repr'><svg class='icon xr-icon-database'><use xlink:href='#icon-database'></use></svg></label><div class='xr-var-attrs'><dl class='xr-attrs'><dt><span>bounds :</span></dt><dd>lev_bnds</dd><dt><span>units :</span></dt><dd>m</dd><dt><span>axis :</span></dt><dd>Z</dd><dt><span>positive :</span></dt><dd>down</dd><dt><span>long_name :</span></dt><dd>ocean depth coordinate</dd><dt><span>standard_name :</span></dt><dd>depth</dd></dl></div><div class='xr-var-data'><pre>array([5.000000e+00, 1.500000e+01, 2.500000e+01, 3.500000e+01, 4.500000e+01,\n",
       "       5.500000e+01, 6.500000e+01, 7.500000e+01, 8.500000e+01, 9.500000e+01,\n",
       "       1.050000e+02, 1.150000e+02, 1.250000e+02, 1.350000e+02, 1.450000e+02,\n",
       "       1.550000e+02, 1.650000e+02, 1.750000e+02, 1.850000e+02, 1.950000e+02,\n",
       "       2.050000e+02, 2.168468e+02, 2.413490e+02, 2.807807e+02, 3.432505e+02,\n",
       "       4.273156e+02, 5.367156e+02, 6.654141e+02, 8.127816e+02, 9.690651e+02,\n",
       "       1.130935e+03, 1.289605e+03, 1.455770e+03, 1.622926e+03, 1.801558e+03,\n",
       "       1.984855e+03, 2.182905e+03, 2.388417e+03, 2.610935e+03, 2.842564e+03,\n",
       "       3.092205e+03, 3.351295e+03, 3.628058e+03, 3.913264e+03, 4.214495e+03,\n",
       "       4.521918e+03, 4.842566e+03, 5.166130e+03, 5.499245e+03, 5.831294e+03])</pre></div></li><li class='xr-var-item'><div class='xr-var-name'><span class='xr-has-index'>j</span></div><div class='xr-var-dims'>(j)</div><div class='xr-var-dtype'>int32</div><div class='xr-var-preview xr-preview'>0 1 2 3 4 5 ... 295 296 297 298 299</div><input id='attrs-85e3b468-88c5-46ec-82ad-aa52f7d8ee49' class='xr-var-attrs-in' type='checkbox' ><label for='attrs-85e3b468-88c5-46ec-82ad-aa52f7d8ee49' title='Show/Hide attributes'><svg class='icon xr-icon-file-text2'><use xlink:href='#icon-file-text2'></use></svg></label><input id='data-c7a47c29-5c8c-40a3-8316-0f8bc7ef7409' class='xr-var-data-in' type='checkbox'><label for='data-c7a47c29-5c8c-40a3-8316-0f8bc7ef7409' title='Show/Hide data repr'><svg class='icon xr-icon-database'><use xlink:href='#icon-database'></use></svg></label><div class='xr-var-attrs'><dl class='xr-attrs'><dt><span>units :</span></dt><dd>1</dd><dt><span>long_name :</span></dt><dd>cell index along second dimension</dd></dl></div><div class='xr-var-data'><pre>array([  0,   1,   2, ..., 297, 298, 299], dtype=int32)</pre></div></li><li class='xr-var-item'><div class='xr-var-name'><span class='xr-has-index'>i</span></div><div class='xr-var-dims'>(i)</div><div class='xr-var-dtype'>int32</div><div class='xr-var-preview xr-preview'>0 1 2 3 4 5 ... 355 356 357 358 359</div><input id='attrs-dc9f7f07-5960-45a0-a24b-9052c8b95ae4' class='xr-var-attrs-in' type='checkbox' ><label for='attrs-dc9f7f07-5960-45a0-a24b-9052c8b95ae4' title='Show/Hide attributes'><svg class='icon xr-icon-file-text2'><use xlink:href='#icon-file-text2'></use></svg></label><input id='data-1e0ca287-578b-4242-83b9-820d6d9be6a2' class='xr-var-data-in' type='checkbox'><label for='data-1e0ca287-578b-4242-83b9-820d6d9be6a2' title='Show/Hide data repr'><svg class='icon xr-icon-database'><use xlink:href='#icon-database'></use></svg></label><div class='xr-var-attrs'><dl class='xr-attrs'><dt><span>units :</span></dt><dd>1</dd><dt><span>long_name :</span></dt><dd>cell index along first dimension</dd></dl></div><div class='xr-var-data'><pre>array([  0,   1,   2, ..., 357, 358, 359], dtype=int32)</pre></div></li></ul></div></li><li class='xr-section-item'><input id='section-c7812080-80b6-43e0-8936-ebbbd948d0b8' class='xr-section-summary-in' type='checkbox'  checked><label for='section-c7812080-80b6-43e0-8936-ebbbd948d0b8' class='xr-section-summary' >Data variables: <span>(1)</span></label><div class='xr-section-inline-details'></div><div class='xr-section-details'><ul class='xr-var-list'><li class='xr-var-item'><div class='xr-var-name'><span>thetao</span></div><div class='xr-var-dims'>(member, time, lev, j, i)</div><div class='xr-var-dtype'>float32</div><div class='xr-var-preview xr-preview'>dask.array&lt;chunksize=(1, 12, 50, 300, 360), meta=np.ndarray&gt;</div><input id='attrs-c36f2103-f756-42ea-a470-1699620ac794' class='xr-var-attrs-in' type='checkbox' ><label for='attrs-c36f2103-f756-42ea-a470-1699620ac794' title='Show/Hide attributes'><svg class='icon xr-icon-file-text2'><use xlink:href='#icon-file-text2'></use></svg></label><input id='data-00795578-645a-4727-b141-6787ebaf90a1' class='xr-var-data-in' type='checkbox'><label for='data-00795578-645a-4727-b141-6787ebaf90a1' title='Show/Hide data repr'><svg class='icon xr-icon-database'><use xlink:href='#icon-database'></use></svg></label><div class='xr-var-attrs'><dl class='xr-attrs'><dt><span>standard_name :</span></dt><dd>sea_water_potential_temperature</dd><dt><span>long_name :</span></dt><dd>Sea Water Potential Temperature</dd><dt><span>comment :</span></dt><dd>Diagnostic should be contributed even for models using conservative temperature as prognostic field.</dd><dt><span>units :</span></dt><dd>degC</dd><dt><span>cell_methods :</span></dt><dd>area: mean where sea time: mean</dd><dt><span>cell_measures :</span></dt><dd>area: areacello volume: volcello</dd></dl></div><div class='xr-var-data'><table>\n",
       "    <tr>\n",
       "        <td>\n",
       "            <table style=\"border-collapse: collapse;\">\n",
       "                <thead>\n",
       "                    <tr>\n",
       "                        <td> </td>\n",
       "                        <th> Array </th>\n",
       "                        <th> Chunk </th>\n",
       "                    </tr>\n",
       "                </thead>\n",
       "                <tbody>\n",
       "                    \n",
       "                    <tr>\n",
       "                        <th> Bytes </th>\n",
       "                        <td> 1.56 TiB </td>\n",
       "                        <td> 247.19 MiB </td>\n",
       "                    </tr>\n",
       "                    \n",
       "                    <tr>\n",
       "                        <th> Shape </th>\n",
       "                        <td> (40, 1980, 50, 300, 360) </td>\n",
       "                        <td> (1, 12, 50, 300, 360) </td>\n",
       "                    </tr>\n",
       "                    <tr>\n",
       "                        <th> Dask graph </th>\n",
       "                        <td colspan=\"2\"> 6600 chunks in 1441 graph layers </td>\n",
       "                    </tr>\n",
       "                    <tr>\n",
       "                        <th> Data type </th>\n",
       "                        <td colspan=\"2\"> float32 numpy.ndarray </td>\n",
       "                    </tr>\n",
       "                </tbody>\n",
       "            </table>\n",
       "        </td>\n",
       "        <td>\n",
       "        <svg width=\"489\" height=\"108\" style=\"stroke:rgb(0,0,0);stroke-width:1\" >\n",
       "\n",
       "  <!-- Horizontal lines -->\n",
       "  <line x1=\"0\" y1=\"0\" x2=\"120\" y2=\"0\" style=\"stroke-width:2\" />\n",
       "  <line x1=\"0\" y1=\"0\" x2=\"120\" y2=\"0\" />\n",
       "  <line x1=\"0\" y1=\"1\" x2=\"120\" y2=\"1\" />\n",
       "  <line x1=\"0\" y1=\"2\" x2=\"120\" y2=\"2\" />\n",
       "  <line x1=\"0\" y1=\"3\" x2=\"120\" y2=\"3\" />\n",
       "  <line x1=\"0\" y1=\"4\" x2=\"120\" y2=\"4\" />\n",
       "  <line x1=\"0\" y1=\"5\" x2=\"120\" y2=\"5\" />\n",
       "  <line x1=\"0\" y1=\"5\" x2=\"120\" y2=\"5\" />\n",
       "  <line x1=\"0\" y1=\"7\" x2=\"120\" y2=\"7\" />\n",
       "  <line x1=\"0\" y1=\"7\" x2=\"120\" y2=\"7\" />\n",
       "  <line x1=\"0\" y1=\"8\" x2=\"120\" y2=\"8\" />\n",
       "  <line x1=\"0\" y1=\"9\" x2=\"120\" y2=\"9\" />\n",
       "  <line x1=\"0\" y1=\"10\" x2=\"120\" y2=\"10\" />\n",
       "  <line x1=\"0\" y1=\"11\" x2=\"120\" y2=\"11\" />\n",
       "  <line x1=\"0\" y1=\"12\" x2=\"120\" y2=\"12\" />\n",
       "  <line x1=\"0\" y1=\"13\" x2=\"120\" y2=\"13\" />\n",
       "  <line x1=\"0\" y1=\"14\" x2=\"120\" y2=\"14\" />\n",
       "  <line x1=\"0\" y1=\"15\" x2=\"120\" y2=\"15\" />\n",
       "  <line x1=\"0\" y1=\"15\" x2=\"120\" y2=\"15\" />\n",
       "  <line x1=\"0\" y1=\"16\" x2=\"120\" y2=\"16\" />\n",
       "  <line x1=\"0\" y1=\"18\" x2=\"120\" y2=\"18\" />\n",
       "  <line x1=\"0\" y1=\"18\" x2=\"120\" y2=\"18\" />\n",
       "  <line x1=\"0\" y1=\"19\" x2=\"120\" y2=\"19\" />\n",
       "  <line x1=\"0\" y1=\"20\" x2=\"120\" y2=\"20\" />\n",
       "  <line x1=\"0\" y1=\"21\" x2=\"120\" y2=\"21\" />\n",
       "  <line x1=\"0\" y1=\"22\" x2=\"120\" y2=\"22\" />\n",
       "  <line x1=\"0\" y1=\"23\" x2=\"120\" y2=\"23\" />\n",
       "  <line x1=\"0\" y1=\"23\" x2=\"120\" y2=\"23\" />\n",
       "  <line x1=\"0\" y1=\"25\" x2=\"120\" y2=\"25\" />\n",
       "  <line x1=\"0\" y1=\"26\" x2=\"120\" y2=\"26\" />\n",
       "  <line x1=\"0\" y1=\"26\" x2=\"120\" y2=\"26\" />\n",
       "  <line x1=\"0\" y1=\"27\" x2=\"120\" y2=\"27\" />\n",
       "  <line x1=\"0\" y1=\"29\" x2=\"120\" y2=\"29\" style=\"stroke-width:2\" />\n",
       "\n",
       "  <!-- Vertical lines -->\n",
       "  <line x1=\"0\" y1=\"0\" x2=\"0\" y2=\"29\" style=\"stroke-width:2\" />\n",
       "  <line x1=\"3\" y1=\"0\" x2=\"3\" y2=\"29\" />\n",
       "  <line x1=\"7\" y1=\"0\" x2=\"7\" y2=\"29\" />\n",
       "  <line x1=\"10\" y1=\"0\" x2=\"10\" y2=\"29\" />\n",
       "  <line x1=\"14\" y1=\"0\" x2=\"14\" y2=\"29\" />\n",
       "  <line x1=\"18\" y1=\"0\" x2=\"18\" y2=\"29\" />\n",
       "  <line x1=\"21\" y1=\"0\" x2=\"21\" y2=\"29\" />\n",
       "  <line x1=\"26\" y1=\"0\" x2=\"26\" y2=\"29\" />\n",
       "  <line x1=\"29\" y1=\"0\" x2=\"29\" y2=\"29\" />\n",
       "  <line x1=\"33\" y1=\"0\" x2=\"33\" y2=\"29\" />\n",
       "  <line x1=\"37\" y1=\"0\" x2=\"37\" y2=\"29\" />\n",
       "  <line x1=\"40\" y1=\"0\" x2=\"40\" y2=\"29\" />\n",
       "  <line x1=\"44\" y1=\"0\" x2=\"44\" y2=\"29\" />\n",
       "  <line x1=\"48\" y1=\"0\" x2=\"48\" y2=\"29\" />\n",
       "  <line x1=\"52\" y1=\"0\" x2=\"52\" y2=\"29\" />\n",
       "  <line x1=\"56\" y1=\"0\" x2=\"56\" y2=\"29\" />\n",
       "  <line x1=\"59\" y1=\"0\" x2=\"59\" y2=\"29\" />\n",
       "  <line x1=\"63\" y1=\"0\" x2=\"63\" y2=\"29\" />\n",
       "  <line x1=\"66\" y1=\"0\" x2=\"66\" y2=\"29\" />\n",
       "  <line x1=\"70\" y1=\"0\" x2=\"70\" y2=\"29\" />\n",
       "  <line x1=\"74\" y1=\"0\" x2=\"74\" y2=\"29\" />\n",
       "  <line x1=\"78\" y1=\"0\" x2=\"78\" y2=\"29\" />\n",
       "  <line x1=\"82\" y1=\"0\" x2=\"82\" y2=\"29\" />\n",
       "  <line x1=\"85\" y1=\"0\" x2=\"85\" y2=\"29\" />\n",
       "  <line x1=\"89\" y1=\"0\" x2=\"89\" y2=\"29\" />\n",
       "  <line x1=\"93\" y1=\"0\" x2=\"93\" y2=\"29\" />\n",
       "  <line x1=\"97\" y1=\"0\" x2=\"97\" y2=\"29\" />\n",
       "  <line x1=\"101\" y1=\"0\" x2=\"101\" y2=\"29\" />\n",
       "  <line x1=\"104\" y1=\"0\" x2=\"104\" y2=\"29\" />\n",
       "  <line x1=\"108\" y1=\"0\" x2=\"108\" y2=\"29\" />\n",
       "  <line x1=\"112\" y1=\"0\" x2=\"112\" y2=\"29\" />\n",
       "  <line x1=\"115\" y1=\"0\" x2=\"115\" y2=\"29\" />\n",
       "  <line x1=\"120\" y1=\"0\" x2=\"120\" y2=\"29\" style=\"stroke-width:2\" />\n",
       "\n",
       "  <!-- Colored Rectangle -->\n",
       "  <polygon points=\"0.0,0.0 120.0,0.0 120.0,29.087241068591993 0.0,29.087241068591993\" style=\"fill:#8B4903A0;stroke-width:0\"/>\n",
       "\n",
       "  <!-- Text -->\n",
       "  <text x=\"60.000000\" y=\"49.087241\" font-size=\"1.0rem\" font-weight=\"100\" text-anchor=\"middle\" >1980</text>\n",
       "  <text x=\"140.000000\" y=\"14.543621\" font-size=\"1.0rem\" font-weight=\"100\" text-anchor=\"middle\" transform=\"rotate(0,140.000000,14.543621)\">40</text>\n",
       "\n",
       "\n",
       "  <!-- Horizontal lines -->\n",
       "  <line x1=\"190\" y1=\"0\" x2=\"207\" y2=\"17\" style=\"stroke-width:2\" />\n",
       "  <line x1=\"190\" y1=\"40\" x2=\"207\" y2=\"58\" style=\"stroke-width:2\" />\n",
       "\n",
       "  <!-- Vertical lines -->\n",
       "  <line x1=\"190\" y1=\"0\" x2=\"190\" y2=\"40\" style=\"stroke-width:2\" />\n",
       "  <line x1=\"207\" y1=\"17\" x2=\"207\" y2=\"58\" style=\"stroke-width:2\" />\n",
       "\n",
       "  <!-- Colored Rectangle -->\n",
       "  <polygon points=\"190.0,0.0 207.86481430192825,17.86481430192825 207.86481430192825,58.61960692934128 190.0,40.75479262741303\" style=\"fill:#ECB172A0;stroke-width:0\"/>\n",
       "\n",
       "  <!-- Horizontal lines -->\n",
       "  <line x1=\"190\" y1=\"0\" x2=\"231\" y2=\"0\" style=\"stroke-width:2\" />\n",
       "  <line x1=\"207\" y1=\"17\" x2=\"249\" y2=\"17\" style=\"stroke-width:2\" />\n",
       "\n",
       "  <!-- Vertical lines -->\n",
       "  <line x1=\"190\" y1=\"0\" x2=\"207\" y2=\"17\" style=\"stroke-width:2\" />\n",
       "  <line x1=\"231\" y1=\"0\" x2=\"249\" y2=\"17\" style=\"stroke-width:2\" />\n",
       "\n",
       "  <!-- Colored Rectangle -->\n",
       "  <polygon points=\"190.0,0.0 231.59732749150098,0.0 249.46214179342923,17.86481430192825 207.86481430192825,17.86481430192825\" style=\"fill:#ECB172A0;stroke-width:0\"/>\n",
       "\n",
       "  <!-- Horizontal lines -->\n",
       "  <line x1=\"207\" y1=\"17\" x2=\"249\" y2=\"17\" style=\"stroke-width:2\" />\n",
       "  <line x1=\"207\" y1=\"58\" x2=\"249\" y2=\"58\" style=\"stroke-width:2\" />\n",
       "\n",
       "  <!-- Vertical lines -->\n",
       "  <line x1=\"207\" y1=\"17\" x2=\"207\" y2=\"58\" style=\"stroke-width:2\" />\n",
       "  <line x1=\"249\" y1=\"17\" x2=\"249\" y2=\"58\" style=\"stroke-width:2\" />\n",
       "\n",
       "  <!-- Colored Rectangle -->\n",
       "  <polygon points=\"207.86481430192825,17.86481430192825 249.46214179342923,17.86481430192825 249.46214179342923,58.61960692934128 207.86481430192825,58.61960692934128\" style=\"fill:#ECB172A0;stroke-width:0\"/>\n",
       "\n",
       "  <!-- Text -->\n",
       "  <text x=\"228.663478\" y=\"78.619607\" font-size=\"1.0rem\" font-weight=\"100\" text-anchor=\"middle\" >360</text>\n",
       "  <text x=\"269.462142\" y=\"38.242211\" font-size=\"1.0rem\" font-weight=\"100\" text-anchor=\"middle\" transform=\"rotate(-90,269.462142,38.242211)\">300</text>\n",
       "  <text x=\"188.932407\" y=\"69.687200\" font-size=\"1.0rem\" font-weight=\"100\" text-anchor=\"middle\" transform=\"rotate(45,188.932407,69.687200)\">50</text>\n",
       "</svg>\n",
       "        </td>\n",
       "    </tr>\n",
       "</table></div></li></ul></div></li><li class='xr-section-item'><input id='section-ef04688a-653c-468e-9a34-f99a9f8050b9' class='xr-section-summary-in' type='checkbox'  ><label for='section-ef04688a-653c-468e-9a34-f99a9f8050b9' class='xr-section-summary' >Indexes: <span>(4)</span></label><div class='xr-section-inline-details'></div><div class='xr-section-details'><ul class='xr-var-list'><li class='xr-var-item'><div class='xr-index-name'><div>time</div></div><div class='xr-index-preview'>PandasIndex</div><div></div><input id='index-74b754f9-9334-4526-b616-d91abe7ee262' class='xr-index-data-in' type='checkbox'/><label for='index-74b754f9-9334-4526-b616-d91abe7ee262' title='Show/Hide index repr'><svg class='icon xr-icon-database'><use xlink:href='#icon-database'></use></svg></label><div class='xr-index-data'><pre>PandasIndex(DatetimeIndex([&#x27;1850-01-16 12:00:00&#x27;, &#x27;1850-02-15 00:00:00&#x27;,\n",
       "               &#x27;1850-03-16 12:00:00&#x27;, &#x27;1850-04-16 00:00:00&#x27;,\n",
       "               &#x27;1850-05-16 12:00:00&#x27;, &#x27;1850-06-16 00:00:00&#x27;,\n",
       "               &#x27;1850-07-16 12:00:00&#x27;, &#x27;1850-08-16 12:00:00&#x27;,\n",
       "               &#x27;1850-09-16 00:00:00&#x27;, &#x27;1850-10-16 12:00:00&#x27;,\n",
       "               ...\n",
       "               &#x27;2014-03-16 12:00:00&#x27;, &#x27;2014-04-16 00:00:00&#x27;,\n",
       "               &#x27;2014-05-16 12:00:00&#x27;, &#x27;2014-06-16 00:00:00&#x27;,\n",
       "               &#x27;2014-07-16 12:00:00&#x27;, &#x27;2014-08-16 12:00:00&#x27;,\n",
       "               &#x27;2014-09-16 00:00:00&#x27;, &#x27;2014-10-16 12:00:00&#x27;,\n",
       "               &#x27;2014-11-16 00:00:00&#x27;, &#x27;2014-12-16 12:00:00&#x27;],\n",
       "              dtype=&#x27;datetime64[ns]&#x27;, name=&#x27;time&#x27;, length=1980, freq=None))</pre></div></li><li class='xr-var-item'><div class='xr-index-name'><div>lev</div></div><div class='xr-index-preview'>PandasIndex</div><div></div><input id='index-da74eeac-1934-47ae-8602-1598c3be8e63' class='xr-index-data-in' type='checkbox'/><label for='index-da74eeac-1934-47ae-8602-1598c3be8e63' title='Show/Hide index repr'><svg class='icon xr-icon-database'><use xlink:href='#icon-database'></use></svg></label><div class='xr-index-data'><pre>PandasIndex(Index([               5.0,               15.0,               25.0,\n",
       "                     35.0,               45.0,               55.0,\n",
       "                     65.0,               75.0,               85.0,\n",
       "                     95.0,              105.0,              115.0,\n",
       "                    125.0,              135.0,              145.0,\n",
       "                    155.0,              165.0,              175.0,\n",
       "                    185.0,              195.0,              205.0,\n",
       "        216.8467559814453, 241.34901428222656,  280.7807312011719,\n",
       "        343.2504577636719,  427.3155517578125,  536.7156372070312,\n",
       "        665.4141235351562,  812.7816162109375,  969.0651245117188,\n",
       "       1130.9349365234375, 1289.6046142578125, 1455.7701416015625,\n",
       "       1622.9256591796875,   1801.55810546875, 1984.8546142578125,\n",
       "         2182.90478515625,   2388.41748046875,   2610.93505859375,\n",
       "           2842.564453125,  3092.204833984375,  3351.294677734375,\n",
       "          3628.0576171875,  3913.264404296875,    4214.4951171875,\n",
       "            4521.91796875,   4842.56591796875,    5166.1298828125,\n",
       "          5499.2451171875,   5831.29443359375],\n",
       "      dtype=&#x27;float64&#x27;, name=&#x27;lev&#x27;))</pre></div></li><li class='xr-var-item'><div class='xr-index-name'><div>j</div></div><div class='xr-index-preview'>PandasIndex</div><div></div><input id='index-c1837838-b7da-412e-b4f6-02caaf6b7dbd' class='xr-index-data-in' type='checkbox'/><label for='index-c1837838-b7da-412e-b4f6-02caaf6b7dbd' title='Show/Hide index repr'><svg class='icon xr-icon-database'><use xlink:href='#icon-database'></use></svg></label><div class='xr-index-data'><pre>PandasIndex(Index([  0,   1,   2,   3,   4,   5,   6,   7,   8,   9,\n",
       "       ...\n",
       "       290, 291, 292, 293, 294, 295, 296, 297, 298, 299],\n",
       "      dtype=&#x27;int32&#x27;, name=&#x27;j&#x27;, length=300))</pre></div></li><li class='xr-var-item'><div class='xr-index-name'><div>i</div></div><div class='xr-index-preview'>PandasIndex</div><div></div><input id='index-a3a55048-eca1-4d6d-a4ec-3b003bd334f0' class='xr-index-data-in' type='checkbox'/><label for='index-a3a55048-eca1-4d6d-a4ec-3b003bd334f0' title='Show/Hide index repr'><svg class='icon xr-icon-database'><use xlink:href='#icon-database'></use></svg></label><div class='xr-index-data'><pre>PandasIndex(Index([  0,   1,   2,   3,   4,   5,   6,   7,   8,   9,\n",
       "       ...\n",
       "       350, 351, 352, 353, 354, 355, 356, 357, 358, 359],\n",
       "      dtype=&#x27;int32&#x27;, name=&#x27;i&#x27;, length=360))</pre></div></li></ul></div></li><li class='xr-section-item'><input id='section-53d3bb64-0ffb-441d-9404-cad85121cb4d' class='xr-section-summary-in' type='checkbox' disabled ><label for='section-53d3bb64-0ffb-441d-9404-cad85121cb4d' class='xr-section-summary'  title='Expand/collapse section'>Attributes: <span>(0)</span></label><div class='xr-section-inline-details'></div><div class='xr-section-details'><dl class='xr-attrs'></dl></div></li></ul></div></div>"
      ],
      "text/plain": [
       "<xarray.Dataset> Size: 2TB\n",
       "Dimensions:  (time: 1980, lev: 50, j: 300, i: 360, member: 40)\n",
       "Coordinates:\n",
       "  * time     (time) datetime64[ns] 16kB 1850-01-16T12:00:00 ... 2014-12-16T12...\n",
       "  * lev      (lev) float64 400B 5.0 15.0 25.0 ... 5.166e+03 5.499e+03 5.831e+03\n",
       "  * j        (j) int32 1kB 0 1 2 3 4 5 6 7 8 ... 292 293 294 295 296 297 298 299\n",
       "  * i        (i) int32 1kB 0 1 2 3 4 5 6 7 8 ... 352 353 354 355 356 357 358 359\n",
       "Dimensions without coordinates: member\n",
       "Data variables:\n",
       "    thetao   (member, time, lev, j, i) float32 2TB dask.array<chunksize=(1, 12, 50, 300, 360), meta=np.ndarray>"
      ]
     },
     "execution_count": 15,
     "metadata": {},
     "output_type": "execute_result"
    }
   ],
   "source": [
    "remove_zarr_encoding(DS_out)"
   ]
  },
  {
   "cell_type": "code",
   "execution_count": 16,
   "id": "e6a0f8bf-c792-472b-8f49-e0341c5837b9",
   "metadata": {},
   "outputs": [
    {
     "data": {
      "text/plain": [
       "{}"
      ]
     },
     "execution_count": 16,
     "metadata": {},
     "output_type": "execute_result"
    }
   ],
   "source": [
    "DS_out.thetao.encoding"
   ]
  },
  {
   "cell_type": "code",
   "execution_count": 17,
   "id": "4a80c966-d30f-41ee-819d-5270f211a6ea",
   "metadata": {},
   "outputs": [],
   "source": [
    "file_path = '/scratch/es60/ard/models/ACCESS-ESM15/ARD/'"
   ]
  },
  {
   "cell_type": "code",
   "execution_count": 18,
   "id": "7a8c08bb-2642-43d2-9ed9-8795ad1c8ac5",
   "metadata": {
    "scrolled": true
   },
   "outputs": [
    {
     "name": "stderr",
     "output_type": "stream",
     "text": [
      "2024-07-26 14:10:42,579 - distributed.worker - ERROR - failed during get data with tcp://127.0.0.1:39167 -> tcp://127.0.0.1:33693\n",
      "Traceback (most recent call last):\n",
      "  File \"/g/data/es60/users/thomas_moore/miniconda3/envs/pangeo_bran2020_demo/lib/python3.10/site-packages/tornado/iostream.py\", line 861, in _read_to_buffer\n",
      "    bytes_read = self.read_from_fd(buf)\n",
      "  File \"/g/data/es60/users/thomas_moore/miniconda3/envs/pangeo_bran2020_demo/lib/python3.10/site-packages/tornado/iostream.py\", line 1116, in read_from_fd\n",
      "    return self.socket.recv_into(buf, len(buf))\n",
      "TimeoutError: [Errno 110] Connection timed out\n",
      "\n",
      "The above exception was the direct cause of the following exception:\n",
      "\n",
      "Traceback (most recent call last):\n",
      "  File \"/g/data/es60/users/thomas_moore/miniconda3/envs/pangeo_bran2020_demo/lib/python3.10/site-packages/distributed/worker.py\", line 1783, in get_data\n",
      "    response = await comm.read(deserializers=serializers)\n",
      "  File \"/g/data/es60/users/thomas_moore/miniconda3/envs/pangeo_bran2020_demo/lib/python3.10/site-packages/distributed/comm/tcp.py\", line 236, in read\n",
      "    convert_stream_closed_error(self, e)\n",
      "  File \"/g/data/es60/users/thomas_moore/miniconda3/envs/pangeo_bran2020_demo/lib/python3.10/site-packages/distributed/comm/tcp.py\", line 140, in convert_stream_closed_error\n",
      "    raise CommClosedError(f\"in {obj}: {exc.__class__.__name__}: {exc}\") from exc\n",
      "distributed.comm.core.CommClosedError: in <TCP (closed)  local=tcp://127.0.0.1:39167 remote=tcp://127.0.0.1:55116>: TimeoutError: [Errno 110] Connection timed out\n",
      "2024-07-26 14:11:06,066 - distributed.worker - ERROR - Worker stream died during communication: tcp://127.0.0.1:39167\n",
      "Traceback (most recent call last):\n",
      "  File \"/g/data/es60/users/thomas_moore/miniconda3/envs/pangeo_bran2020_demo/lib/python3.10/site-packages/tornado/iostream.py\", line 861, in _read_to_buffer\n",
      "    bytes_read = self.read_from_fd(buf)\n",
      "  File \"/g/data/es60/users/thomas_moore/miniconda3/envs/pangeo_bran2020_demo/lib/python3.10/site-packages/tornado/iostream.py\", line 1116, in read_from_fd\n",
      "    return self.socket.recv_into(buf, len(buf))\n",
      "ConnectionResetError: [Errno 104] Connection reset by peer\n",
      "\n",
      "The above exception was the direct cause of the following exception:\n",
      "\n",
      "Traceback (most recent call last):\n",
      "  File \"/g/data/es60/users/thomas_moore/miniconda3/envs/pangeo_bran2020_demo/lib/python3.10/site-packages/distributed/worker.py\", line 2059, in gather_dep\n",
      "    response = await get_data_from_worker(\n",
      "  File \"/g/data/es60/users/thomas_moore/miniconda3/envs/pangeo_bran2020_demo/lib/python3.10/site-packages/distributed/worker.py\", line 2863, in get_data_from_worker\n",
      "    response = await send_recv(\n",
      "  File \"/g/data/es60/users/thomas_moore/miniconda3/envs/pangeo_bran2020_demo/lib/python3.10/site-packages/distributed/core.py\", line 1154, in send_recv\n",
      "    response = await comm.read(deserializers=deserializers)\n",
      "  File \"/g/data/es60/users/thomas_moore/miniconda3/envs/pangeo_bran2020_demo/lib/python3.10/site-packages/distributed/comm/tcp.py\", line 236, in read\n",
      "    convert_stream_closed_error(self, e)\n",
      "  File \"/g/data/es60/users/thomas_moore/miniconda3/envs/pangeo_bran2020_demo/lib/python3.10/site-packages/distributed/comm/tcp.py\", line 140, in convert_stream_closed_error\n",
      "    raise CommClosedError(f\"in {obj}: {exc.__class__.__name__}: {exc}\") from exc\n",
      "distributed.comm.core.CommClosedError: in <TCP (closed) Ephemeral Worker->Worker for gather local=tcp://127.0.0.1:55116 remote=tcp://127.0.0.1:39167>: ConnectionResetError: [Errno 104] Connection reset by peer\n"
     ]
    },
    {
     "name": "stdout",
     "output_type": "stream",
     "text": [
      "CPU times: user 9min 2s, sys: 1min 8s, total: 10min 11s\n",
      "Wall time: 51min 38s\n"
     ]
    },
    {
     "data": {
      "text/plain": [
       "<xarray.backends.zarr.ZarrStore at 0x151aaf09ed40>"
      ]
     },
     "execution_count": 18,
     "metadata": {},
     "output_type": "execute_result"
    }
   ],
   "source": [
    "%%time\n",
    "DS_out.to_zarr(file_path+'ACCESS-ESM1.5-historical-thetao.zarr',consolidated=True)"
   ]
  },
  {
   "cell_type": "code",
   "execution_count": 19,
   "id": "6d873aba-15d6-4990-962b-8813ab743dbb",
   "metadata": {},
   "outputs": [],
   "source": [
    "result = xr.open_zarr(file_path+'ACCESS-ESM1.5-historical-thetao.zarr',consolidated=True)"
   ]
  },
  {
   "cell_type": "code",
   "execution_count": 20,
   "id": "19357ee7-c3f7-4425-815c-0e5e32a71f91",
   "metadata": {},
   "outputs": [
    {
     "data": {
      "text/html": [
       "<div><svg style=\"position: absolute; width: 0; height: 0; overflow: hidden\">\n",
       "<defs>\n",
       "<symbol id=\"icon-database\" viewBox=\"0 0 32 32\">\n",
       "<path d=\"M16 0c-8.837 0-16 2.239-16 5v4c0 2.761 7.163 5 16 5s16-2.239 16-5v-4c0-2.761-7.163-5-16-5z\"></path>\n",
       "<path d=\"M16 17c-8.837 0-16-2.239-16-5v6c0 2.761 7.163 5 16 5s16-2.239 16-5v-6c0 2.761-7.163 5-16 5z\"></path>\n",
       "<path d=\"M16 26c-8.837 0-16-2.239-16-5v6c0 2.761 7.163 5 16 5s16-2.239 16-5v-6c0 2.761-7.163 5-16 5z\"></path>\n",
       "</symbol>\n",
       "<symbol id=\"icon-file-text2\" viewBox=\"0 0 32 32\">\n",
       "<path d=\"M28.681 7.159c-0.694-0.947-1.662-2.053-2.724-3.116s-2.169-2.030-3.116-2.724c-1.612-1.182-2.393-1.319-2.841-1.319h-15.5c-1.378 0-2.5 1.121-2.5 2.5v27c0 1.378 1.122 2.5 2.5 2.5h23c1.378 0 2.5-1.122 2.5-2.5v-19.5c0-0.448-0.137-1.23-1.319-2.841zM24.543 5.457c0.959 0.959 1.712 1.825 2.268 2.543h-4.811v-4.811c0.718 0.556 1.584 1.309 2.543 2.268zM28 29.5c0 0.271-0.229 0.5-0.5 0.5h-23c-0.271 0-0.5-0.229-0.5-0.5v-27c0-0.271 0.229-0.5 0.5-0.5 0 0 15.499-0 15.5 0v7c0 0.552 0.448 1 1 1h7v19.5z\"></path>\n",
       "<path d=\"M23 26h-14c-0.552 0-1-0.448-1-1s0.448-1 1-1h14c0.552 0 1 0.448 1 1s-0.448 1-1 1z\"></path>\n",
       "<path d=\"M23 22h-14c-0.552 0-1-0.448-1-1s0.448-1 1-1h14c0.552 0 1 0.448 1 1s-0.448 1-1 1z\"></path>\n",
       "<path d=\"M23 18h-14c-0.552 0-1-0.448-1-1s0.448-1 1-1h14c0.552 0 1 0.448 1 1s-0.448 1-1 1z\"></path>\n",
       "</symbol>\n",
       "</defs>\n",
       "</svg>\n",
       "<style>/* CSS stylesheet for displaying xarray objects in jupyterlab.\n",
       " *\n",
       " */\n",
       "\n",
       ":root {\n",
       "  --xr-font-color0: var(--jp-content-font-color0, rgba(0, 0, 0, 1));\n",
       "  --xr-font-color2: var(--jp-content-font-color2, rgba(0, 0, 0, 0.54));\n",
       "  --xr-font-color3: var(--jp-content-font-color3, rgba(0, 0, 0, 0.38));\n",
       "  --xr-border-color: var(--jp-border-color2, #e0e0e0);\n",
       "  --xr-disabled-color: var(--jp-layout-color3, #bdbdbd);\n",
       "  --xr-background-color: var(--jp-layout-color0, white);\n",
       "  --xr-background-color-row-even: var(--jp-layout-color1, white);\n",
       "  --xr-background-color-row-odd: var(--jp-layout-color2, #eeeeee);\n",
       "}\n",
       "\n",
       "html[theme=dark],\n",
       "body[data-theme=dark],\n",
       "body.vscode-dark {\n",
       "  --xr-font-color0: rgba(255, 255, 255, 1);\n",
       "  --xr-font-color2: rgba(255, 255, 255, 0.54);\n",
       "  --xr-font-color3: rgba(255, 255, 255, 0.38);\n",
       "  --xr-border-color: #1F1F1F;\n",
       "  --xr-disabled-color: #515151;\n",
       "  --xr-background-color: #111111;\n",
       "  --xr-background-color-row-even: #111111;\n",
       "  --xr-background-color-row-odd: #313131;\n",
       "}\n",
       "\n",
       ".xr-wrap {\n",
       "  display: block !important;\n",
       "  min-width: 300px;\n",
       "  max-width: 700px;\n",
       "}\n",
       "\n",
       ".xr-text-repr-fallback {\n",
       "  /* fallback to plain text repr when CSS is not injected (untrusted notebook) */\n",
       "  display: none;\n",
       "}\n",
       "\n",
       ".xr-header {\n",
       "  padding-top: 6px;\n",
       "  padding-bottom: 6px;\n",
       "  margin-bottom: 4px;\n",
       "  border-bottom: solid 1px var(--xr-border-color);\n",
       "}\n",
       "\n",
       ".xr-header > div,\n",
       ".xr-header > ul {\n",
       "  display: inline;\n",
       "  margin-top: 0;\n",
       "  margin-bottom: 0;\n",
       "}\n",
       "\n",
       ".xr-obj-type,\n",
       ".xr-array-name {\n",
       "  margin-left: 2px;\n",
       "  margin-right: 10px;\n",
       "}\n",
       "\n",
       ".xr-obj-type {\n",
       "  color: var(--xr-font-color2);\n",
       "}\n",
       "\n",
       ".xr-sections {\n",
       "  padding-left: 0 !important;\n",
       "  display: grid;\n",
       "  grid-template-columns: 150px auto auto 1fr 20px 20px;\n",
       "}\n",
       "\n",
       ".xr-section-item {\n",
       "  display: contents;\n",
       "}\n",
       "\n",
       ".xr-section-item input {\n",
       "  display: none;\n",
       "}\n",
       "\n",
       ".xr-section-item input + label {\n",
       "  color: var(--xr-disabled-color);\n",
       "}\n",
       "\n",
       ".xr-section-item input:enabled + label {\n",
       "  cursor: pointer;\n",
       "  color: var(--xr-font-color2);\n",
       "}\n",
       "\n",
       ".xr-section-item input:enabled + label:hover {\n",
       "  color: var(--xr-font-color0);\n",
       "}\n",
       "\n",
       ".xr-section-summary {\n",
       "  grid-column: 1;\n",
       "  color: var(--xr-font-color2);\n",
       "  font-weight: 500;\n",
       "}\n",
       "\n",
       ".xr-section-summary > span {\n",
       "  display: inline-block;\n",
       "  padding-left: 0.5em;\n",
       "}\n",
       "\n",
       ".xr-section-summary-in:disabled + label {\n",
       "  color: var(--xr-font-color2);\n",
       "}\n",
       "\n",
       ".xr-section-summary-in + label:before {\n",
       "  display: inline-block;\n",
       "  content: '►';\n",
       "  font-size: 11px;\n",
       "  width: 15px;\n",
       "  text-align: center;\n",
       "}\n",
       "\n",
       ".xr-section-summary-in:disabled + label:before {\n",
       "  color: var(--xr-disabled-color);\n",
       "}\n",
       "\n",
       ".xr-section-summary-in:checked + label:before {\n",
       "  content: '▼';\n",
       "}\n",
       "\n",
       ".xr-section-summary-in:checked + label > span {\n",
       "  display: none;\n",
       "}\n",
       "\n",
       ".xr-section-summary,\n",
       ".xr-section-inline-details {\n",
       "  padding-top: 4px;\n",
       "  padding-bottom: 4px;\n",
       "}\n",
       "\n",
       ".xr-section-inline-details {\n",
       "  grid-column: 2 / -1;\n",
       "}\n",
       "\n",
       ".xr-section-details {\n",
       "  display: none;\n",
       "  grid-column: 1 / -1;\n",
       "  margin-bottom: 5px;\n",
       "}\n",
       "\n",
       ".xr-section-summary-in:checked ~ .xr-section-details {\n",
       "  display: contents;\n",
       "}\n",
       "\n",
       ".xr-array-wrap {\n",
       "  grid-column: 1 / -1;\n",
       "  display: grid;\n",
       "  grid-template-columns: 20px auto;\n",
       "}\n",
       "\n",
       ".xr-array-wrap > label {\n",
       "  grid-column: 1;\n",
       "  vertical-align: top;\n",
       "}\n",
       "\n",
       ".xr-preview {\n",
       "  color: var(--xr-font-color3);\n",
       "}\n",
       "\n",
       ".xr-array-preview,\n",
       ".xr-array-data {\n",
       "  padding: 0 5px !important;\n",
       "  grid-column: 2;\n",
       "}\n",
       "\n",
       ".xr-array-data,\n",
       ".xr-array-in:checked ~ .xr-array-preview {\n",
       "  display: none;\n",
       "}\n",
       "\n",
       ".xr-array-in:checked ~ .xr-array-data,\n",
       ".xr-array-preview {\n",
       "  display: inline-block;\n",
       "}\n",
       "\n",
       ".xr-dim-list {\n",
       "  display: inline-block !important;\n",
       "  list-style: none;\n",
       "  padding: 0 !important;\n",
       "  margin: 0;\n",
       "}\n",
       "\n",
       ".xr-dim-list li {\n",
       "  display: inline-block;\n",
       "  padding: 0;\n",
       "  margin: 0;\n",
       "}\n",
       "\n",
       ".xr-dim-list:before {\n",
       "  content: '(';\n",
       "}\n",
       "\n",
       ".xr-dim-list:after {\n",
       "  content: ')';\n",
       "}\n",
       "\n",
       ".xr-dim-list li:not(:last-child):after {\n",
       "  content: ',';\n",
       "  padding-right: 5px;\n",
       "}\n",
       "\n",
       ".xr-has-index {\n",
       "  font-weight: bold;\n",
       "}\n",
       "\n",
       ".xr-var-list,\n",
       ".xr-var-item {\n",
       "  display: contents;\n",
       "}\n",
       "\n",
       ".xr-var-item > div,\n",
       ".xr-var-item label,\n",
       ".xr-var-item > .xr-var-name span {\n",
       "  background-color: var(--xr-background-color-row-even);\n",
       "  margin-bottom: 0;\n",
       "}\n",
       "\n",
       ".xr-var-item > .xr-var-name:hover span {\n",
       "  padding-right: 5px;\n",
       "}\n",
       "\n",
       ".xr-var-list > li:nth-child(odd) > div,\n",
       ".xr-var-list > li:nth-child(odd) > label,\n",
       ".xr-var-list > li:nth-child(odd) > .xr-var-name span {\n",
       "  background-color: var(--xr-background-color-row-odd);\n",
       "}\n",
       "\n",
       ".xr-var-name {\n",
       "  grid-column: 1;\n",
       "}\n",
       "\n",
       ".xr-var-dims {\n",
       "  grid-column: 2;\n",
       "}\n",
       "\n",
       ".xr-var-dtype {\n",
       "  grid-column: 3;\n",
       "  text-align: right;\n",
       "  color: var(--xr-font-color2);\n",
       "}\n",
       "\n",
       ".xr-var-preview {\n",
       "  grid-column: 4;\n",
       "}\n",
       "\n",
       ".xr-index-preview {\n",
       "  grid-column: 2 / 5;\n",
       "  color: var(--xr-font-color2);\n",
       "}\n",
       "\n",
       ".xr-var-name,\n",
       ".xr-var-dims,\n",
       ".xr-var-dtype,\n",
       ".xr-preview,\n",
       ".xr-attrs dt {\n",
       "  white-space: nowrap;\n",
       "  overflow: hidden;\n",
       "  text-overflow: ellipsis;\n",
       "  padding-right: 10px;\n",
       "}\n",
       "\n",
       ".xr-var-name:hover,\n",
       ".xr-var-dims:hover,\n",
       ".xr-var-dtype:hover,\n",
       ".xr-attrs dt:hover {\n",
       "  overflow: visible;\n",
       "  width: auto;\n",
       "  z-index: 1;\n",
       "}\n",
       "\n",
       ".xr-var-attrs,\n",
       ".xr-var-data,\n",
       ".xr-index-data {\n",
       "  display: none;\n",
       "  background-color: var(--xr-background-color) !important;\n",
       "  padding-bottom: 5px !important;\n",
       "}\n",
       "\n",
       ".xr-var-attrs-in:checked ~ .xr-var-attrs,\n",
       ".xr-var-data-in:checked ~ .xr-var-data,\n",
       ".xr-index-data-in:checked ~ .xr-index-data {\n",
       "  display: block;\n",
       "}\n",
       "\n",
       ".xr-var-data > table {\n",
       "  float: right;\n",
       "}\n",
       "\n",
       ".xr-var-name span,\n",
       ".xr-var-data,\n",
       ".xr-index-name div,\n",
       ".xr-index-data,\n",
       ".xr-attrs {\n",
       "  padding-left: 25px !important;\n",
       "}\n",
       "\n",
       ".xr-attrs,\n",
       ".xr-var-attrs,\n",
       ".xr-var-data,\n",
       ".xr-index-data {\n",
       "  grid-column: 1 / -1;\n",
       "}\n",
       "\n",
       "dl.xr-attrs {\n",
       "  padding: 0;\n",
       "  margin: 0;\n",
       "  display: grid;\n",
       "  grid-template-columns: 125px auto;\n",
       "}\n",
       "\n",
       ".xr-attrs dt,\n",
       ".xr-attrs dd {\n",
       "  padding: 0;\n",
       "  margin: 0;\n",
       "  float: left;\n",
       "  padding-right: 10px;\n",
       "  width: auto;\n",
       "}\n",
       "\n",
       ".xr-attrs dt {\n",
       "  font-weight: normal;\n",
       "  grid-column: 1;\n",
       "}\n",
       "\n",
       ".xr-attrs dt:hover span {\n",
       "  display: inline-block;\n",
       "  background: var(--xr-background-color);\n",
       "  padding-right: 10px;\n",
       "}\n",
       "\n",
       ".xr-attrs dd {\n",
       "  grid-column: 2;\n",
       "  white-space: pre-wrap;\n",
       "  word-break: break-all;\n",
       "}\n",
       "\n",
       ".xr-icon-database,\n",
       ".xr-icon-file-text2,\n",
       ".xr-no-icon {\n",
       "  display: inline-block;\n",
       "  vertical-align: middle;\n",
       "  width: 1em;\n",
       "  height: 1.5em !important;\n",
       "  stroke-width: 0;\n",
       "  stroke: currentColor;\n",
       "  fill: currentColor;\n",
       "}\n",
       "</style><pre class='xr-text-repr-fallback'>&lt;xarray.Dataset&gt; Size: 2TB\n",
       "Dimensions:  (i: 360, j: 300, lev: 50, member: 40, time: 1980)\n",
       "Coordinates:\n",
       "  * i        (i) int32 1kB 0 1 2 3 4 5 6 7 8 ... 352 353 354 355 356 357 358 359\n",
       "  * j        (j) int32 1kB 0 1 2 3 4 5 6 7 8 ... 292 293 294 295 296 297 298 299\n",
       "  * lev      (lev) float64 400B 5.0 15.0 25.0 ... 5.166e+03 5.499e+03 5.831e+03\n",
       "  * time     (time) datetime64[ns] 16kB 1850-01-16T12:00:00 ... 2014-12-16T12...\n",
       "Dimensions without coordinates: member\n",
       "Data variables:\n",
       "    thetao   (member, time, lev, j, i) float32 2TB dask.array&lt;chunksize=(1, 12, 50, 300, 360), meta=np.ndarray&gt;</pre><div class='xr-wrap' style='display:none'><div class='xr-header'><div class='xr-obj-type'>xarray.Dataset</div></div><ul class='xr-sections'><li class='xr-section-item'><input id='section-36d1e38a-d9ed-48e3-a8a6-eeeb5b8c7894' class='xr-section-summary-in' type='checkbox' disabled ><label for='section-36d1e38a-d9ed-48e3-a8a6-eeeb5b8c7894' class='xr-section-summary'  title='Expand/collapse section'>Dimensions:</label><div class='xr-section-inline-details'><ul class='xr-dim-list'><li><span class='xr-has-index'>i</span>: 360</li><li><span class='xr-has-index'>j</span>: 300</li><li><span class='xr-has-index'>lev</span>: 50</li><li><span>member</span>: 40</li><li><span class='xr-has-index'>time</span>: 1980</li></ul></div><div class='xr-section-details'></div></li><li class='xr-section-item'><input id='section-fa5fc65b-9979-4538-a953-93b42a914877' class='xr-section-summary-in' type='checkbox'  checked><label for='section-fa5fc65b-9979-4538-a953-93b42a914877' class='xr-section-summary' >Coordinates: <span>(4)</span></label><div class='xr-section-inline-details'></div><div class='xr-section-details'><ul class='xr-var-list'><li class='xr-var-item'><div class='xr-var-name'><span class='xr-has-index'>i</span></div><div class='xr-var-dims'>(i)</div><div class='xr-var-dtype'>int32</div><div class='xr-var-preview xr-preview'>0 1 2 3 4 5 ... 355 356 357 358 359</div><input id='attrs-bdf430a3-1632-47ce-bf15-749ef8c8d7c9' class='xr-var-attrs-in' type='checkbox' ><label for='attrs-bdf430a3-1632-47ce-bf15-749ef8c8d7c9' title='Show/Hide attributes'><svg class='icon xr-icon-file-text2'><use xlink:href='#icon-file-text2'></use></svg></label><input id='data-383eb0f0-9ef2-41d2-90f2-2a7e5f72ee8f' class='xr-var-data-in' type='checkbox'><label for='data-383eb0f0-9ef2-41d2-90f2-2a7e5f72ee8f' title='Show/Hide data repr'><svg class='icon xr-icon-database'><use xlink:href='#icon-database'></use></svg></label><div class='xr-var-attrs'><dl class='xr-attrs'><dt><span>long_name :</span></dt><dd>cell index along first dimension</dd><dt><span>units :</span></dt><dd>1</dd></dl></div><div class='xr-var-data'><pre>array([  0,   1,   2, ..., 357, 358, 359], dtype=int32)</pre></div></li><li class='xr-var-item'><div class='xr-var-name'><span class='xr-has-index'>j</span></div><div class='xr-var-dims'>(j)</div><div class='xr-var-dtype'>int32</div><div class='xr-var-preview xr-preview'>0 1 2 3 4 5 ... 295 296 297 298 299</div><input id='attrs-25475a09-2a41-42dc-80f5-e05c208205d1' class='xr-var-attrs-in' type='checkbox' ><label for='attrs-25475a09-2a41-42dc-80f5-e05c208205d1' title='Show/Hide attributes'><svg class='icon xr-icon-file-text2'><use xlink:href='#icon-file-text2'></use></svg></label><input id='data-61f6285b-3683-4dfa-93e5-678bb5143858' class='xr-var-data-in' type='checkbox'><label for='data-61f6285b-3683-4dfa-93e5-678bb5143858' title='Show/Hide data repr'><svg class='icon xr-icon-database'><use xlink:href='#icon-database'></use></svg></label><div class='xr-var-attrs'><dl class='xr-attrs'><dt><span>long_name :</span></dt><dd>cell index along second dimension</dd><dt><span>units :</span></dt><dd>1</dd></dl></div><div class='xr-var-data'><pre>array([  0,   1,   2, ..., 297, 298, 299], dtype=int32)</pre></div></li><li class='xr-var-item'><div class='xr-var-name'><span class='xr-has-index'>lev</span></div><div class='xr-var-dims'>(lev)</div><div class='xr-var-dtype'>float64</div><div class='xr-var-preview xr-preview'>5.0 15.0 ... 5.499e+03 5.831e+03</div><input id='attrs-a3526b9b-ff6b-4e8b-b320-544735299669' class='xr-var-attrs-in' type='checkbox' ><label for='attrs-a3526b9b-ff6b-4e8b-b320-544735299669' title='Show/Hide attributes'><svg class='icon xr-icon-file-text2'><use xlink:href='#icon-file-text2'></use></svg></label><input id='data-18757668-5ded-4200-b724-0ab9a24c74f3' class='xr-var-data-in' type='checkbox'><label for='data-18757668-5ded-4200-b724-0ab9a24c74f3' title='Show/Hide data repr'><svg class='icon xr-icon-database'><use xlink:href='#icon-database'></use></svg></label><div class='xr-var-attrs'><dl class='xr-attrs'><dt><span>axis :</span></dt><dd>Z</dd><dt><span>bounds :</span></dt><dd>lev_bnds</dd><dt><span>long_name :</span></dt><dd>ocean depth coordinate</dd><dt><span>positive :</span></dt><dd>down</dd><dt><span>standard_name :</span></dt><dd>depth</dd><dt><span>units :</span></dt><dd>m</dd></dl></div><div class='xr-var-data'><pre>array([5.000000e+00, 1.500000e+01, 2.500000e+01, 3.500000e+01, 4.500000e+01,\n",
       "       5.500000e+01, 6.500000e+01, 7.500000e+01, 8.500000e+01, 9.500000e+01,\n",
       "       1.050000e+02, 1.150000e+02, 1.250000e+02, 1.350000e+02, 1.450000e+02,\n",
       "       1.550000e+02, 1.650000e+02, 1.750000e+02, 1.850000e+02, 1.950000e+02,\n",
       "       2.050000e+02, 2.168468e+02, 2.413490e+02, 2.807807e+02, 3.432505e+02,\n",
       "       4.273156e+02, 5.367156e+02, 6.654141e+02, 8.127816e+02, 9.690651e+02,\n",
       "       1.130935e+03, 1.289605e+03, 1.455770e+03, 1.622926e+03, 1.801558e+03,\n",
       "       1.984855e+03, 2.182905e+03, 2.388417e+03, 2.610935e+03, 2.842564e+03,\n",
       "       3.092205e+03, 3.351295e+03, 3.628058e+03, 3.913264e+03, 4.214495e+03,\n",
       "       4.521918e+03, 4.842566e+03, 5.166130e+03, 5.499245e+03, 5.831294e+03])</pre></div></li><li class='xr-var-item'><div class='xr-var-name'><span class='xr-has-index'>time</span></div><div class='xr-var-dims'>(time)</div><div class='xr-var-dtype'>datetime64[ns]</div><div class='xr-var-preview xr-preview'>1850-01-16T12:00:00 ... 2014-12-...</div><input id='attrs-95f07848-a16c-45ec-a96a-c4042bc92398' class='xr-var-attrs-in' type='checkbox' ><label for='attrs-95f07848-a16c-45ec-a96a-c4042bc92398' title='Show/Hide attributes'><svg class='icon xr-icon-file-text2'><use xlink:href='#icon-file-text2'></use></svg></label><input id='data-4cb73cd5-3c1b-4659-be62-29f1a9907db8' class='xr-var-data-in' type='checkbox'><label for='data-4cb73cd5-3c1b-4659-be62-29f1a9907db8' title='Show/Hide data repr'><svg class='icon xr-icon-database'><use xlink:href='#icon-database'></use></svg></label><div class='xr-var-attrs'><dl class='xr-attrs'><dt><span>axis :</span></dt><dd>T</dd><dt><span>bounds :</span></dt><dd>time_bnds</dd><dt><span>long_name :</span></dt><dd>time</dd><dt><span>standard_name :</span></dt><dd>time</dd></dl></div><div class='xr-var-data'><pre>array([&#x27;1850-01-16T12:00:00.000000000&#x27;, &#x27;1850-02-15T00:00:00.000000000&#x27;,\n",
       "       &#x27;1850-03-16T12:00:00.000000000&#x27;, ..., &#x27;2014-10-16T12:00:00.000000000&#x27;,\n",
       "       &#x27;2014-11-16T00:00:00.000000000&#x27;, &#x27;2014-12-16T12:00:00.000000000&#x27;],\n",
       "      dtype=&#x27;datetime64[ns]&#x27;)</pre></div></li></ul></div></li><li class='xr-section-item'><input id='section-94adb742-d217-4d48-81bc-57ca1f9f04f0' class='xr-section-summary-in' type='checkbox'  checked><label for='section-94adb742-d217-4d48-81bc-57ca1f9f04f0' class='xr-section-summary' >Data variables: <span>(1)</span></label><div class='xr-section-inline-details'></div><div class='xr-section-details'><ul class='xr-var-list'><li class='xr-var-item'><div class='xr-var-name'><span>thetao</span></div><div class='xr-var-dims'>(member, time, lev, j, i)</div><div class='xr-var-dtype'>float32</div><div class='xr-var-preview xr-preview'>dask.array&lt;chunksize=(1, 12, 50, 300, 360), meta=np.ndarray&gt;</div><input id='attrs-e5b34c33-a081-4c6c-ae5b-9410cb88b6d6' class='xr-var-attrs-in' type='checkbox' ><label for='attrs-e5b34c33-a081-4c6c-ae5b-9410cb88b6d6' title='Show/Hide attributes'><svg class='icon xr-icon-file-text2'><use xlink:href='#icon-file-text2'></use></svg></label><input id='data-6169b1ac-108e-4b71-b70f-e332b67606b3' class='xr-var-data-in' type='checkbox'><label for='data-6169b1ac-108e-4b71-b70f-e332b67606b3' title='Show/Hide data repr'><svg class='icon xr-icon-database'><use xlink:href='#icon-database'></use></svg></label><div class='xr-var-attrs'><dl class='xr-attrs'><dt><span>cell_measures :</span></dt><dd>area: areacello volume: volcello</dd><dt><span>cell_methods :</span></dt><dd>area: mean where sea time: mean</dd><dt><span>comment :</span></dt><dd>Diagnostic should be contributed even for models using conservative temperature as prognostic field.</dd><dt><span>long_name :</span></dt><dd>Sea Water Potential Temperature</dd><dt><span>standard_name :</span></dt><dd>sea_water_potential_temperature</dd><dt><span>units :</span></dt><dd>degC</dd></dl></div><div class='xr-var-data'><table>\n",
       "    <tr>\n",
       "        <td>\n",
       "            <table style=\"border-collapse: collapse;\">\n",
       "                <thead>\n",
       "                    <tr>\n",
       "                        <td> </td>\n",
       "                        <th> Array </th>\n",
       "                        <th> Chunk </th>\n",
       "                    </tr>\n",
       "                </thead>\n",
       "                <tbody>\n",
       "                    \n",
       "                    <tr>\n",
       "                        <th> Bytes </th>\n",
       "                        <td> 1.56 TiB </td>\n",
       "                        <td> 247.19 MiB </td>\n",
       "                    </tr>\n",
       "                    \n",
       "                    <tr>\n",
       "                        <th> Shape </th>\n",
       "                        <td> (40, 1980, 50, 300, 360) </td>\n",
       "                        <td> (1, 12, 50, 300, 360) </td>\n",
       "                    </tr>\n",
       "                    <tr>\n",
       "                        <th> Dask graph </th>\n",
       "                        <td colspan=\"2\"> 6600 chunks in 2 graph layers </td>\n",
       "                    </tr>\n",
       "                    <tr>\n",
       "                        <th> Data type </th>\n",
       "                        <td colspan=\"2\"> float32 numpy.ndarray </td>\n",
       "                    </tr>\n",
       "                </tbody>\n",
       "            </table>\n",
       "        </td>\n",
       "        <td>\n",
       "        <svg width=\"489\" height=\"108\" style=\"stroke:rgb(0,0,0);stroke-width:1\" >\n",
       "\n",
       "  <!-- Horizontal lines -->\n",
       "  <line x1=\"0\" y1=\"0\" x2=\"120\" y2=\"0\" style=\"stroke-width:2\" />\n",
       "  <line x1=\"0\" y1=\"0\" x2=\"120\" y2=\"0\" />\n",
       "  <line x1=\"0\" y1=\"1\" x2=\"120\" y2=\"1\" />\n",
       "  <line x1=\"0\" y1=\"2\" x2=\"120\" y2=\"2\" />\n",
       "  <line x1=\"0\" y1=\"3\" x2=\"120\" y2=\"3\" />\n",
       "  <line x1=\"0\" y1=\"4\" x2=\"120\" y2=\"4\" />\n",
       "  <line x1=\"0\" y1=\"5\" x2=\"120\" y2=\"5\" />\n",
       "  <line x1=\"0\" y1=\"5\" x2=\"120\" y2=\"5\" />\n",
       "  <line x1=\"0\" y1=\"7\" x2=\"120\" y2=\"7\" />\n",
       "  <line x1=\"0\" y1=\"7\" x2=\"120\" y2=\"7\" />\n",
       "  <line x1=\"0\" y1=\"8\" x2=\"120\" y2=\"8\" />\n",
       "  <line x1=\"0\" y1=\"9\" x2=\"120\" y2=\"9\" />\n",
       "  <line x1=\"0\" y1=\"10\" x2=\"120\" y2=\"10\" />\n",
       "  <line x1=\"0\" y1=\"11\" x2=\"120\" y2=\"11\" />\n",
       "  <line x1=\"0\" y1=\"12\" x2=\"120\" y2=\"12\" />\n",
       "  <line x1=\"0\" y1=\"13\" x2=\"120\" y2=\"13\" />\n",
       "  <line x1=\"0\" y1=\"14\" x2=\"120\" y2=\"14\" />\n",
       "  <line x1=\"0\" y1=\"15\" x2=\"120\" y2=\"15\" />\n",
       "  <line x1=\"0\" y1=\"15\" x2=\"120\" y2=\"15\" />\n",
       "  <line x1=\"0\" y1=\"16\" x2=\"120\" y2=\"16\" />\n",
       "  <line x1=\"0\" y1=\"18\" x2=\"120\" y2=\"18\" />\n",
       "  <line x1=\"0\" y1=\"18\" x2=\"120\" y2=\"18\" />\n",
       "  <line x1=\"0\" y1=\"19\" x2=\"120\" y2=\"19\" />\n",
       "  <line x1=\"0\" y1=\"20\" x2=\"120\" y2=\"20\" />\n",
       "  <line x1=\"0\" y1=\"21\" x2=\"120\" y2=\"21\" />\n",
       "  <line x1=\"0\" y1=\"22\" x2=\"120\" y2=\"22\" />\n",
       "  <line x1=\"0\" y1=\"23\" x2=\"120\" y2=\"23\" />\n",
       "  <line x1=\"0\" y1=\"23\" x2=\"120\" y2=\"23\" />\n",
       "  <line x1=\"0\" y1=\"25\" x2=\"120\" y2=\"25\" />\n",
       "  <line x1=\"0\" y1=\"26\" x2=\"120\" y2=\"26\" />\n",
       "  <line x1=\"0\" y1=\"26\" x2=\"120\" y2=\"26\" />\n",
       "  <line x1=\"0\" y1=\"27\" x2=\"120\" y2=\"27\" />\n",
       "  <line x1=\"0\" y1=\"29\" x2=\"120\" y2=\"29\" style=\"stroke-width:2\" />\n",
       "\n",
       "  <!-- Vertical lines -->\n",
       "  <line x1=\"0\" y1=\"0\" x2=\"0\" y2=\"29\" style=\"stroke-width:2\" />\n",
       "  <line x1=\"3\" y1=\"0\" x2=\"3\" y2=\"29\" />\n",
       "  <line x1=\"7\" y1=\"0\" x2=\"7\" y2=\"29\" />\n",
       "  <line x1=\"10\" y1=\"0\" x2=\"10\" y2=\"29\" />\n",
       "  <line x1=\"14\" y1=\"0\" x2=\"14\" y2=\"29\" />\n",
       "  <line x1=\"18\" y1=\"0\" x2=\"18\" y2=\"29\" />\n",
       "  <line x1=\"21\" y1=\"0\" x2=\"21\" y2=\"29\" />\n",
       "  <line x1=\"26\" y1=\"0\" x2=\"26\" y2=\"29\" />\n",
       "  <line x1=\"29\" y1=\"0\" x2=\"29\" y2=\"29\" />\n",
       "  <line x1=\"33\" y1=\"0\" x2=\"33\" y2=\"29\" />\n",
       "  <line x1=\"37\" y1=\"0\" x2=\"37\" y2=\"29\" />\n",
       "  <line x1=\"40\" y1=\"0\" x2=\"40\" y2=\"29\" />\n",
       "  <line x1=\"44\" y1=\"0\" x2=\"44\" y2=\"29\" />\n",
       "  <line x1=\"48\" y1=\"0\" x2=\"48\" y2=\"29\" />\n",
       "  <line x1=\"52\" y1=\"0\" x2=\"52\" y2=\"29\" />\n",
       "  <line x1=\"56\" y1=\"0\" x2=\"56\" y2=\"29\" />\n",
       "  <line x1=\"59\" y1=\"0\" x2=\"59\" y2=\"29\" />\n",
       "  <line x1=\"63\" y1=\"0\" x2=\"63\" y2=\"29\" />\n",
       "  <line x1=\"66\" y1=\"0\" x2=\"66\" y2=\"29\" />\n",
       "  <line x1=\"70\" y1=\"0\" x2=\"70\" y2=\"29\" />\n",
       "  <line x1=\"74\" y1=\"0\" x2=\"74\" y2=\"29\" />\n",
       "  <line x1=\"78\" y1=\"0\" x2=\"78\" y2=\"29\" />\n",
       "  <line x1=\"82\" y1=\"0\" x2=\"82\" y2=\"29\" />\n",
       "  <line x1=\"85\" y1=\"0\" x2=\"85\" y2=\"29\" />\n",
       "  <line x1=\"89\" y1=\"0\" x2=\"89\" y2=\"29\" />\n",
       "  <line x1=\"93\" y1=\"0\" x2=\"93\" y2=\"29\" />\n",
       "  <line x1=\"97\" y1=\"0\" x2=\"97\" y2=\"29\" />\n",
       "  <line x1=\"101\" y1=\"0\" x2=\"101\" y2=\"29\" />\n",
       "  <line x1=\"104\" y1=\"0\" x2=\"104\" y2=\"29\" />\n",
       "  <line x1=\"108\" y1=\"0\" x2=\"108\" y2=\"29\" />\n",
       "  <line x1=\"112\" y1=\"0\" x2=\"112\" y2=\"29\" />\n",
       "  <line x1=\"115\" y1=\"0\" x2=\"115\" y2=\"29\" />\n",
       "  <line x1=\"120\" y1=\"0\" x2=\"120\" y2=\"29\" style=\"stroke-width:2\" />\n",
       "\n",
       "  <!-- Colored Rectangle -->\n",
       "  <polygon points=\"0.0,0.0 120.0,0.0 120.0,29.087241068591993 0.0,29.087241068591993\" style=\"fill:#8B4903A0;stroke-width:0\"/>\n",
       "\n",
       "  <!-- Text -->\n",
       "  <text x=\"60.000000\" y=\"49.087241\" font-size=\"1.0rem\" font-weight=\"100\" text-anchor=\"middle\" >1980</text>\n",
       "  <text x=\"140.000000\" y=\"14.543621\" font-size=\"1.0rem\" font-weight=\"100\" text-anchor=\"middle\" transform=\"rotate(0,140.000000,14.543621)\">40</text>\n",
       "\n",
       "\n",
       "  <!-- Horizontal lines -->\n",
       "  <line x1=\"190\" y1=\"0\" x2=\"207\" y2=\"17\" style=\"stroke-width:2\" />\n",
       "  <line x1=\"190\" y1=\"40\" x2=\"207\" y2=\"58\" style=\"stroke-width:2\" />\n",
       "\n",
       "  <!-- Vertical lines -->\n",
       "  <line x1=\"190\" y1=\"0\" x2=\"190\" y2=\"40\" style=\"stroke-width:2\" />\n",
       "  <line x1=\"207\" y1=\"17\" x2=\"207\" y2=\"58\" style=\"stroke-width:2\" />\n",
       "\n",
       "  <!-- Colored Rectangle -->\n",
       "  <polygon points=\"190.0,0.0 207.86481430192825,17.86481430192825 207.86481430192825,58.61960692934128 190.0,40.75479262741303\" style=\"fill:#ECB172A0;stroke-width:0\"/>\n",
       "\n",
       "  <!-- Horizontal lines -->\n",
       "  <line x1=\"190\" y1=\"0\" x2=\"231\" y2=\"0\" style=\"stroke-width:2\" />\n",
       "  <line x1=\"207\" y1=\"17\" x2=\"249\" y2=\"17\" style=\"stroke-width:2\" />\n",
       "\n",
       "  <!-- Vertical lines -->\n",
       "  <line x1=\"190\" y1=\"0\" x2=\"207\" y2=\"17\" style=\"stroke-width:2\" />\n",
       "  <line x1=\"231\" y1=\"0\" x2=\"249\" y2=\"17\" style=\"stroke-width:2\" />\n",
       "\n",
       "  <!-- Colored Rectangle -->\n",
       "  <polygon points=\"190.0,0.0 231.59732749150098,0.0 249.46214179342923,17.86481430192825 207.86481430192825,17.86481430192825\" style=\"fill:#ECB172A0;stroke-width:0\"/>\n",
       "\n",
       "  <!-- Horizontal lines -->\n",
       "  <line x1=\"207\" y1=\"17\" x2=\"249\" y2=\"17\" style=\"stroke-width:2\" />\n",
       "  <line x1=\"207\" y1=\"58\" x2=\"249\" y2=\"58\" style=\"stroke-width:2\" />\n",
       "\n",
       "  <!-- Vertical lines -->\n",
       "  <line x1=\"207\" y1=\"17\" x2=\"207\" y2=\"58\" style=\"stroke-width:2\" />\n",
       "  <line x1=\"249\" y1=\"17\" x2=\"249\" y2=\"58\" style=\"stroke-width:2\" />\n",
       "\n",
       "  <!-- Colored Rectangle -->\n",
       "  <polygon points=\"207.86481430192825,17.86481430192825 249.46214179342923,17.86481430192825 249.46214179342923,58.61960692934128 207.86481430192825,58.61960692934128\" style=\"fill:#ECB172A0;stroke-width:0\"/>\n",
       "\n",
       "  <!-- Text -->\n",
       "  <text x=\"228.663478\" y=\"78.619607\" font-size=\"1.0rem\" font-weight=\"100\" text-anchor=\"middle\" >360</text>\n",
       "  <text x=\"269.462142\" y=\"38.242211\" font-size=\"1.0rem\" font-weight=\"100\" text-anchor=\"middle\" transform=\"rotate(-90,269.462142,38.242211)\">300</text>\n",
       "  <text x=\"188.932407\" y=\"69.687200\" font-size=\"1.0rem\" font-weight=\"100\" text-anchor=\"middle\" transform=\"rotate(45,188.932407,69.687200)\">50</text>\n",
       "</svg>\n",
       "        </td>\n",
       "    </tr>\n",
       "</table></div></li></ul></div></li><li class='xr-section-item'><input id='section-5baa7cca-dd0f-422f-a515-1e357e07c09e' class='xr-section-summary-in' type='checkbox'  ><label for='section-5baa7cca-dd0f-422f-a515-1e357e07c09e' class='xr-section-summary' >Indexes: <span>(4)</span></label><div class='xr-section-inline-details'></div><div class='xr-section-details'><ul class='xr-var-list'><li class='xr-var-item'><div class='xr-index-name'><div>i</div></div><div class='xr-index-preview'>PandasIndex</div><div></div><input id='index-8ea69265-095a-4b1b-b836-6cd3ea3307a8' class='xr-index-data-in' type='checkbox'/><label for='index-8ea69265-095a-4b1b-b836-6cd3ea3307a8' title='Show/Hide index repr'><svg class='icon xr-icon-database'><use xlink:href='#icon-database'></use></svg></label><div class='xr-index-data'><pre>PandasIndex(Index([  0,   1,   2,   3,   4,   5,   6,   7,   8,   9,\n",
       "       ...\n",
       "       350, 351, 352, 353, 354, 355, 356, 357, 358, 359],\n",
       "      dtype=&#x27;int32&#x27;, name=&#x27;i&#x27;, length=360))</pre></div></li><li class='xr-var-item'><div class='xr-index-name'><div>j</div></div><div class='xr-index-preview'>PandasIndex</div><div></div><input id='index-5c1aa09e-e12a-41e9-bbaa-df11a1865c0b' class='xr-index-data-in' type='checkbox'/><label for='index-5c1aa09e-e12a-41e9-bbaa-df11a1865c0b' title='Show/Hide index repr'><svg class='icon xr-icon-database'><use xlink:href='#icon-database'></use></svg></label><div class='xr-index-data'><pre>PandasIndex(Index([  0,   1,   2,   3,   4,   5,   6,   7,   8,   9,\n",
       "       ...\n",
       "       290, 291, 292, 293, 294, 295, 296, 297, 298, 299],\n",
       "      dtype=&#x27;int32&#x27;, name=&#x27;j&#x27;, length=300))</pre></div></li><li class='xr-var-item'><div class='xr-index-name'><div>lev</div></div><div class='xr-index-preview'>PandasIndex</div><div></div><input id='index-df614518-8cc6-43f2-b057-4a9225710d26' class='xr-index-data-in' type='checkbox'/><label for='index-df614518-8cc6-43f2-b057-4a9225710d26' title='Show/Hide index repr'><svg class='icon xr-icon-database'><use xlink:href='#icon-database'></use></svg></label><div class='xr-index-data'><pre>PandasIndex(Index([               5.0,               15.0,               25.0,\n",
       "                     35.0,               45.0,               55.0,\n",
       "                     65.0,               75.0,               85.0,\n",
       "                     95.0,              105.0,              115.0,\n",
       "                    125.0,              135.0,              145.0,\n",
       "                    155.0,              165.0,              175.0,\n",
       "                    185.0,              195.0,              205.0,\n",
       "        216.8467559814453, 241.34901428222656,  280.7807312011719,\n",
       "        343.2504577636719,  427.3155517578125,  536.7156372070312,\n",
       "        665.4141235351562,  812.7816162109375,  969.0651245117188,\n",
       "       1130.9349365234375, 1289.6046142578125, 1455.7701416015625,\n",
       "       1622.9256591796875,   1801.55810546875, 1984.8546142578125,\n",
       "         2182.90478515625,   2388.41748046875,   2610.93505859375,\n",
       "           2842.564453125,  3092.204833984375,  3351.294677734375,\n",
       "          3628.0576171875,  3913.264404296875,    4214.4951171875,\n",
       "            4521.91796875,   4842.56591796875,    5166.1298828125,\n",
       "          5499.2451171875,   5831.29443359375],\n",
       "      dtype=&#x27;float64&#x27;, name=&#x27;lev&#x27;))</pre></div></li><li class='xr-var-item'><div class='xr-index-name'><div>time</div></div><div class='xr-index-preview'>PandasIndex</div><div></div><input id='index-095f32d3-3e62-4ccf-8928-6a33ef11d17c' class='xr-index-data-in' type='checkbox'/><label for='index-095f32d3-3e62-4ccf-8928-6a33ef11d17c' title='Show/Hide index repr'><svg class='icon xr-icon-database'><use xlink:href='#icon-database'></use></svg></label><div class='xr-index-data'><pre>PandasIndex(DatetimeIndex([&#x27;1850-01-16 12:00:00&#x27;, &#x27;1850-02-15 00:00:00&#x27;,\n",
       "               &#x27;1850-03-16 12:00:00&#x27;, &#x27;1850-04-16 00:00:00&#x27;,\n",
       "               &#x27;1850-05-16 12:00:00&#x27;, &#x27;1850-06-16 00:00:00&#x27;,\n",
       "               &#x27;1850-07-16 12:00:00&#x27;, &#x27;1850-08-16 12:00:00&#x27;,\n",
       "               &#x27;1850-09-16 00:00:00&#x27;, &#x27;1850-10-16 12:00:00&#x27;,\n",
       "               ...\n",
       "               &#x27;2014-03-16 12:00:00&#x27;, &#x27;2014-04-16 00:00:00&#x27;,\n",
       "               &#x27;2014-05-16 12:00:00&#x27;, &#x27;2014-06-16 00:00:00&#x27;,\n",
       "               &#x27;2014-07-16 12:00:00&#x27;, &#x27;2014-08-16 12:00:00&#x27;,\n",
       "               &#x27;2014-09-16 00:00:00&#x27;, &#x27;2014-10-16 12:00:00&#x27;,\n",
       "               &#x27;2014-11-16 00:00:00&#x27;, &#x27;2014-12-16 12:00:00&#x27;],\n",
       "              dtype=&#x27;datetime64[ns]&#x27;, name=&#x27;time&#x27;, length=1980, freq=None))</pre></div></li></ul></div></li><li class='xr-section-item'><input id='section-af4ded9f-3e25-4662-88d2-1efb0f7cb114' class='xr-section-summary-in' type='checkbox' disabled ><label for='section-af4ded9f-3e25-4662-88d2-1efb0f7cb114' class='xr-section-summary'  title='Expand/collapse section'>Attributes: <span>(0)</span></label><div class='xr-section-inline-details'></div><div class='xr-section-details'><dl class='xr-attrs'></dl></div></li></ul></div></div>"
      ],
      "text/plain": [
       "<xarray.Dataset> Size: 2TB\n",
       "Dimensions:  (i: 360, j: 300, lev: 50, member: 40, time: 1980)\n",
       "Coordinates:\n",
       "  * i        (i) int32 1kB 0 1 2 3 4 5 6 7 8 ... 352 353 354 355 356 357 358 359\n",
       "  * j        (j) int32 1kB 0 1 2 3 4 5 6 7 8 ... 292 293 294 295 296 297 298 299\n",
       "  * lev      (lev) float64 400B 5.0 15.0 25.0 ... 5.166e+03 5.499e+03 5.831e+03\n",
       "  * time     (time) datetime64[ns] 16kB 1850-01-16T12:00:00 ... 2014-12-16T12...\n",
       "Dimensions without coordinates: member\n",
       "Data variables:\n",
       "    thetao   (member, time, lev, j, i) float32 2TB dask.array<chunksize=(1, 12, 50, 300, 360), meta=np.ndarray>"
      ]
     },
     "execution_count": 20,
     "metadata": {},
     "output_type": "execute_result"
    }
   ],
   "source": [
    "result"
   ]
  },
  {
   "cell_type": "code",
   "execution_count": 21,
   "id": "bac76c8d-d45d-4231-961e-2a754bd25a98",
   "metadata": {},
   "outputs": [],
   "source": [
    "temp = result.thetao"
   ]
  },
  {
   "cell_type": "code",
   "execution_count": 22,
   "id": "5834bdf9-0c5b-44d5-bc41-44996aec9c26",
   "metadata": {},
   "outputs": [
    {
     "name": "stdout",
     "output_type": "stream",
     "text": [
      "CPU times: user 380 ms, sys: 125 ms, total: 505 ms\n",
      "Wall time: 3.26 s\n"
     ]
    },
    {
     "data": {
      "text/plain": [
       "<matplotlib.collections.QuadMesh at 0x151ab6366560>"
      ]
     },
     "execution_count": 22,
     "metadata": {},
     "output_type": "execute_result"
    },
    {
     "data": {
      "image/png": "[encoded data removed]",
      "text/plain": [
       "<Figure size 640x480 with 2 Axes>"
      ]
     },
     "metadata": {},
     "output_type": "display_data"
    }
   ],
   "source": [
    "%%time\n",
    "temp.isel({'member':0,'lev':5}).isel(time=slice(0,12)).mean('time').plot(robust=True)"
   ]
  },
  {
   "cell_type": "markdown",
   "id": "dd99c445-ad62-4912-8eab-08a38b39e4dd",
   "metadata": {},
   "source": [
    "#### The End (?)"
   ]
  },
  {
   "cell_type": "code",
   "execution_count": null,
   "id": "8d2828e6-0875-417a-959c-0deeaff8656f",
   "metadata": {},
   "outputs": [],
   "source": []
  },
  {
   "cell_type": "code",
   "execution_count": null,
   "id": "90e14b38-ff20-45fa-97e6-3bcf3fbe52fc",
   "metadata": {},
   "outputs": [],
   "source": []
  },
  {
   "cell_type": "code",
   "execution_count": null,
   "id": "554d202f-3dbf-4082-8277-ee4099c5c6de",
   "metadata": {},
   "outputs": [],
   "source": []
  },
  {
   "cell_type": "code",
   "execution_count": null,
   "id": "b30e3e0d-4e11-445c-92a5-3fb8e0ec4a2c",
   "metadata": {},
   "outputs": [],
   "source": []
  },
  {
   "cell_type": "code",
   "execution_count": null,
   "id": "ed5976a1-2326-49d0-bdfe-1e239225d17f",
   "metadata": {},
   "outputs": [],
   "source": []
  },
  {
   "cell_type": "code",
   "execution_count": null,
   "id": "03010f87-486d-4920-8407-f57fbbc1c74e",
   "metadata": {},
   "outputs": [],
   "source": []
  },
  {
   "cell_type": "code",
   "execution_count": null,
   "id": "e8aac540-a1b7-4718-8d69-33f5f21fd9b2",
   "metadata": {},
   "outputs": [],
   "source": []
  },
  {
   "cell_type": "code",
   "execution_count": null,
   "id": "ca911669-844e-4cff-ab7b-19ffd62deba8",
   "metadata": {},
   "outputs": [],
   "source": []
  },
  {
   "cell_type": "code",
   "execution_count": null,
   "id": "2bd6e219-6480-4f78-be4a-8e84e2f2a0e4",
   "metadata": {},
   "outputs": [],
   "source": []
  },
  {
   "cell_type": "code",
   "execution_count": null,
   "id": "c92553ba-c6c5-46f7-bf1d-fda686a10f32",
   "metadata": {},
   "outputs": [],
   "source": []
  },
  {
   "cell_type": "markdown",
   "id": "365a377d-3c08-4f79-85a8-618a2f325d80",
   "metadata": {},
   "source": [
    "# can we rechunk 40 member collections to `for member`?"
   ]
  },
  {
   "cell_type": "code",
   "execution_count": null,
   "id": "e699660c-b5fb-4ae6-98b9-3e9b139bf545",
   "metadata": {},
   "outputs": [],
   "source": [
    "loaded_member1_40_rc = loaded_member1_40.chunk({'member':-1,'time':1,'lev':25})\n",
    "loaded_member1_40_rc"
   ]
  },
  {
   "cell_type": "code",
   "execution_count": null,
   "id": "d4e90fd8-506c-4536-ad0c-c2fd67782516",
   "metadata": {},
   "outputs": [],
   "source": [
    "remove_zarr_encoding(loaded_member1_40_rc)"
   ]
  },
  {
   "cell_type": "code",
   "execution_count": null,
   "id": "7a59fb9d-509b-4606-96b6-29924e36b7ec",
   "metadata": {},
   "outputs": [],
   "source": [
    "loaded_member1_40_rc.o2.encoding"
   ]
  },
  {
   "cell_type": "code",
   "execution_count": null,
   "id": "88e78b31-2da3-4802-a676-8381dc8386e7",
   "metadata": {},
   "outputs": [],
   "source": [
    "%%time\n",
    "loaded_member1_40_rc.to_zarr(file_path+'r1-40.ACCESS-ESM1.5-historical-o2-chunk4member.zarr',consolidated=True)"
   ]
  },
  {
   "cell_type": "code",
   "execution_count": null,
   "id": "738b6deb-5d13-4b13-8d50-7c539233d625",
   "metadata": {},
   "outputs": [],
   "source": [
    "chunk4member = xr.open_zarr(file_path+'r1-40.ACCESS-ESM1.5-historical-o2-chunk4member.zarr',consolidated=True)"
   ]
  },
  {
   "cell_type": "code",
   "execution_count": null,
   "id": "5be04002-ce1d-47da-a45c-c94a225dbba3",
   "metadata": {},
   "outputs": [],
   "source": [
    "chunk4member"
   ]
  },
  {
   "cell_type": "code",
   "execution_count": null,
   "id": "a570d0c5-338d-4e35-b9fb-b2d7b3b1e0a6",
   "metadata": {},
   "outputs": [],
   "source": [
    "chunk4member.o2.max('member').isel(lev=0).mean(dim=['i','j']).plot()"
   ]
  },
  {
   "cell_type": "markdown",
   "id": "160c9e57-9240-4d21-84fd-9d1dc9d11c27",
   "metadata": {},
   "source": [
    "# can we chunk for time?"
   ]
  },
  {
   "cell_type": "code",
   "execution_count": null,
   "id": "d494860e-d8c4-4aa6-a665-530a4b121171",
   "metadata": {},
   "outputs": [],
   "source": [
    "loaded_member1_40_rc = loaded_member1_40.chunk({'time':-1,'lev':1,'i':150})\n",
    "loaded_member1_40_rc"
   ]
  },
  {
   "cell_type": "code",
   "execution_count": null,
   "id": "9613613f-208a-49af-a47e-25ab71a72a32",
   "metadata": {},
   "outputs": [],
   "source": [
    "remove_zarr_encoding(loaded_member1_40_rc)"
   ]
  },
  {
   "cell_type": "code",
   "execution_count": null,
   "id": "d1f94911-38b7-4278-a7b5-44bb20713434",
   "metadata": {},
   "outputs": [],
   "source": [
    "loaded_member1_40_rc.o2.encoding"
   ]
  },
  {
   "cell_type": "code",
   "execution_count": null,
   "id": "b81250c3-3a6c-49ec-8476-e44df1836b53",
   "metadata": {
    "scrolled": true
   },
   "outputs": [],
   "source": [
    "%%time\n",
    "loaded_member1_40_rc.to_zarr(file_path+'r1-40.ACCESS-ESM1.5-historical-o2-chunk4time.zarr',consolidated=True)"
   ]
  },
  {
   "cell_type": "code",
   "execution_count": null,
   "id": "a22ea91d-1315-4c36-a2ba-50b72fb916c4",
   "metadata": {},
   "outputs": [],
   "source": []
  },
  {
   "cell_type": "code",
   "execution_count": null,
   "id": "40caaf40-de4e-4c15-8bce-6496b704a4c8",
   "metadata": {},
   "outputs": [],
   "source": [
    "chunked_for_time = xr.open_zarr(file_path+'r1-40.ACCESS-ESM1.5-historical-o2-chunk4time.zarr',consolidated=True)"
   ]
  },
  {
   "cell_type": "code",
   "execution_count": null,
   "id": "017da3c4-4f50-4bb5-9262-c8584e85610d",
   "metadata": {},
   "outputs": [],
   "source": [
    "chunked_for_time"
   ]
  },
  {
   "cell_type": "code",
   "execution_count": null,
   "id": "913112de-131a-41fa-96a9-73052fb627e9",
   "metadata": {},
   "outputs": [],
   "source": [
    "chunked_for_time.o2.mean('time').isel(lev=0).isel(member=0).plot()"
   ]
  },
  {
   "cell_type": "markdown",
   "id": "4a155114-a904-4f28-b6d4-804765912d95",
   "metadata": {},
   "source": [
    "# can we chunk for `time & member`?"
   ]
  },
  {
   "cell_type": "code",
   "execution_count": null,
   "id": "8aa84536-e635-4d6a-8cee-5d3f983f7d04",
   "metadata": {},
   "outputs": [],
   "source": [
    "chunked_for_time_rc = chunked_for_time.chunk({'time':-1,'lev':1,'member':-1,'i':36,'j':30})\n",
    "chunked_for_time_rc"
   ]
  },
  {
   "cell_type": "code",
   "execution_count": null,
   "id": "344e6b50-3662-45dc-a3f5-64b3554ac27d",
   "metadata": {},
   "outputs": [],
   "source": [
    "remove_zarr_encoding(chunked_for_time_rc)"
   ]
  },
  {
   "cell_type": "code",
   "execution_count": null,
   "id": "5ccc6696-e9ec-4721-b20a-19883eb0fc36",
   "metadata": {},
   "outputs": [],
   "source": [
    "chunked_for_time_rc.o2.encoding"
   ]
  },
  {
   "cell_type": "code",
   "execution_count": null,
   "id": "8b58878c-d731-49ee-8495-4fb18533c195",
   "metadata": {},
   "outputs": [],
   "source": [
    "%%time\n",
    "chunked_for_time_rc.to_zarr(file_path+'r1-40.ACCESS-ESM1.5-historical-o2-chunk4time4member.zarr',consolidated=True)"
   ]
  },
  {
   "cell_type": "code",
   "execution_count": null,
   "id": "59c03250-1487-486d-97b7-24de5438b43d",
   "metadata": {},
   "outputs": [],
   "source": [
    "chunked_for_time_member = xr.open_zarr(file_path+'r1-40.ACCESS-ESM1.5-historical-o2-chunk4time4member.zarr',consolidated=True)"
   ]
  },
  {
   "cell_type": "code",
   "execution_count": null,
   "id": "eb4516a9-86af-46cf-9922-b78b71c7618e",
   "metadata": {},
   "outputs": [],
   "source": [
    "chunked_for_time_member"
   ]
  },
  {
   "cell_type": "markdown",
   "id": "955f4d66-6991-42ce-b842-1fed72e7e45f",
   "metadata": {},
   "source": [
    "# chunk for 3D space"
   ]
  },
  {
   "cell_type": "code",
   "execution_count": null,
   "id": "517c190d-adc3-4eed-b666-b731da829652",
   "metadata": {},
   "outputs": [],
   "source": [
    "loaded_member1_40_rc = loaded_member1_40.chunk({'i':-1,'j':-1,'lev':50,'time':24,'member':1})\n",
    "loaded_member1_40_rc"
   ]
  },
  {
   "cell_type": "code",
   "execution_count": null,
   "id": "24beab9e-a2c3-4004-b0f5-4a7199cb2a2c",
   "metadata": {},
   "outputs": [],
   "source": [
    "remove_zarr_encoding(loaded_member1_40_rc)"
   ]
  },
  {
   "cell_type": "code",
   "execution_count": null,
   "id": "8e48b089-f997-4ae8-b7f0-04b6bffc8f44",
   "metadata": {},
   "outputs": [],
   "source": [
    "%%time\n",
    "loaded_member1_40_rc.to_zarr(file_path+'r1-40.ACCESS-ESM1.5-historical-o2-chunk4xyz.zarr',consolidated=True)"
   ]
  },
  {
   "cell_type": "code",
   "execution_count": null,
   "id": "a1442592-1f80-405c-8910-cbdec2d2c6ee",
   "metadata": {},
   "outputs": [],
   "source": [
    "chuned_xyz = xr.open_zarr(file_path+'r1-40.ACCESS-ESM1.5-historical-o2-chunk4xyz.zarr',consolidated=True)"
   ]
  },
  {
   "cell_type": "code",
   "execution_count": null,
   "id": "3f9e38f4-8a89-4b7d-8a58-59298d069adf",
   "metadata": {},
   "outputs": [],
   "source": [
    "chuned_xyz"
   ]
  },
  {
   "cell_type": "code",
   "execution_count": null,
   "id": "be101f8d-eb0c-4b27-a0da-bbf1a7ffcb24",
   "metadata": {},
   "outputs": [],
   "source": [
    "chuned_xyz.o2.mean(dim=['i','j','lev']).plot.line(x=\"time\")"
   ]
  },
  {
   "cell_type": "markdown",
   "id": "01ed4c5f-3601-4ee0-a2c0-3b851e0422e3",
   "metadata": {},
   "source": [
    "# can we chunk for lev & time?"
   ]
  },
  {
   "cell_type": "code",
   "execution_count": null,
   "id": "2fc5ffb7-deb2-4dd6-8ed4-230e9361bb85",
   "metadata": {},
   "outputs": [],
   "source": [
    "chunked_for_time_rc = chunked_for_time.chunk({'time':-1,'lev':-1,'member':1,'i':36,'j':30})\n",
    "chunked_for_time_rc"
   ]
  },
  {
   "cell_type": "code",
   "execution_count": null,
   "id": "b58cb585-460f-499e-bea8-31d3206ab432",
   "metadata": {},
   "outputs": [],
   "source": [
    "remove_zarr_encoding(chunked_for_time_rc)"
   ]
  },
  {
   "cell_type": "code",
   "execution_count": null,
   "id": "ff021a54-c810-49aa-bc72-4d64a28a4618",
   "metadata": {
    "scrolled": true
   },
   "outputs": [],
   "source": [
    "%%time\n",
    "chunked_for_time_rc.to_zarr(file_path+'r1-40.ACCESS-ESM1.5-historical-o2-chunk4time4z.zarr',consolidated=True)"
   ]
  },
  {
   "cell_type": "code",
   "execution_count": null,
   "id": "8c21a272-11b0-4233-9e31-75ed443378d5",
   "metadata": {},
   "outputs": [],
   "source": [
    "chunked_time_z = xr.open_zarr(file_path+'r1-40.ACCESS-ESM1.5-historical-o2-chunktime4z.zarr',consolidated=True)"
   ]
  },
  {
   "cell_type": "code",
   "execution_count": null,
   "id": "8edb8e3f-7af9-4b4f-ad0f-db526ff112ca",
   "metadata": {},
   "outputs": [],
   "source": []
  },
  {
   "cell_type": "code",
   "execution_count": null,
   "id": "205b2b4c-37de-445d-a7f2-b47528197be1",
   "metadata": {},
   "outputs": [],
   "source": []
  },
  {
   "cell_type": "code",
   "execution_count": null,
   "id": "9c9b9a2f-dcf5-4f12-ab18-ea6315b06f0e",
   "metadata": {
    "jupyter": {
     "source_hidden": true
    }
   },
   "outputs": [],
   "source": [
    "! rm -rf /scratch/xv83/tm4888/tmp_rechunker/*.zarr # clean up any existing temporary data"
   ]
  },
  {
   "cell_type": "code",
   "execution_count": null,
   "id": "a7b05ef6-fc4d-410a-8819-4c14d821aadd",
   "metadata": {},
   "outputs": [],
   "source": [
    "from rechunker import rechunk\n",
    "target_chunks = {\n",
    "    \"o2\": {'member':3,'time':12,'i':360,'j':300,'lev':25},\n",
    "    \"time\": None,  # don't rechunk this array\n",
    "    \"i\":None,\n",
    "    \"j\":None,\n",
    "    \"lev\":None,\n",
    "    \"latitude\":None,\n",
    "    \"longitude\":None\n",
    "}\n",
    "max_mem = \"2000MB\"\n",
    "\n",
    "target_store = \"/scratch/xv83/tm4888/tmp_rechunker/group_rechunked.zarr\"\n",
    "temp_store = \"/scratch/xv83/tm4888/tmp_rechunker/group_rechunked-tmp.zarr\"\n",
    "source_group = DS_out\n",
    "\n",
    "group_plan = rechunk(\n",
    "    source_group, target_chunks, max_mem, target_store, temp_store=temp_store)\n",
    "group_plan"
   ]
  },
  {
   "cell_type": "code",
   "execution_count": null,
   "id": "28f33a13-9a9c-4b82-b647-64ed60b07db4",
   "metadata": {},
   "outputs": [],
   "source": [
    "%%time\n",
    "group_plan.execute()"
   ]
  },
  {
   "cell_type": "markdown",
   "id": "a03d34c2-23a4-4041-992a-50c0fc41273e",
   "metadata": {},
   "source": [
    "# Can we open and use this zarr collection?"
   ]
  },
  {
   "cell_type": "code",
   "execution_count": null,
   "id": "3af83da1-42a2-4187-8770-0549feb4fd94",
   "metadata": {},
   "outputs": [],
   "source": [
    "data = xr.open_zarr('/scratch/xv83/tm4888/tmp_rechunker/group_rechunked.zarr',consolidated=True)"
   ]
  },
  {
   "cell_type": "code",
   "execution_count": null,
   "id": "335ff810-7f3d-46ef-860c-ffedb32ad5e7",
   "metadata": {},
   "outputs": [],
   "source": []
  },
  {
   "cell_type": "code",
   "execution_count": null,
   "id": "b8627a4d-7f5c-40b9-af65-5a235d81bb26",
   "metadata": {},
   "outputs": [],
   "source": []
  },
  {
   "cell_type": "code",
   "execution_count": null,
   "id": "5bc91f9e-a47f-4fbe-8471-8b0d50615215",
   "metadata": {},
   "outputs": [],
   "source": []
  },
  {
   "cell_type": "code",
   "execution_count": null,
   "id": "33b478f7-bc34-4f7f-9321-c5e9f08b56dd",
   "metadata": {},
   "outputs": [],
   "source": []
  },
  {
   "cell_type": "code",
   "execution_count": null,
   "id": "308a1750-53a7-4bca-ae54-db9340f55efd",
   "metadata": {},
   "outputs": [],
   "source": []
  },
  {
   "cell_type": "code",
   "execution_count": null,
   "id": "eaec23e8-89c5-404c-9895-f7bf4f153f37",
   "metadata": {},
   "outputs": [],
   "source": []
  },
  {
   "cell_type": "code",
   "execution_count": null,
   "id": "a03216f5-4322-4c43-9b08-46b87a6ef7a0",
   "metadata": {},
   "outputs": [],
   "source": []
  },
  {
   "cell_type": "code",
   "execution_count": null,
   "id": "1a241ef8-6912-4574-b5bd-b00bee52f534",
   "metadata": {},
   "outputs": [],
   "source": []
  },
  {
   "cell_type": "code",
   "execution_count": null,
   "id": "a4c27f51-547a-4370-a5f1-b5928620a959",
   "metadata": {},
   "outputs": [],
   "source": []
  },
  {
   "cell_type": "code",
   "execution_count": null,
   "id": "36221739-37e2-48d9-899a-aa69acc69655",
   "metadata": {},
   "outputs": [],
   "source": []
  },
  {
   "cell_type": "code",
   "execution_count": null,
   "id": "28a75bce-079b-4bdf-8e86-e06fbd0bbbf9",
   "metadata": {},
   "outputs": [],
   "source": []
  },
  {
   "cell_type": "code",
   "execution_count": null,
   "id": "4bc497e8-45c2-4312-911a-24f41be2c3f9",
   "metadata": {},
   "outputs": [],
   "source": []
  },
  {
   "cell_type": "code",
   "execution_count": null,
   "id": "70411cc8-9ef5-4423-97de-87ab6dfc8bd6",
   "metadata": {},
   "outputs": [],
   "source": []
  },
  {
   "cell_type": "code",
   "execution_count": null,
   "id": "84a4f2be-cfa1-4e4a-87b0-a0dbf08ca026",
   "metadata": {},
   "outputs": [],
   "source": []
  },
  {
   "cell_type": "raw",
   "id": "c05b0c9c-fa7b-4359-867d-83eaf968c88d",
   "metadata": {},
   "source": [
    "DA_concat_rc = DA_concat.chunk({\"member\":-1,\"time\":1, \"lev\": 25, \"i\" : 180,'j' :150})\n",
    "DA_concat_rc"
   ]
  },
  {
   "cell_type": "raw",
   "id": "1b5ebd2b-a4a7-4037-bf0a-8ba95b7b3442",
   "metadata": {},
   "source": [
    "DA_concat_rc['latitude'] = DA_concat_rc.latitude.compute()\n",
    "DA_concat_rc['longitude'] = DA_concat_rc.longitude.compute()\n",
    "DA_concat_rc"
   ]
  },
  {
   "cell_type": "markdown",
   "id": "dad5af65-1dfe-4672-8933-b1f01e81d6e1",
   "metadata": {},
   "source": [
    "# can we write to large `zarr` collection?"
   ]
  },
  {
   "cell_type": "code",
   "execution_count": null,
   "id": "d28b72e1-37ce-4efa-a57b-e71928763fd2",
   "metadata": {},
   "outputs": [],
   "source": [
    "write_path = '/scratch/xv83/tm4888/zarr_collections/ACCESS_ESM1.5/'"
   ]
  },
  {
   "cell_type": "code",
   "execution_count": null,
   "id": "5e37bd5d-816f-4089-9b55-254b09ec1e08",
   "metadata": {},
   "outputs": [],
   "source": [
    "DS_out = DA_concat_rc.to_dataset()\n",
    "DS_out"
   ]
  },
  {
   "cell_type": "markdown",
   "id": "162e3c55-a395-47b5-ae64-19191e61cd0d",
   "metadata": {},
   "source": [
    "# remove encoding"
   ]
  },
  {
   "cell_type": "code",
   "execution_count": null,
   "id": "265ccd4b-af08-4d8f-a672-3e019bf54f41",
   "metadata": {},
   "outputs": [],
   "source": [
    "for var in DS_out:\n",
    "    DS_out.encoding = {}\n",
    "\n",
    "for coord in DS_out.coords:\n",
    "    DS_out.encoding = {}"
   ]
  },
  {
   "cell_type": "code",
   "execution_count": null,
   "id": "800921ac-bab5-4238-8c6f-a6eb3431bb48",
   "metadata": {},
   "outputs": [],
   "source": [
    "%%time\n",
    "DS_out.to_zarr(write_path + 'DS_out.zarr',consolidated=True)"
   ]
  },
  {
   "cell_type": "markdown",
   "id": "19105c67-acba-4f5e-af5d-1b8a7d1217f7",
   "metadata": {},
   "source": [
    "# load back in "
   ]
  },
  {
   "cell_type": "code",
   "execution_count": null,
   "id": "3778e68b-fc47-4397-9c69-dc420773cb6b",
   "metadata": {},
   "outputs": [],
   "source": [
    "reloaded_data = xr.open_zarr(write_path + 'DS_out.zarr',consolidated=True)"
   ]
  },
  {
   "cell_type": "code",
   "execution_count": null,
   "id": "06dd548a-4447-4b13-b7fd-eeb03ddb10bf",
   "metadata": {},
   "outputs": [],
   "source": []
  },
  {
   "cell_type": "code",
   "execution_count": null,
   "id": "bffc5882-3738-4976-9f1c-188c9055dfa3",
   "metadata": {},
   "outputs": [],
   "source": []
  },
  {
   "cell_type": "code",
   "execution_count": null,
   "id": "023bc9b2-8b2e-492b-ba41-4735d17df5c6",
   "metadata": {},
   "outputs": [],
   "source": []
  },
  {
   "cell_type": "code",
   "execution_count": null,
   "id": "e21a1355-4d89-4511-a541-c0081921b04e",
   "metadata": {},
   "outputs": [],
   "source": []
  },
  {
   "cell_type": "code",
   "execution_count": null,
   "id": "78a1cde2-6434-4efd-91a7-47ca38962240",
   "metadata": {},
   "outputs": [],
   "source": []
  },
  {
   "cell_type": "code",
   "execution_count": null,
   "id": "45162d53-4667-41cc-924b-d707c3c930c5",
   "metadata": {},
   "outputs": [],
   "source": []
  },
  {
   "cell_type": "code",
   "execution_count": null,
   "id": "fce67af0-c9ea-4a49-a66c-e0cbabf0e422",
   "metadata": {},
   "outputs": [],
   "source": []
  },
  {
   "cell_type": "code",
   "execution_count": null,
   "id": "0fe6fc3a-b13e-4c7f-8731-2f778771e27e",
   "metadata": {},
   "outputs": [],
   "source": []
  },
  {
   "cell_type": "code",
   "execution_count": null,
   "id": "423d0b47-bcc7-4d18-be6b-cc0ca08a5974",
   "metadata": {},
   "outputs": [],
   "source": []
  },
  {
   "cell_type": "code",
   "execution_count": null,
   "id": "e426c8b5-3740-47af-af55-c6442155764b",
   "metadata": {},
   "outputs": [],
   "source": []
  },
  {
   "cell_type": "code",
   "execution_count": null,
   "id": "14415ee0-3c10-49fd-9284-df230df3149c",
   "metadata": {},
   "outputs": [],
   "source": [
    "o2_historical_data"
   ]
  },
  {
   "cell_type": "markdown",
   "id": "e5669e6e-f76d-4d51-aa3e-0289f8a8f49c",
   "metadata": {},
   "source": [
    "# remove encoding"
   ]
  },
  {
   "cell_type": "code",
   "execution_count": null,
   "id": "b1e78b83-8cb8-47a8-b478-4a1476b10475",
   "metadata": {},
   "outputs": [],
   "source": [
    "for var in o2_historical_data:\n",
    "    o2_historical_data[var].encoding = {}\n",
    "\n",
    "for coord in o2_historical_data.coords:\n",
    "    o2_historical_data[coord].encoding = {}"
   ]
  },
  {
   "cell_type": "code",
   "execution_count": null,
   "id": "1e14f71d-d13d-473d-acd8-b4e929aaa970",
   "metadata": {
    "scrolled": true
   },
   "outputs": [],
   "source": [
    "o2_historical_surface = o2_historical_data.isel(lev=0)"
   ]
  },
  {
   "cell_type": "code",
   "execution_count": null,
   "id": "1b470481-39d2-4f16-894d-92e0d8799d5d",
   "metadata": {},
   "outputs": [],
   "source": [
    "o2_historical_surface"
   ]
  },
  {
   "cell_type": "code",
   "execution_count": null,
   "id": "b9627e5f-2a3f-4d7c-93ab-6449119f3d97",
   "metadata": {},
   "outputs": [],
   "source": [
    "o2_historical_surface_rc = o2_historical_surface.chunk({'member':-1,'time':-1,'i':36,'j':30})"
   ]
  },
  {
   "cell_type": "code",
   "execution_count": null,
   "id": "ab00eb5c-061f-48af-a453-4bd6cc1318fa",
   "metadata": {},
   "outputs": [],
   "source": [
    "o2_historical_surface_rc"
   ]
  },
  {
   "cell_type": "code",
   "execution_count": null,
   "id": "ae763c31-04a1-4614-87a4-dd6f9a248334",
   "metadata": {},
   "outputs": [],
   "source": [
    "%%time\n",
    "o2_historical_surface_rc.to_zarr(write_path + 'ACCESS_ESM1.5_o2_40_member_surface_chunk4member4time.zarr',consolidated=True)"
   ]
  },
  {
   "cell_type": "code",
   "execution_count": null,
   "id": "7854a686-f737-4136-8d87-0f23838779d1",
   "metadata": {},
   "outputs": [],
   "source": [
    "data = xr.open_zarr(write_path + 'ACCESS_ESM1.5_o2_40_member_surface_chunk4member4time.zarr',consolidated=True)"
   ]
  },
  {
   "cell_type": "code",
   "execution_count": null,
   "id": "be99bb3e-5979-4141-b7bc-b9c1c20af33d",
   "metadata": {},
   "outputs": [],
   "source": [
    "data"
   ]
  },
  {
   "cell_type": "code",
   "execution_count": null,
   "id": "35ae8934-6e73-49e1-b2ee-3caf7f1824b2",
   "metadata": {},
   "outputs": [],
   "source": [
    "result = (data.o2.max(dim = ['member','time']) - data.o2.mean(dim = ['member','time'])).compute()"
   ]
  },
  {
   "cell_type": "code",
   "execution_count": null,
   "id": "74ecba90-4784-493d-a73e-dcb3efadc0c3",
   "metadata": {},
   "outputs": [],
   "source": [
    "result.plot(robust=True)"
   ]
  },
  {
   "cell_type": "code",
   "execution_count": null,
   "id": "cec570ca-b9f0-4948-8f7e-ff2034e7cff0",
   "metadata": {},
   "outputs": [],
   "source": [
    "o2_emean = o2_historical_data.mean('member')"
   ]
  },
  {
   "cell_type": "code",
   "execution_count": null,
   "id": "fcad80b6-30f7-489e-97f5-fb41b6edb112",
   "metadata": {},
   "outputs": [],
   "source": [
    "o2_emean"
   ]
  },
  {
   "cell_type": "code",
   "execution_count": null,
   "id": "a1e775c2-3f8a-420b-a046-3e248b5de650",
   "metadata": {
    "scrolled": true
   },
   "outputs": [],
   "source": [
    "%%time\n",
    "o2_emean.to_zarr(write_path + 'ACCESS_ESM1.5_o2_member_mean.zarr',consolidated=True)"
   ]
  },
  {
   "cell_type": "code",
   "execution_count": null,
   "id": "f63eebaf-114f-4211-ac49-80cbbe03bd3a",
   "metadata": {},
   "outputs": [],
   "source": []
  },
  {
   "cell_type": "code",
   "execution_count": null,
   "id": "39811394-7cfc-4cb6-ad46-0a00d17d6b6a",
   "metadata": {},
   "outputs": [],
   "source": []
  },
  {
   "cell_type": "markdown",
   "id": "746d5f09-bba4-47b3-87d1-8ee88f6719d9",
   "metadata": {},
   "source": [
    "# rechunk over member for some box"
   ]
  },
  {
   "cell_type": "code",
   "execution_count": null,
   "id": "b9482eab-5557-4fbf-9b3e-6be226b55b14",
   "metadata": {},
   "outputs": [],
   "source": [
    "box_data = DS_o2_monthly_hist.o2.isel({\"lev\":10}).sel(i=slice(60,150)).sel(j=slice(60,150))"
   ]
  },
  {
   "cell_type": "code",
   "execution_count": null,
   "id": "5614cdbc-a0ec-482b-8d3a-02938e6c91e7",
   "metadata": {
    "tags": []
   },
   "outputs": [],
   "source": [
    "box_data"
   ]
  },
  {
   "cell_type": "code",
   "execution_count": null,
   "id": "ad9c7bcd-3806-472e-8fa1-9c864336bb90",
   "metadata": {
    "tags": []
   },
   "outputs": [],
   "source": [
    "box_data_rc = box_data.chunk({'member':-1,'time':200})"
   ]
  },
  {
   "cell_type": "code",
   "execution_count": null,
   "id": "1ba61d30-17f8-45fb-8cea-a6b22c5a927d",
   "metadata": {
    "tags": []
   },
   "outputs": [],
   "source": [
    "box_data_rc"
   ]
  },
  {
   "cell_type": "code",
   "execution_count": null,
   "id": "e39bd444-c726-405f-aa13-d5f7b84aa3c5",
   "metadata": {
    "tags": []
   },
   "outputs": [],
   "source": [
    "%%time\n",
    "box_data_rc.to_netcdf('/scratch/xv83/tm4888/PAC-TUNA/box_data_rc.nc')"
   ]
  },
  {
   "cell_type": "code",
   "execution_count": null,
   "id": "6b697360-9d22-4f85-b194-42ba1a768242",
   "metadata": {},
   "outputs": [],
   "source": [
    "%%time\n",
    "e_mean = box_data.mean(dim=\"member\").compute()"
   ]
  },
  {
   "cell_type": "markdown",
   "id": "73f9e0ae-38f3-4816-b0f7-c3a429f71e80",
   "metadata": {},
   "source": [
    "# ----------------------------"
   ]
  },
  {
   "cell_type": "code",
   "execution_count": null,
   "id": "bf4c40ed-7b7c-4c5d-bf03-e1e0a3512d60",
   "metadata": {},
   "outputs": [],
   "source": [
    "box_data_rc = xr.open_mfdataset('/scratch/xv83/tm4888/PAC-TUNA/box_data_rc.nc',parallel=True)"
   ]
  },
  {
   "cell_type": "code",
   "execution_count": null,
   "id": "af41c35a-ed91-4695-8304-28f35f517e7a",
   "metadata": {},
   "outputs": [],
   "source": [
    "box_data_rc"
   ]
  },
  {
   "cell_type": "code",
   "execution_count": null,
   "id": "c0e217ad-1912-4749-a021-9e4518e8b343",
   "metadata": {},
   "outputs": [],
   "source": [
    "%%time\n",
    "emean = box_data_rc.mean('member').compute()"
   ]
  },
  {
   "cell_type": "code",
   "execution_count": null,
   "id": "25259b0b-eeb6-4871-bdb5-5b921101279e",
   "metadata": {},
   "outputs": [],
   "source": []
  },
  {
   "cell_type": "code",
   "execution_count": null,
   "id": "f82d251e-53f3-459c-9c8b-8300707f5a59",
   "metadata": {},
   "outputs": [],
   "source": []
  },
  {
   "cell_type": "code",
   "execution_count": null,
   "id": "2966bfc5-5ed2-4d08-af77-64d4db6ee118",
   "metadata": {},
   "outputs": [],
   "source": []
  },
  {
   "cell_type": "code",
   "execution_count": null,
   "id": "a8fa1c17-7b80-4a74-b727-232fd84a377c",
   "metadata": {},
   "outputs": [],
   "source": []
  },
  {
   "cell_type": "code",
   "execution_count": null,
   "id": "1e211135-393f-4dc5-91e2-b8c416a41c5c",
   "metadata": {},
   "outputs": [],
   "source": []
  },
  {
   "cell_type": "code",
   "execution_count": null,
   "id": "8067fdf3-a307-459a-b1ce-4d6f7d2bf384",
   "metadata": {},
   "outputs": [],
   "source": []
  },
  {
   "cell_type": "markdown",
   "id": "3469e190-5c5e-4103-88ea-174380392ef1",
   "metadata": {},
   "source": [
    "# Load the production ACCESS-NRI catalogue"
   ]
  },
  {
   "cell_type": "code",
   "execution_count": null,
   "id": "a1acc5f1-5877-4a53-a936-f5e978307c5d",
   "metadata": {
    "tags": []
   },
   "outputs": [],
   "source": [
    "import intake\n",
    "\n",
    "cat = intake.cat.access_nri\n",
    "\n",
    "esm_ds = cat[\"cmip6_fs38\"]\n",
    "\n",
    "esm_ds.esmcat.aggregation_control.groupby_attrs = [\n",
    "    attrs for attrs in esm_ds.esmcat.aggregation_control.groupby_attrs\n",
    "    if attrs != \"version\"\n",
    "]\n",
    "\n",
    "esm_ds_filtered = esm_ds.search(\n",
    "    source_id=\"ACCESS-ESM1-5\", \n",
    "    experiment_id=\"ssp370\", \n",
    "    table_id=\"Omon\", \n",
    "    variable_id=\"o2\", \n",
    "    file_type=\"l\"\n",
    ")"
   ]
  },
  {
   "cell_type": "code",
   "execution_count": null,
   "id": "00003dda-2a4e-4c96-9018-ce462b23cebb",
   "metadata": {
    "tags": []
   },
   "outputs": [],
   "source": [
    "esm_ds_filtered.unique()['version']"
   ]
  },
  {
   "cell_type": "code",
   "execution_count": null,
   "id": "48f738be-6f99-4485-8489-d384cf180b53",
   "metadata": {
    "tags": []
   },
   "outputs": [],
   "source": [
    "esm_ds_filtered"
   ]
  },
  {
   "cell_type": "code",
   "execution_count": null,
   "id": "a9c5a931-8428-427d-a35b-c55ef477b9d9",
   "metadata": {
    "tags": []
   },
   "outputs": [],
   "source": [
    "DS_dict = esm_ds_filtered.to_dataset_dict(progressbar=False)\n",
    "DS_dict"
   ]
  },
  {
   "cell_type": "code",
   "execution_count": null,
   "id": "69bb143e-ad6c-4267-a319-4cc0d9ac3216",
   "metadata": {
    "tags": []
   },
   "outputs": [],
   "source": [
    "DS_dict"
   ]
  },
  {
   "cell_type": "code",
   "execution_count": null,
   "id": "718c817b-451a-4b6a-9394-199c1d5a3a3b",
   "metadata": {
    "tags": []
   },
   "outputs": [],
   "source": [
    "DS_o2_monthly_ssp370 = xr.concat(\n",
    "    DS_dict.values(), \n",
    "    dim=\"member\"\n",
    ")"
   ]
  },
  {
   "cell_type": "code",
   "execution_count": null,
   "id": "31d2ee52-e692-4cda-9b65-217c2d19942d",
   "metadata": {
    "tags": []
   },
   "outputs": [],
   "source": [
    "DS_o2_monthly_ssp370"
   ]
  },
  {
   "cell_type": "code",
   "execution_count": null,
   "id": "76ffaf98-ef6d-42e9-a0dd-6f73e3b89bcf",
   "metadata": {
    "tags": []
   },
   "outputs": [],
   "source": [
    "result = DS_o2_monthly_ssp370.o2.isel(lev=20).mean(dim=['i','j'])"
   ]
  },
  {
   "cell_type": "code",
   "execution_count": null,
   "id": "d318b176-92a4-486a-a7e3-64bfb26237e4",
   "metadata": {
    "tags": []
   },
   "outputs": [],
   "source": [
    "result"
   ]
  },
  {
   "cell_type": "code",
   "execution_count": null,
   "id": "d3df5655-5035-4ffd-8b7e-733611af1120",
   "metadata": {
    "tags": []
   },
   "outputs": [],
   "source": [
    "result.plot()"
   ]
  },
  {
   "cell_type": "code",
   "execution_count": null,
   "id": "2df33bca-caf5-474d-870d-80e011be82b1",
   "metadata": {},
   "outputs": [],
   "source": []
  },
  {
   "cell_type": "code",
   "execution_count": null,
   "id": "78e29843-6ec0-4eeb-9e94-8fea7cd5f44d",
   "metadata": {},
   "outputs": [],
   "source": []
  },
  {
   "cell_type": "code",
   "execution_count": null,
   "id": "fa9a273d-294b-456c-a0ea-c97ab5127e3a",
   "metadata": {
    "tags": []
   },
   "outputs": [],
   "source": [
    "ds"
   ]
  },
  {
   "cell_type": "code",
   "execution_count": null,
   "id": "f91d3890-68e8-49e8-bb59-5148d866d3bb",
   "metadata": {},
   "outputs": [],
   "source": []
  },
  {
   "cell_type": "code",
   "execution_count": null,
   "id": "d092f4d2-79d1-4b11-9ba8-ff504808ebca",
   "metadata": {},
   "outputs": [],
   "source": []
  },
  {
   "cell_type": "code",
   "execution_count": null,
   "id": "730e7969-b7cc-46f2-a2be-6079c4ea60a5",
   "metadata": {
    "tags": []
   },
   "outputs": [],
   "source": [
    "esm_ds_filtered['l.CMIP.CSIRO.ACCESS-ESM1-5.ssp585.r9i1p1f1.mon.ocnBgchem.Omon.o2.gn'].df"
   ]
  },
  {
   "cell_type": "code",
   "execution_count": null,
   "id": "144644e8-7aa4-421f-b6d4-66ffd08da3fe",
   "metadata": {},
   "outputs": [],
   "source": []
  },
  {
   "cell_type": "code",
   "execution_count": null,
   "id": "a7fb5c7c-494f-4617-99e2-1e49aef8b42d",
   "metadata": {},
   "outputs": [],
   "source": []
  },
  {
   "cell_type": "code",
   "execution_count": null,
   "id": "a1e24ba5-4b28-4843-bdf9-e9db62d3a563",
   "metadata": {},
   "outputs": [],
   "source": []
  },
  {
   "cell_type": "code",
   "execution_count": null,
   "id": "36b54a88-75f8-4ebc-bda2-cc0ca764e187",
   "metadata": {},
   "outputs": [],
   "source": [
    "esm_ds_filtered.keys()"
   ]
  },
  {
   "cell_type": "code",
   "execution_count": null,
   "id": "18085546-5eab-4c2e-877c-48e672205d3d",
   "metadata": {
    "tags": []
   },
   "outputs": [],
   "source": [
    "esm_ds_filtered['l.CMIP.CSIRO.ACCESS-ESM1-5.ssp585.r40i1p1f1.mon.ocnBgchem.Omon.o2.gn'].df"
   ]
  },
  {
   "cell_type": "code",
   "execution_count": null,
   "id": "05518778-5277-4c73-bae5-b7f111676950",
   "metadata": {},
   "outputs": [],
   "source": []
  },
  {
   "cell_type": "code",
   "execution_count": null,
   "id": "4b6c2938-7e6b-494f-a23f-1eb1e035733e",
   "metadata": {},
   "outputs": [],
   "source": []
  },
  {
   "cell_type": "code",
   "execution_count": null,
   "id": "25e2dfad-f534-43fc-bd28-364619ab5466",
   "metadata": {},
   "outputs": [],
   "source": []
  },
  {
   "cell_type": "code",
   "execution_count": null,
   "id": "1f02edf3-c84a-4aef-b14e-5905867b1bec",
   "metadata": {
    "tags": []
   },
   "outputs": [],
   "source": [
    "import intake\n",
    "\n",
    "nri_cat = intake.cat.access_nri"
   ]
  },
  {
   "cell_type": "code",
   "execution_count": null,
   "id": "34b71670-6a8e-4db8-b0f5-76995aa18040",
   "metadata": {
    "tags": []
   },
   "outputs": [],
   "source": [
    "cmip6_fs38_cat = nri_cat['cmip6_fs38']\n",
    "cmip6_fs38_cat"
   ]
  },
  {
   "cell_type": "code",
   "execution_count": null,
   "id": "978818f0-ae37-4b0d-8010-02315e777d30",
   "metadata": {},
   "outputs": [],
   "source": [
    "ScenarioMIP6_fs38_cat = cmip6_fs38_cat.search(path='/g/data/fs38/publications/CMIP6/ScenarioMIP/*')"
   ]
  },
  {
   "cell_type": "code",
   "execution_count": null,
   "id": "7b0e34e5-a7ff-41fe-8f01-4053cf2a9310",
   "metadata": {
    "tags": []
   },
   "outputs": [],
   "source": [
    "ScenarioMIP6_fs38_cat.unique()['realm']"
   ]
  },
  {
   "cell_type": "code",
   "execution_count": null,
   "id": "94f01012-8f74-4002-ac64-433c8a917a7a",
   "metadata": {
    "tags": []
   },
   "outputs": [],
   "source": [
    "ScenarioMIP6_fs38_oceanBGC_cat = ScenarioMIP6_fs38_cat.search(realm=['ocnBgchem'])"
   ]
  },
  {
   "cell_type": "code",
   "execution_count": null,
   "id": "bb2b94f9-c407-4680-8562-dd1550782ff0",
   "metadata": {
    "tags": []
   },
   "outputs": [],
   "source": [
    "ScenarioMIP6_fs38_oceanBGC_cat"
   ]
  },
  {
   "cell_type": "code",
   "execution_count": null,
   "id": "94e18e4c-b544-4c07-86e7-ffc713e38b6e",
   "metadata": {
    "tags": []
   },
   "outputs": [],
   "source": [
    "ScenarioMIP6_fs38_o2_cat = ScenarioMIP6_fs38_oceanBGC_cat.search(variable_id='o2')\n",
    "ScenarioMIP6_fs38_o2_cat"
   ]
  },
  {
   "cell_type": "code",
   "execution_count": null,
   "id": "66626840-79c9-4f1c-9395-d04af7accaae",
   "metadata": {
    "tags": []
   },
   "outputs": [],
   "source": [
    "ScenarioMIP6_fs38_o2_cat.unique()['frequency']"
   ]
  },
  {
   "cell_type": "code",
   "execution_count": null,
   "id": "e0fd9115-00c5-4296-906a-a1f14a26befd",
   "metadata": {
    "tags": []
   },
   "outputs": [],
   "source": [
    "ScenarioMIP6_fs38_monthly_o2_cat = ScenarioMIP6_fs38_o2_cat.search(frequency='mon')\n",
    "ScenarioMIP6_fs38_monthly_o2_cat"
   ]
  },
  {
   "cell_type": "code",
   "execution_count": null,
   "id": "924e1b82-13a1-45d1-8925-ae6b7349fc01",
   "metadata": {
    "tags": []
   },
   "outputs": [],
   "source": [
    "ScenarioMIP6_fs38_monthly_o2_cat.unique()['experiment_id']"
   ]
  },
  {
   "cell_type": "code",
   "execution_count": null,
   "id": "c0f3b7ca-8ccb-4497-b322-b02c20de1f7f",
   "metadata": {
    "tags": []
   },
   "outputs": [],
   "source": [
    "ScenarioMIP6_fs38_ssp585_monthly_o2_cat = ScenarioMIP6_fs38_monthly_o2_cat.search(experiment_id = 'ssp585')\n",
    "ScenarioMIP6_fs38_ssp585_monthly_o2_cat"
   ]
  },
  {
   "cell_type": "code",
   "execution_count": null,
   "id": "528dcab6-3871-45dc-aeae-97720287f84b",
   "metadata": {
    "tags": []
   },
   "outputs": [],
   "source": [
    "ScenarioMIP6_fs38_ssp585_monthly_o2_cat.unique()['version']"
   ]
  },
  {
   "cell_type": "code",
   "execution_count": null,
   "id": "d3612422-515b-4249-8908-4170fc600900",
   "metadata": {
    "tags": []
   },
   "outputs": [],
   "source": [
    "ScenarioMIP6_fs38_ssp585_monthly_o2_40e_cat = ScenarioMIP6_fs38_ssp585_monthly_o2_cat.search(version=['v20210831','v20210318'])\n",
    "ScenarioMIP6_fs38_ssp585_monthly_o2_40e_cat"
   ]
  },
  {
   "cell_type": "code",
   "execution_count": null,
   "id": "a4f76e81-9dac-462f-8231-32d6a2c081d3",
   "metadata": {
    "tags": []
   },
   "outputs": [],
   "source": [
    "ScenarioMIP6_fs38_ssp585_monthly_o2_d20210831_cat = ScenarioMIP6_fs38_ssp585_monthly_o2_cat.search(version='d20210831')\n",
    "ScenarioMIP6_fs38_ssp585_monthly_o2_d20210831_cat"
   ]
  },
  {
   "cell_type": "code",
   "execution_count": null,
   "id": "65069a3a-de0c-4f2a-9a45-c9f45517d89c",
   "metadata": {
    "tags": []
   },
   "outputs": [],
   "source": [
    "ScenarioMIP6_fs38_ssp585_monthly_o2_v20210831_cat.df.head()"
   ]
  },
  {
   "cell_type": "code",
   "execution_count": null,
   "id": "4d8e268c-4f92-4d8a-b84e-600d6f28a7ea",
   "metadata": {},
   "outputs": [],
   "source": []
  },
  {
   "cell_type": "code",
   "execution_count": null,
   "id": "56031bb0-4b86-4acc-a73e-8b3a0eabb539",
   "metadata": {},
   "outputs": [],
   "source": []
  },
  {
   "cell_type": "code",
   "execution_count": null,
   "id": "ccc62628-e557-43ba-acf6-61fd2638cd03",
   "metadata": {
    "tags": []
   },
   "outputs": [],
   "source": [
    "ScenarioMIP6_fs38_ssp585_monthly_o2_v20210831_cat.unique()['time_range']"
   ]
  },
  {
   "cell_type": "code",
   "execution_count": null,
   "id": "54125be3-3445-46a7-b737-3bd41d2777c5",
   "metadata": {
    "tags": []
   },
   "outputs": [],
   "source": [
    "ScenarioMIP6_fs38_ssp585_monthly_o2_v20210831_cat.unique()['member_id']"
   ]
  },
  {
   "cell_type": "code",
   "execution_count": null,
   "id": "f8ed072b-63b5-433f-b7ed-ee5d172e1c70",
   "metadata": {
    "tags": []
   },
   "outputs": [],
   "source": [
    "ScenarioMIP6_fs38_ssp585_monthly_o2_v20210831_r40i1p1f1_cat = ScenarioMIP6_fs38_ssp585_monthly_o2_v20210831_cat.search(member_id = 'r40i1p1f1')\n",
    "ScenarioMIP6_fs38_ssp585_monthly_o2_v20210831_r40i1p1f1_cat"
   ]
  },
  {
   "cell_type": "code",
   "execution_count": null,
   "id": "d83b6ce9-03f9-4806-9234-8155a0109d46",
   "metadata": {
    "tags": []
   },
   "outputs": [],
   "source": [
    "dataset = ScenarioMIP6_fs38_ssp585_monthly_o2_v20210831_r40i1p1f1_cat.to_dask(progressbar=False)"
   ]
  },
  {
   "cell_type": "code",
   "execution_count": null,
   "id": "dd8e29d0-0de5-438e-83e2-363e52ca5174",
   "metadata": {
    "tags": []
   },
   "outputs": [],
   "source": [
    "dataset"
   ]
  },
  {
   "cell_type": "code",
   "execution_count": null,
   "id": "7383449d-8f75-43f7-a7c8-a6cf2d228b94",
   "metadata": {
    "tags": []
   },
   "outputs": [],
   "source": [
    "dataset['o2'].encoding"
   ]
  },
  {
   "cell_type": "code",
   "execution_count": null,
   "id": "03a90892-2107-40a4-b3f8-f290a3430a3b",
   "metadata": {
    "tags": []
   },
   "outputs": [],
   "source": [
    "o2_chunked_for_time = dataset.o2.chunk({'time':-1,'lev':25,'i':50,'j':18})"
   ]
  },
  {
   "cell_type": "code",
   "execution_count": null,
   "id": "c96b1fae-b8b2-443c-b776-8e0b2757f558",
   "metadata": {
    "tags": []
   },
   "outputs": [],
   "source": [
    "o2_chunked_for_time"
   ]
  },
  {
   "cell_type": "code",
   "execution_count": null,
   "id": "11d21ceb-7a98-407b-9a25-44f4227301ef",
   "metadata": {
    "tags": []
   },
   "outputs": [],
   "source": [
    "o2_200m = o2_chunked_for_time.isel(lev=slice(0,21))"
   ]
  },
  {
   "cell_type": "code",
   "execution_count": null,
   "id": "86b70dea-d362-439a-adad-4b1b73839103",
   "metadata": {
    "tags": []
   },
   "outputs": [],
   "source": [
    "o2_200m"
   ]
  },
  {
   "cell_type": "code",
   "execution_count": null,
   "id": "407c1a91-124a-4ccf-993f-0218e53c57e5",
   "metadata": {
    "tags": []
   },
   "outputs": [],
   "source": [
    "write_path = '/scratch/xv83/tm4888/zarr_collections/'"
   ]
  },
  {
   "cell_type": "code",
   "execution_count": null,
   "id": "83bd5cf8-95e6-4dde-aff5-eabf64f90270",
   "metadata": {
    "tags": []
   },
   "outputs": [],
   "source": [
    "o2_200m.to_zarr(write_path + 'ACCESS_ESM1.5_o2_200m_r40i1p1f1.zarr',consolidated=True)"
   ]
  },
  {
   "cell_type": "markdown",
   "id": "56362a42-5ac3-4b73-b877-5ce422b0c756",
   "metadata": {},
   "source": [
    "# read back in"
   ]
  },
  {
   "cell_type": "code",
   "execution_count": null,
   "id": "842d3a0f-2f4e-4acb-bf20-8bd2b3d2bec8",
   "metadata": {
    "tags": []
   },
   "outputs": [],
   "source": [
    "o2 = xr.open_zarr(write_path + 'ACCESS_ESM1.5_o2_200m_r40i1p1f1.zarr',consolidated=True)"
   ]
  },
  {
   "cell_type": "code",
   "execution_count": null,
   "id": "e9f762c6-76c5-4c7d-ba03-b4a0c4e11ff5",
   "metadata": {
    "tags": []
   },
   "outputs": [],
   "source": [
    "o2"
   ]
  },
  {
   "cell_type": "code",
   "execution_count": null,
   "id": "0fb9350e-0b69-43ec-aa40-3482e195ab5c",
   "metadata": {
    "tags": []
   },
   "outputs": [],
   "source": [
    "o2_clim = o2.groupby('time.month').mean()"
   ]
  },
  {
   "cell_type": "code",
   "execution_count": null,
   "id": "f4dcf87d-4320-4139-9dc8-3cf631d14ec1",
   "metadata": {
    "tags": []
   },
   "outputs": [],
   "source": [
    "o2_clim"
   ]
  },
  {
   "cell_type": "code",
   "execution_count": null,
   "id": "3db6fdc0-ee84-4ed2-bb63-8c7fd8247c7e",
   "metadata": {
    "tags": []
   },
   "outputs": [],
   "source": [
    "%%time\n",
    "o2_clim = o2_clim.compute()"
   ]
  },
  {
   "cell_type": "code",
   "execution_count": null,
   "id": "16169883-b782-4b8c-97b4-6906a4141e5f",
   "metadata": {},
   "outputs": [],
   "source": [
    "o2_anom = o2.groupby('time.month') - o2_clim"
   ]
  },
  {
   "cell_type": "code",
   "execution_count": null,
   "id": "a742150d-d2c4-4b3f-a711-e07bcb51c1d7",
   "metadata": {},
   "outputs": [],
   "source": [
    "o2_anom"
   ]
  },
  {
   "cell_type": "code",
   "execution_count": null,
   "id": "20784d5e-d33a-4043-aa75-1bb86ba66f08",
   "metadata": {
    "tags": []
   },
   "outputs": [],
   "source": [
    "PLOT_DATA = o2_anom.o2.isel(time=1031,lev=20)"
   ]
  },
  {
   "cell_type": "code",
   "execution_count": null,
   "id": "5a77fdcd-8a42-4292-bd6a-818daf232dec",
   "metadata": {
    "tags": []
   },
   "outputs": [],
   "source": [
    "%%time\n",
    "PLOT_DATA = PLOT_DATA.compute()"
   ]
  },
  {
   "cell_type": "code",
   "execution_count": null,
   "id": "a450962f-0657-4484-9864-fdfa923b187b",
   "metadata": {},
   "outputs": [],
   "source": [
    "import cartopy.crs as ccrs\n",
    "plt.figure(figsize=(14, 6))\n",
    "ax = plt.axes(projection=ccrs.PlateCarree())\n",
    "ax.set_global()\n",
    "PLOT_DATA.plot.pcolormesh(\n",
    "    ax=ax, transform=ccrs.PlateCarree(), x=\"longitude\", y=\"latitude\"\n",
    ")\n",
    "ax.coastlines()\n",
    "plt.title('o2 December anomaly year 2100\\n 205m \\n ACCESS_ESM1.5_o2_200m_r40i1p1f1')"
   ]
  },
  {
   "cell_type": "code",
   "execution_count": null,
   "id": "4d93acfc-7b88-4fcf-beca-52afce7dbfa1",
   "metadata": {},
   "outputs": [],
   "source": []
  },
  {
   "cell_type": "code",
   "execution_count": null,
   "id": "860ab70f-bccf-4c70-93fc-8e7d61e114c7",
   "metadata": {},
   "outputs": [],
   "source": []
  },
  {
   "cell_type": "code",
   "execution_count": null,
   "id": "cb7197e4-b889-408d-beb2-895ab887050e",
   "metadata": {},
   "outputs": [],
   "source": []
  },
  {
   "cell_type": "code",
   "execution_count": null,
   "id": "7373d58a-c0d5-4985-afeb-a2a58190bdba",
   "metadata": {},
   "outputs": [],
   "source": []
  },
  {
   "cell_type": "code",
   "execution_count": null,
   "id": "fbb271a7-2cf7-465b-affb-921b3714e63b",
   "metadata": {
    "tags": []
   },
   "outputs": [],
   "source": [
    "diff = dataset.o2.isel(time=0) - dataset.o2.isel(time=1031)"
   ]
  },
  {
   "cell_type": "code",
   "execution_count": null,
   "id": "7538b63a-34e8-4628-a0bc-adaa2cea0acd",
   "metadata": {
    "tags": []
   },
   "outputs": [],
   "source": [
    "diff"
   ]
  },
  {
   "cell_type": "code",
   "execution_count": null,
   "id": "aeee6e11-7f7e-464a-8b86-a5d96523c36c",
   "metadata": {},
   "outputs": [],
   "source": [
    "yearly_mean = dataset"
   ]
  },
  {
   "cell_type": "code",
   "execution_count": null,
   "id": "661f5447-7d12-432a-b926-62da2c7b6dc8",
   "metadata": {
    "tags": []
   },
   "outputs": [],
   "source": [
    "mean_depth_diff = diff.mean('lev')\n",
    "mean_depth_diff"
   ]
  },
  {
   "cell_type": "code",
   "execution_count": null,
   "id": "1e227031-f38e-490c-b436-6901791c5c53",
   "metadata": {
    "tags": []
   },
   "outputs": [],
   "source": [
    "import cartopy.crs as ccrs\n",
    "plt.figure(figsize=(14, 6))\n",
    "ax = plt.axes(projection=ccrs.PlateCarree())\n",
    "ax.set_global()\n",
    "mean_depth_diff.plot.pcolormesh(\n",
    "    ax=ax, transform=ccrs.PlateCarree(), x=\"longitude\", y=\"latitude\"\n",
    ")\n",
    "ax.coastlines()\n",
    "plt.title('depth mean O2 // "
   ]
  },
  {
   "cell_type": "code",
   "execution_count": null,
   "id": "7e758dd1-dfba-4b41-a6c7-9b8fe6b073db",
   "metadata": {},
   "outputs": [],
   "source": []
  },
  {
   "cell_type": "code",
   "execution_count": null,
   "id": "7fc86792-d878-4a85-bc3f-1e862469840a",
   "metadata": {},
   "outputs": [],
   "source": []
  },
  {
   "cell_type": "code",
   "execution_count": null,
   "id": "41773966-9304-4e2c-ae06-77a7c8d623f3",
   "metadata": {},
   "outputs": [],
   "source": []
  },
  {
   "cell_type": "code",
   "execution_count": null,
   "id": "346f7ba9-0f78-4cda-a676-173bb65d30bc",
   "metadata": {},
   "outputs": [],
   "source": []
  },
  {
   "cell_type": "code",
   "execution_count": null,
   "id": "ea4c6729-e38d-42b9-89fb-2ef0049f5bf3",
   "metadata": {},
   "outputs": [],
   "source": []
  },
  {
   "cell_type": "code",
   "execution_count": null,
   "id": "3c8a0891-2bae-4692-b0c3-c9d965d440c5",
   "metadata": {},
   "outputs": [],
   "source": []
  },
  {
   "cell_type": "code",
   "execution_count": null,
   "id": "3e3f3215-4ee4-46b9-a34a-712396b4de1d",
   "metadata": {
    "tags": []
   },
   "outputs": [],
   "source": [
    "mean_depth_diff.plot(x=mean_depth_diff['longitude'],y=mean_depth_diff['latitude'])"
   ]
  },
  {
   "cell_type": "code",
   "execution_count": null,
   "id": "99128448-6075-4780-908a-3a39513515b8",
   "metadata": {},
   "outputs": [],
   "source": []
  },
  {
   "cell_type": "code",
   "execution_count": null,
   "id": "8aa6edfa-5cd1-4050-bf5b-88bfc4957784",
   "metadata": {},
   "outputs": [],
   "source": []
  },
  {
   "cell_type": "code",
   "execution_count": null,
   "id": "8cf51d0b-7842-4fe0-b05c-8d5eb7afcbfe",
   "metadata": {},
   "outputs": [],
   "source": []
  },
  {
   "cell_type": "code",
   "execution_count": null,
   "id": "caec2b04-3ef3-4e20-9250-c934ffca5be9",
   "metadata": {},
   "outputs": [],
   "source": []
  },
  {
   "cell_type": "code",
   "execution_count": null,
   "id": "9b9775ad-ec9f-4526-9968-6b375f3aa614",
   "metadata": {
    "tags": []
   },
   "outputs": [],
   "source": [
    "source_dict = ScenarioMIP6_fs38_ssp585_monthly_o2_v20210831_cat.to_source_dict()"
   ]
  },
  {
   "cell_type": "code",
   "execution_count": null,
   "id": "412eb2ac-bf7d-4930-8b27-16bc3528c067",
   "metadata": {
    "tags": []
   },
   "outputs": [],
   "source": [
    "dataset_dict"
   ]
  },
  {
   "cell_type": "code",
   "execution_count": null,
   "id": "78620c0e-a399-44a8-adcc-dab570b337b1",
   "metadata": {
    "tags": []
   },
   "outputs": [],
   "source": [
    "dataset_dict.keys()"
   ]
  },
  {
   "cell_type": "code",
   "execution_count": null,
   "id": "b5c17e9c-6748-41c8-b775-eef3a59c2257",
   "metadata": {},
   "outputs": [],
   "source": []
  },
  {
   "cell_type": "code",
   "execution_count": null,
   "id": "a16d0a1d-440e-42da-9234-6d4dbd775d44",
   "metadata": {},
   "outputs": [],
   "source": []
  },
  {
   "cell_type": "code",
   "execution_count": null,
   "id": "515880f2-86ad-4147-8891-1f0826cf8a73",
   "metadata": {},
   "outputs": [],
   "source": []
  },
  {
   "cell_type": "code",
   "execution_count": null,
   "id": "fed9f802-d162-4eba-8311-fa08c8116039",
   "metadata": {},
   "outputs": [],
   "source": []
  },
  {
   "cell_type": "code",
   "execution_count": null,
   "id": "5d09ee69-8579-405f-b429-7d3c711af641",
   "metadata": {},
   "outputs": [],
   "source": []
  },
  {
   "cell_type": "code",
   "execution_count": null,
   "id": "be6c2da0-54f2-4c45-9947-18299c7a93f7",
   "metadata": {},
   "outputs": [],
   "source": []
  },
  {
   "cell_type": "code",
   "execution_count": null,
   "id": "f9fc6272-eb8d-4b4a-ba54-5c60a91cd040",
   "metadata": {},
   "outputs": [],
   "source": []
  },
  {
   "cell_type": "code",
   "execution_count": null,
   "id": "f33283f7-1a36-433c-ab5e-759cfd84fdf9",
   "metadata": {},
   "outputs": [],
   "source": [
    "ESM15_o2_cat = cmip6_fs38_cat.search(path='/g/data/fs38/publications/CMIP6/CMIP/CSIRO/ACCESS-ESM1-5/*',variable_id = 'o2')"
   ]
  },
  {
   "cell_type": "code",
   "execution_count": null,
   "id": "1f7f31ca-83b3-43fa-9a0f-b2b41a2e2f9b",
   "metadata": {},
   "outputs": [],
   "source": [
    "ESM15_o2_cat"
   ]
  },
  {
   "cell_type": "code",
   "execution_count": null,
   "id": "60506ca4-2c58-44f3-819d-62ed9f00012b",
   "metadata": {
    "tags": []
   },
   "outputs": [],
   "source": [
    "ESM15_o2_cat.unique()['experiment_id']"
   ]
  },
  {
   "cell_type": "code",
   "execution_count": null,
   "id": "11ce89ea-7a02-463c-ba90-87474593a272",
   "metadata": {},
   "outputs": [],
   "source": []
  },
  {
   "cell_type": "code",
   "execution_count": null,
   "id": "500ab310-f725-4cee-9abd-5f88672bf5d3",
   "metadata": {},
   "outputs": [],
   "source": []
  },
  {
   "cell_type": "code",
   "execution_count": null,
   "id": "d0036338-b911-4149-b728-ca851b7625ca",
   "metadata": {},
   "outputs": [],
   "source": []
  },
  {
   "cell_type": "code",
   "execution_count": null,
   "id": "68a04e8d-7137-4a09-ab90-4ccfd93d88a7",
   "metadata": {},
   "outputs": [],
   "source": []
  },
  {
   "cell_type": "code",
   "execution_count": null,
   "id": "de54d2e0-05ed-4cd5-8302-e90805c6dd7d",
   "metadata": {},
   "outputs": [],
   "source": [
    "ESM15_o2_cat.unique()['frequency']"
   ]
  },
  {
   "cell_type": "code",
   "execution_count": null,
   "id": "c79baee8-ded3-4e83-8e51-b63f02a61dab",
   "metadata": {},
   "outputs": [],
   "source": [
    "ESM15_monthly_o2_cat = ESM15_o2_cat.search(frequency='mon')"
   ]
  },
  {
   "cell_type": "code",
   "execution_count": null,
   "id": "af8b0339-1a49-4450-8ee3-2d1276d39bee",
   "metadata": {},
   "outputs": [],
   "source": [
    "ESM15_monthly_o2_cat"
   ]
  },
  {
   "cell_type": "code",
   "execution_count": null,
   "id": "110843ff-6ef4-4e4a-b807-a6683cfbe8de",
   "metadata": {},
   "outputs": [],
   "source": [
    "ESM15_monthly_o2_cat.unique()['experiment_id']"
   ]
  },
  {
   "cell_type": "code",
   "execution_count": null,
   "id": "5f76aac5-da99-456f-97f5-ea604d1e425f",
   "metadata": {},
   "outputs": [],
   "source": []
  },
  {
   "cell_type": "code",
   "execution_count": null,
   "id": "e22fa9b4-0344-4323-bfaf-5380e276d51f",
   "metadata": {},
   "outputs": [],
   "source": []
  },
  {
   "cell_type": "code",
   "execution_count": null,
   "id": "8dbb4424-7e93-4535-a545-86571b7929ab",
   "metadata": {},
   "outputs": [],
   "source": []
  },
  {
   "cell_type": "markdown",
   "id": "d78aed70-9397-415b-bb40-2e5023057aa1",
   "metadata": {},
   "source": [
    "# Extension BGC run `01deg_jra55v140_iaf_cycle4_jra55v150_extension`"
   ]
  },
  {
   "cell_type": "code",
   "execution_count": null,
   "id": "fbd50aec-10fc-452b-9a29-2828443a0ea0",
   "metadata": {},
   "outputs": [],
   "source": [
    "BGC_extension_cat = nri_cat['01deg_jra55v140_iaf_cycle4_jra55v150_extension']\n",
    "BGC_extension_cat"
   ]
  },
  {
   "cell_type": "markdown",
   "id": "ea0c65f1-8a19-48bb-a583-fe725add6bed",
   "metadata": {},
   "source": [
    "# Can we build monthly (or daily) datasets for TEMP and O2 ?"
   ]
  },
  {
   "cell_type": "code",
   "execution_count": null,
   "id": "615b5c4c-b0c0-4cd8-a47c-1aca201f5710",
   "metadata": {
    "tags": []
   },
   "outputs": [],
   "source": [
    "# show nri cat metadata\n",
    "nri_cat.metadata"
   ]
  },
  {
   "cell_type": "code",
   "execution_count": null,
   "id": "1c9fbcc9-244d-46c1-aeb9-ee74a016fc58",
   "metadata": {
    "tags": []
   },
   "outputs": [],
   "source": [
    "BGC_extension_cat.search(variable='o2').keys()"
   ]
  },
  {
   "cell_type": "code",
   "execution_count": null,
   "id": "b4252acf-e7c8-49c3-b645-f46354ea360b",
   "metadata": {
    "tags": []
   },
   "outputs": [],
   "source": [
    "BGC_extension_cat.search(file_id='oceanbgc_3d_o2_1_monthly_mean_4_sigfig_ym_XXXX_XX')"
   ]
  },
  {
   "cell_type": "code",
   "execution_count": null,
   "id": "e74acb22-288a-421b-83b5-d691156f0fe7",
   "metadata": {
    "tags": []
   },
   "outputs": [],
   "source": [
    "BGC_extension_cat.df.head()"
   ]
  },
  {
   "cell_type": "code",
   "execution_count": null,
   "id": "b3de6735-e028-42ba-8792-8394d4367644",
   "metadata": {
    "tags": []
   },
   "outputs": [],
   "source": [
    "monthly_o2 = BGC_extension_cat.search(file_id='oceanbgc_3d_o2_1_monthly_mean_4_sigfig_ym_XXXX_XX')"
   ]
  },
  {
   "cell_type": "code",
   "execution_count": null,
   "id": "d6669c8e-4383-4995-b336-cbd91cf625b9",
   "metadata": {
    "tags": []
   },
   "outputs": [],
   "source": [
    "monthly_o2_data = monthly_o2.to_dask(xarray_open_kwargs=dict(chunks={'time':100,'yt_ocean':540,'xt_ocean':720}))"
   ]
  },
  {
   "cell_type": "code",
   "execution_count": null,
   "id": "51f0879e-4aea-4b74-a5a8-534be78cbdb1",
   "metadata": {
    "tags": []
   },
   "outputs": [],
   "source": [
    "monthly_o2_data"
   ]
  },
  {
   "cell_type": "code",
   "execution_count": null,
   "id": "bfa792fc-db61-4490-932b-acc34ccd55c2",
   "metadata": {
    "tags": []
   },
   "outputs": [],
   "source": [
    "monthly_o2_data.o2.isel({'time':0,'st_ocean':10}).plot()"
   ]
  },
  {
   "cell_type": "code",
   "execution_count": null,
   "id": "821112bf-3e3c-47a2-a870-412ea22f4f0a",
   "metadata": {},
   "outputs": [],
   "source": []
  },
  {
   "cell_type": "code",
   "execution_count": null,
   "id": "0157596c-0a9d-40c8-942a-252c138fc347",
   "metadata": {
    "tags": []
   },
   "outputs": [],
   "source": [
    "daily_o2_extension_search = BGC_extension_cat.search(realm='ocean',frequency='1day',variable=['o2'])"
   ]
  },
  {
   "cell_type": "code",
   "execution_count": null,
   "id": "9ea5bf63-d0bd-4482-abb9-6f8736c70110",
   "metadata": {
    "tags": []
   },
   "outputs": [],
   "source": [
    "daily_o2_extension_search"
   ]
  },
  {
   "cell_type": "code",
   "execution_count": null,
   "id": "4e9c3a68-c6cc-4259-a60c-94ef22c9a854",
   "metadata": {
    "tags": []
   },
   "outputs": [],
   "source": [
    "daily_extension_search = BGC_extension_cat.search(realm='ocean',frequency='1day')"
   ]
  },
  {
   "cell_type": "code",
   "execution_count": null,
   "id": "e9b37860-7a3c-4913-954a-bca32bb57e40",
   "metadata": {
    "tags": []
   },
   "outputs": [],
   "source": [
    "daily_extension_search"
   ]
  },
  {
   "cell_type": "code",
   "execution_count": null,
   "id": "e8031e73-c593-48a6-a2b9-451a93e7a382",
   "metadata": {
    "tags": []
   },
   "outputs": [],
   "source": [
    "daily_extension_search.unique()['variable']"
   ]
  },
  {
   "cell_type": "code",
   "execution_count": null,
   "id": "d3d3e62f-bd23-4c6a-95e3-6c7bdc92e12a",
   "metadata": {},
   "outputs": [],
   "source": []
  },
  {
   "cell_type": "code",
   "execution_count": null,
   "id": "1d324510-d36b-4762-a379-96708f531588",
   "metadata": {},
   "outputs": [],
   "source": []
  },
  {
   "cell_type": "code",
   "execution_count": null,
   "id": "feaf9cfd-6f28-4636-b9b4-4adb19de0616",
   "metadata": {
    "tags": []
   },
   "outputs": [],
   "source": [
    "temp_o2_extension_data = temp_o2_extension_search.to_dask(xarray_open_kwargs=dict(chunks={'time':100,'yt_ocean':540,'xt_ocean':720}))"
   ]
  },
  {
   "cell_type": "code",
   "execution_count": null,
   "id": "e619bfd2-8613-435a-bee0-6a95dd4f460d",
   "metadata": {
    "tags": []
   },
   "outputs": [],
   "source": [
    "temp_o2_extension_data"
   ]
  },
  {
   "cell_type": "code",
   "execution_count": null,
   "id": "73852c08-b6ee-46a9-8de9-166b3f846a04",
   "metadata": {},
   "outputs": [],
   "source": []
  },
  {
   "cell_type": "code",
   "execution_count": null,
   "id": "09cc8c0f-075d-4378-818f-e49a92468486",
   "metadata": {},
   "outputs": [],
   "source": []
  },
  {
   "cell_type": "markdown",
   "id": "dcc3f207-7e14-4280-8e63-3a68a1d30938",
   "metadata": {},
   "source": [
    "### MLD test run - COSIMA"
   ]
  },
  {
   "cell_type": "code",
   "execution_count": null,
   "id": "59e4a8ee-6a1a-499a-9f0f-416ff725fa61",
   "metadata": {},
   "outputs": [],
   "source": [
    "mld_extension_search = BGC_extension_cat.search(realm='ocean',frequency='1day',variable='mld')\n",
    "mld_extension_search"
   ]
  },
  {
   "cell_type": "code",
   "execution_count": null,
   "id": "5f3c4345-d12f-405c-9b70-1cf8c570f3ad",
   "metadata": {},
   "outputs": [],
   "source": [
    "mld_extension_data = mld_extension_search.to_dask(xarray_open_kwargs=dict(chunks={'time':100,'yt_ocean':540,'xt_ocean':720}))"
   ]
  },
  {
   "cell_type": "code",
   "execution_count": null,
   "id": "923602e3-b63b-4107-92f7-1ba6a43fe4a7",
   "metadata": {},
   "outputs": [],
   "source": [
    "mld_extension_data"
   ]
  },
  {
   "cell_type": "markdown",
   "id": "55df2c60-2c02-4fa2-916b-1919a54800d5",
   "metadata": {},
   "source": [
    "# Base BGC run `01deg_jra55v140_iaf_cycle4`"
   ]
  },
  {
   "cell_type": "code",
   "execution_count": null,
   "id": "40b55865-1443-4e63-b92a-475f42cf6922",
   "metadata": {},
   "outputs": [],
   "source": [
    "BGC_cat = cat['01deg_jra55v140_iaf_cycle4']\n",
    "BGC_cat"
   ]
  },
  {
   "cell_type": "code",
   "execution_count": null,
   "id": "80effb0c-e85e-49d1-9753-4a4961dce7af",
   "metadata": {},
   "outputs": [],
   "source": [
    "mld_search = BGC_cat.search(realm='ocean',frequency='1day',variable='mld')\n",
    "mld_search"
   ]
  },
  {
   "cell_type": "code",
   "execution_count": null,
   "id": "8de7336d-0cb3-4595-bec3-d489dc057e90",
   "metadata": {
    "scrolled": true
   },
   "outputs": [],
   "source": [
    "mld_search.df"
   ]
  },
  {
   "cell_type": "code",
   "execution_count": null,
   "id": "8aa165d6-d9c8-45d6-81ce-f87b335d3c5c",
   "metadata": {},
   "outputs": [],
   "source": [
    "mld_data = mld_search.to_dask(xarray_open_kwargs=dict(chunks={'time':100,'yt_ocean':540,'xt_ocean':720}))"
   ]
  },
  {
   "cell_type": "code",
   "execution_count": null,
   "id": "a8e131d3-02eb-43d0-8337-79043d1f914a",
   "metadata": {},
   "outputs": [],
   "source": [
    "mld_data"
   ]
  },
  {
   "cell_type": "markdown",
   "id": "86f198d3-f63c-402d-83f7-9cbedda6c7af",
   "metadata": {},
   "source": [
    "# What do these individual DS's look like?"
   ]
  },
  {
   "cell_type": "code",
   "execution_count": null,
   "id": "ed9cbd32-4962-438e-986f-4e753a707bcf",
   "metadata": {},
   "outputs": [],
   "source": [
    "mld_data"
   ]
  },
  {
   "cell_type": "code",
   "execution_count": null,
   "id": "4471c5b8-8f17-44e2-b3e5-003786fab840",
   "metadata": {},
   "outputs": [],
   "source": [
    "mld_extension_data"
   ]
  },
  {
   "cell_type": "code",
   "execution_count": null,
   "id": "3b835972-1309-47fa-b859-7cdd4a531d8a",
   "metadata": {},
   "outputs": [],
   "source": []
  },
  {
   "cell_type": "code",
   "execution_count": null,
   "id": "1fb3b8ca-88ee-484c-988d-0aae9524cb64",
   "metadata": {},
   "outputs": [],
   "source": []
  },
  {
   "cell_type": "code",
   "execution_count": null,
   "id": "3e4ed211-fb39-43e6-a386-ef66d715e298",
   "metadata": {},
   "outputs": [],
   "source": []
  },
  {
   "cell_type": "code",
   "execution_count": null,
   "id": "cc14af53-57f1-4912-a37a-cee6ca473708",
   "metadata": {},
   "outputs": [],
   "source": []
  },
  {
   "cell_type": "markdown",
   "id": "1096647b-a17c-4749-9e38-b54ec688bc52",
   "metadata": {},
   "source": [
    "# Concat base and extension MLD data"
   ]
  },
  {
   "cell_type": "code",
   "execution_count": null,
   "id": "078df0d8-8e23-4684-9579-cada21fd908a",
   "metadata": {},
   "outputs": [],
   "source": [
    "%%time\n",
    "mld_DS = xr.concat([mld_data,mld_extension_data],dim='time')"
   ]
  },
  {
   "cell_type": "code",
   "execution_count": null,
   "id": "46167a26-6cf8-45ef-98f6-2cd45c9155f4",
   "metadata": {},
   "outputs": [],
   "source": [
    "mld_DS"
   ]
  },
  {
   "cell_type": "markdown",
   "id": "3a5cb666-1c4f-4291-b920-2308b46699dc",
   "metadata": {},
   "source": [
    "# can we write this to `zarr` on scratch?"
   ]
  },
  {
   "cell_type": "code",
   "execution_count": null,
   "id": "f33f68f4-672b-4deb-823e-d7e5425da647",
   "metadata": {},
   "outputs": [],
   "source": [
    "rechunked_mld_DS = mld_DS.chunk({'time':100})"
   ]
  },
  {
   "cell_type": "code",
   "execution_count": null,
   "id": "9534d2db-f78f-479b-9f4c-e108eb715a2a",
   "metadata": {},
   "outputs": [],
   "source": [
    "rechunked_mld_DS"
   ]
  },
  {
   "cell_type": "code",
   "execution_count": null,
   "id": "a81affea-4ad5-48f7-9d74-ef170d0c6791",
   "metadata": {},
   "outputs": [],
   "source": [
    "write_path = '/scratch/xv83/tm4888/zarr_collections/'"
   ]
  },
  {
   "cell_type": "code",
   "execution_count": null,
   "id": "ab4b67da-984f-4d7f-a050-ece515c1fcd2",
   "metadata": {},
   "outputs": [],
   "source": [
    "%%time\n",
    "rechunked_mld_DS.to_zarr(write_path+'daily.mld.concat.chunk.100-540-720.zarr', consolidated = True)"
   ]
  },
  {
   "cell_type": "code",
   "execution_count": null,
   "id": "2834b4d7-994b-4178-914b-9a87417c93e7",
   "metadata": {},
   "outputs": [],
   "source": [
    "test_read = xr.open_zarr(write_path+'daily.mld.concat.chunk.100-540-720.zarr', consolidated = True)"
   ]
  },
  {
   "cell_type": "code",
   "execution_count": null,
   "id": "f6db7995-c34c-42f2-baef-f0e77cf41468",
   "metadata": {},
   "outputs": [],
   "source": [
    "test_read"
   ]
  },
  {
   "cell_type": "code",
   "execution_count": null,
   "id": "b258e3c6-5708-42e2-b9ce-e25c50319764",
   "metadata": {},
   "outputs": [],
   "source": [
    "point = test_read.mld.max(dim=['xt_ocean','yt_ocean'])"
   ]
  },
  {
   "cell_type": "code",
   "execution_count": null,
   "id": "37e100e0-b472-4535-b64d-f3e084e93127",
   "metadata": {},
   "outputs": [],
   "source": [
    "point"
   ]
  },
  {
   "cell_type": "code",
   "execution_count": null,
   "id": "20b650d8-2857-486f-92f3-5af4cbb2c49a",
   "metadata": {},
   "outputs": [],
   "source": [
    "point.plot()"
   ]
  },
  {
   "cell_type": "code",
   "execution_count": null,
   "id": "272b06b6-e558-4d77-b310-1b545e5f585c",
   "metadata": {},
   "outputs": [],
   "source": [
    "client.close()"
   ]
  },
  {
   "cell_type": "code",
   "execution_count": null,
   "id": "368797e3-ae65-4276-9b5b-0eeef26b5354",
   "metadata": {},
   "outputs": [],
   "source": []
  }
 ],
 "metadata": {
  "kernelspec": {
   "display_name": "Python 3 (ipykernel)",
   "language": "python",
   "name": "python3"
  },
  "language_info": {
   "codemirror_mode": {
    "name": "ipython",
    "version": 3
   },
   "file_extension": ".py",
   "mimetype": "text/x-python",
   "name": "python",
   "nbconvert_exporter": "python",
   "pygments_lexer": "ipython3",
   "version": "3.10.14"
  }
 },
 "nbformat": 4,
 "nbformat_minor": 5
}
