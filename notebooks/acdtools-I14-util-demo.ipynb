{
 "cells": [
  {
   "cell_type": "markdown",
   "id": "2bbcce82-88b9-4dc3-81f7-305710b84adf",
   "metadata": {},
   "source": [
    "# ACDtools issue 14 - util demo"
   ]
  },
  {
   "cell_type": "markdown",
   "id": "444db49f-f4c2-4d6c-a5bf-83576d2f5c9a",
   "metadata": {},
   "source": [
    "#### Date: 5 February, 2025\n",
    "##### https://github.com/Thomas-Moore-Creative/ACDtools/issues/14"
   ]
  },
  {
   "cell_type": "markdown",
   "id": "a0158574-20a2-4c25-bf47-f384dbb80648",
   "metadata": {},
   "source": [
    "Author = {\"name\": \"Thomas Moore\", \"affiliation\": \"CSIRO\", \"email\": \"thomas.moore@csiro.au\", \"orcid\": \"0000-0003-3930-1946\"}"
   ]
  },
  {
   "cell_type": "markdown",
   "id": "c2899b25-cc56-44c1-9140-48169824c5bf",
   "metadata": {},
   "source": [
    "# Install ACDtools locally"
   ]
  },
  {
   "cell_type": "code",
   "execution_count": 1,
   "id": "57562294-57e8-4ce7-b129-8ebf86b2fac0",
   "metadata": {},
   "outputs": [
    {
     "name": "stdout",
     "output_type": "stream",
     "text": [
      "Obtaining file:///g/data/es60/users/thomas_moore/code/ACDtools\n",
      "  Installing build dependencies ... \u001b[?25ldone\n",
      "\u001b[?25h  Checking if build backend supports build_editable ... \u001b[?25ldone\n",
      "\u001b[?25h  Getting requirements to build editable ... \u001b[?25ldone\n",
      "\u001b[?25h  Preparing editable metadata (pyproject.toml) ... \u001b[?25ldone\n",
      "\u001b[?25hBuilding wheels for collected packages: ACDtools\n",
      "  Building editable for ACDtools (pyproject.toml) ... \u001b[?25ldone\n",
      "\u001b[?25h  Created wheel for ACDtools: filename=ACDtools-0.1-0.editable-py3-none-any.whl size=3512 sha256=776ace72185570254d7468b0a08cef54c631f57ee117fd9d63fbbfcabdf791eb\n",
      "  Stored in directory: /jobfs/133559658.gadi-pbs/pip-ephem-wheel-cache-pp4df0z6/wheels/b6/a3/f2/6ce45fbdc116ad50e421d6a11cb060cc796e867501807af446\n",
      "Successfully built ACDtools\n",
      "Installing collected packages: ACDtools\n",
      "  Attempting uninstall: ACDtools\n",
      "    Found existing installation: ACDtools 0.1\n",
      "    Uninstalling ACDtools-0.1:\n",
      "      Successfully uninstalled ACDtools-0.1\n",
      "Successfully installed ACDtools-0.1\n"
     ]
    }
   ],
   "source": [
    "# this needs to be set via a custom edit per user at the moment\n",
    "!pip install --user -e /g/data/es60/users/thomas_moore/code/ACDtools"
   ]
  },
  {
   "cell_type": "code",
   "execution_count": 2,
   "id": "0215fd7c-caad-49fd-8440-03f2426e6791",
   "metadata": {},
   "outputs": [],
   "source": [
    "# Enable autoreload in the notebook\n",
    "%load_ext autoreload\n",
    "%autoreload 1 \n",
    "%aimport ACDtools.util\n",
    "%aimport ACDtools.ard\n",
    "%aimport ACDtools.plot\n",
    "# Importing from your local package util.py\n",
    "from ACDtools import util\n",
    "from ACDtools import ard\n",
    "from ACDtools import plot"
   ]
  },
  {
   "cell_type": "markdown",
   "id": "d0e7fffe-1565-4a71-9622-dc4266f555df",
   "metadata": {},
   "source": [
    "# Notebook settings"
   ]
  },
  {
   "cell_type": "markdown",
   "id": "c94d2934-9f8a-4495-b32a-46c1ac293870",
   "metadata": {},
   "source": [
    "### filter warnings"
   ]
  },
  {
   "cell_type": "code",
   "execution_count": 3,
   "id": "c774b769-3308-49e6-8c1d-90b7e5645ad3",
   "metadata": {},
   "outputs": [],
   "source": [
    "import warnings\n",
    "warnings.filterwarnings(\"ignore\") # Suppress warnings"
   ]
  },
  {
   "cell_type": "markdown",
   "id": "7fcad830-ea7e-4ecd-a64b-b5f9edeb305a",
   "metadata": {},
   "source": [
    "# Dask cluster from config\n",
    "`client, cluster = util.start_dask_cluster_from_config('netcdf_work')`\n",
    "<br>OR<br>\n",
    "`client, cluster = util.start_dask_cluster_from_config('zarr_work')`"
   ]
  },
  {
   "cell_type": "code",
   "execution_count": 5,
   "id": "6935fbd8-fcb1-4784-912b-7dea47c469b0",
   "metadata": {
    "scrolled": true
   },
   "outputs": [
    {
     "name": "stdout",
     "output_type": "stream",
     "text": [
      "Cluster started with 28 workers.\n",
      "Dashboard available at: /proxy/8787/status\n"
     ]
    }
   ],
   "source": [
    "client, cluster = util.start_dask_cluster_from_config('netcdf_work')"
   ]
  },
  {
   "cell_type": "markdown",
   "id": "453d3b34-0f7f-499c-838e-f9d713ee82bc",
   "metadata": {},
   "source": [
    "# Issue: make basic notebook to show some `util` functions\n",
    "- https://github.com/Thomas-Moore-Creative/ACDtools/issues/14"
   ]
  },
  {
   "cell_type": "markdown",
   "id": "34ff8424-e03b-43a6-aa5a-0632284e71bd",
   "metadata": {},
   "source": [
    "## utilise CMIP6 data catalogs for NCI holdings"
   ]
  },
  {
   "cell_type": "markdown",
   "id": "6a82586a-8ca1-47b9-9794-ddfad8cccd43",
   "metadata": {},
   "source": [
    "##### Information on climate data catalogs across Australian HPC\n",
    "\n",
    "**ACCESS-NRI** https://access-nri-intake-catalog.readthedocs.io/en/latest/usage/how.html <br>\n",
    "**NCI** https://opus.nci.org.au/pages/viewpage.action?pageId=213713098\n"
   ]
  },
  {
   "cell_type": "markdown",
   "id": "4caad95a-0596-4d57-9e83-e8a390dd99a9",
   "metadata": {
    "jp-MarkdownHeadingCollapsed": true
   },
   "source": [
    "##### $\\bigstar$ Get inspiration from ACCESS-NRI intake catalog docs: ACCESS-ESM1-5 CMIP6 example\n",
    "https://access-nri-intake-catalog.readthedocs.io/en/latest/usage/quickstart.html"
   ]
  },
  {
   "cell_type": "markdown",
   "id": "f13e29a8-ca33-4e22-9755-252be78c1800",
   "metadata": {},
   "source": [
    "## import packages"
   ]
  },
  {
   "cell_type": "code",
   "execution_count": 8,
   "id": "0b6b05c0-eb4c-4095-b55f-e70b077a10b4",
   "metadata": {},
   "outputs": [],
   "source": [
    "import intake\n",
    "import xarray as xr\n",
    "import numpy as np\n",
    "import gc\n",
    "import json"
   ]
  },
  {
   "cell_type": "markdown",
   "id": "d7658e34-4789-4e9c-a087-64f4e10c504c",
   "metadata": {},
   "source": [
    "### import the ACCESS-NRI catalog"
   ]
  },
  {
   "cell_type": "code",
   "execution_count": 9,
   "id": "36899205-6bf0-47c1-8e4a-555bac3a2b9d",
   "metadata": {},
   "outputs": [],
   "source": [
    "catalog = intake.cat.access_nri"
   ]
  },
  {
   "cell_type": "markdown",
   "id": "2af409ca-3553-4ab3-9804-95005f72ac21",
   "metadata": {},
   "source": [
    "### (1) \"I know I want Australian CMIP6 data - so that's fs38 and I need access to that NCI project\""
   ]
  },
  {
   "cell_type": "code",
   "execution_count": 22,
   "id": "94c7b943-6547-4793-9b57-efa835e3a863",
   "metadata": {},
   "outputs": [],
   "source": [
    "cmip6_fs38_datastore = catalog.search(name='cmip6_fs38').to_source()"
   ]
  },
  {
   "cell_type": "markdown",
   "id": "aaba1469-c576-4ca0-96b0-38d1ed9ad465",
   "metadata": {},
   "source": [
    "### (2) \"what are the realms covered by cmip6_fs38?\""
   ]
  },
  {
   "cell_type": "code",
   "execution_count": 12,
   "id": "f6b104fc-662a-4f76-8578-b9c7acc26e10",
   "metadata": {},
   "outputs": [
    {
     "name": "stdout",
     "output_type": "stream",
     "text": [
      "╒════════════╤═════════════════╕\n",
      "│ Category   │ Unique values   │\n",
      "╞════════════╪═════════════════╡\n",
      "│ realm      │ aerosol         │\n",
      "│            │ atmos           │\n",
      "│            │ land            │\n",
      "│            │ landIce         │\n",
      "│            │ ocean           │\n",
      "│            │ ocnBgchem       │\n",
      "│            │ seaIce          │\n",
      "╘════════════╧═════════════════╛\n"
     ]
    }
   ],
   "source": [
    "util.report_esm_unique(cmip6_fs38_datastore,keep_list=['realm'])"
   ]
  },
  {
   "cell_type": "markdown",
   "id": "a144145f-d93c-4a82-bcb3-cdb957b3f6dd",
   "metadata": {},
   "source": [
    "### (3) I want to see what variables, over what frequencies, are available in both the 'ocean' & 'oceanBgchem' realms"
   ]
  },
  {
   "cell_type": "code",
   "execution_count": 23,
   "id": "27581c4c-5bf1-4338-ad57-f7f94ba5e0e0",
   "metadata": {},
   "outputs": [],
   "source": [
    "cmip6_fs38_ocean_datastore = cmip6_fs38_datastore.search(realm=['ocean'])"
   ]
  },
  {
   "cell_type": "code",
   "execution_count": 24,
   "id": "bae92dd2-ec5e-47d8-9062-debc67734100",
   "metadata": {
    "scrolled": true
   },
   "outputs": [
    {
     "name": "stdout",
     "output_type": "stream",
     "text": [
      "╒═════════════╤═══════════════════╕\n",
      "│ Category    │ Unique values     │\n",
      "╞═════════════╪═══════════════════╡\n",
      "│ variable_id │ agessc            │\n",
      "│             │ areacello         │\n",
      "│             │ basin             │\n",
      "│             │ bigthetao         │\n",
      "│             │ bigthetaoga       │\n",
      "│             │ deptho            │\n",
      "│             │ difvho            │\n",
      "│             │ difvso            │\n",
      "│             │ evs               │\n",
      "│             │ friver            │\n",
      "│             │ fsitherm          │\n",
      "│             │ hfbasin           │\n",
      "│             │ hfbasinpadv       │\n",
      "│             │ hfbasinpmadv      │\n",
      "│             │ hfds              │\n",
      "│             │ hfevapds          │\n",
      "│             │ hflso             │\n",
      "│             │ hfrainds          │\n",
      "│             │ hfsifrazil        │\n",
      "│             │ hfsso             │\n",
      "│             │ htovgyre          │\n",
      "│             │ htovovrt          │\n",
      "│             │ masscello         │\n",
      "│             │ masso             │\n",
      "│             │ mfo               │\n",
      "│             │ mlotst            │\n",
      "│             │ msftbarot         │\n",
      "│             │ msftmrho          │\n",
      "│             │ msftmz            │\n",
      "│             │ msftyrho          │\n",
      "│             │ msftyz            │\n",
      "│             │ obvfsq            │\n",
      "│             │ ocontempdiff      │\n",
      "│             │ ocontempmint      │\n",
      "│             │ ocontemppadvect   │\n",
      "│             │ ocontemppmdiff    │\n",
      "│             │ ocontemppsmadvect │\n",
      "│             │ ocontemprmadvect  │\n",
      "│             │ ocontemptend      │\n",
      "│             │ omldamax          │\n",
      "│             │ opottempmint      │\n",
      "│             │ osaltdiff         │\n",
      "│             │ osaltpadvect      │\n",
      "│             │ osaltpmdiff       │\n",
      "│             │ osaltpsmadvect    │\n",
      "│             │ osaltrmadvect     │\n",
      "│             │ osalttend         │\n",
      "│             │ pabigthetao       │\n",
      "│             │ pbo               │\n",
      "│             │ prbigthetao       │\n",
      "│             │ pso               │\n",
      "│             │ rlntds            │\n",
      "│             │ rsdoabsorb        │\n",
      "│             │ rsntds            │\n",
      "│             │ sfriver           │\n",
      "│             │ sftof             │\n",
      "│             │ sltovgyre         │\n",
      "│             │ sltovovrt         │\n",
      "│             │ so                │\n",
      "│             │ sob               │\n",
      "│             │ soga              │\n",
      "│             │ somint            │\n",
      "│             │ sos               │\n",
      "│             │ sosga             │\n",
      "│             │ sossq             │\n",
      "│             │ tauuo             │\n",
      "│             │ tauvo             │\n",
      "│             │ thetao            │\n",
      "│             │ thetaoga          │\n",
      "│             │ thkcello          │\n",
      "│             │ tob               │\n",
      "│             │ tos               │\n",
      "│             │ tosga             │\n",
      "│             │ tossq             │\n",
      "│             │ umo               │\n",
      "│             │ uo                │\n",
      "│             │ vmo               │\n",
      "│             │ vo                │\n",
      "│             │ volcello          │\n",
      "│             │ volo              │\n",
      "│             │ wfo               │\n",
      "│             │ wmo               │\n",
      "│             │ wo                │\n",
      "│             │ zos               │\n",
      "│             │ zossq             │\n",
      "│             │ zostoga           │\n",
      "╘═════════════╧═══════════════════╛\n"
     ]
    }
   ],
   "source": [
    "[sorted_unique_dict, table_data] = util.report_esm_unique(cmip6_fs38_ocean_datastore,keep_list=['variable_id'],return_results=True)"
   ]
  },
  {
   "cell_type": "markdown",
   "id": "f6ec2e28-132d-4233-a22d-fd6e027ab2a8",
   "metadata": {},
   "source": [
    "## what is the long name of a particular variable?"
   ]
  },
  {
   "cell_type": "code",
   "execution_count": 25,
   "id": "f9e1f15c-533a-4c33-ba0f-ada8e07b5399",
   "metadata": {
    "scrolled": true
   },
   "outputs": [
    {
     "name": "stdout",
     "output_type": "stream",
     "text": [
      "*** Variable: \u001b[1mthetao\u001b[0m from catalog: <cmip6-fs38 catalog with 70406 dataset(s) from 292195 asset(s)> ***\n",
      "╒═══════════════╤══════════════════════════════════════════════════════════════════════════════════════════════════╕\n",
      "│ Attribute     │ Value                                                                                            │\n",
      "╞═══════════════╪══════════════════════════════════════════════════════════════════════════════════════════════════╡\n",
      "│ standard_name │ sea_water_potential_temperature                                                                  │\n",
      "├───────────────┼──────────────────────────────────────────────────────────────────────────────────────────────────┤\n",
      "│ long_name     │ Sea Water Potential Temperature                                                                  │\n",
      "├───────────────┼──────────────────────────────────────────────────────────────────────────────────────────────────┤\n",
      "│ comment       │ Diagnostic should be contributed even for models using conservative temperature as prognostic    │\n",
      "│               │ field.                                                                                           │\n",
      "├───────────────┼──────────────────────────────────────────────────────────────────────────────────────────────────┤\n",
      "│ units         │ degC                                                                                             │\n",
      "├───────────────┼──────────────────────────────────────────────────────────────────────────────────────────────────┤\n",
      "│ cell_methods  │ area: mean where sea time: mean                                                                  │\n",
      "├───────────────┼──────────────────────────────────────────────────────────────────────────────────────────────────┤\n",
      "│ cell_measures │ area: areacello volume: volcello                                                                 │\n",
      "├───────────────┼──────────────────────────────────────────────────────────────────────────────────────────────────┤\n",
      "│ history       │ 2023-03-06T15:19:37Z altered by CMOR: replaced missing value flag (-1e+20) with standard missing │\n",
      "│               │ value (1e+20).                                                                                   │\n",
      "╘═══════════════╧══════════════════════════════════════════════════════════════════════════════════════════════════╛\n"
     ]
    }
   ],
   "source": [
    "util.var_name_info(cmip6_fs38_ocean_datastore,'thetao')"
   ]
  },
  {
   "cell_type": "markdown",
   "id": "8e941431-ba02-41d4-aad8-6217f0658a0f",
   "metadata": {},
   "source": [
    "## filter catalog for final ACCESS-ESM1.5 dataset"
   ]
  },
  {
   "cell_type": "code",
   "execution_count": 26,
   "id": "9cfe8097-494d-4187-8e9e-4e741499bfa6",
   "metadata": {},
   "outputs": [],
   "source": [
    "final_search = cmip6_fs38_ocean_datastore.search(file_type='l',\n",
    "                    variable_id='thetao',source_id='ACCESS-ESM1-5',experiment_id='historical')"
   ]
  },
  {
   "cell_type": "code",
   "execution_count": 27,
   "id": "aded047f-d413-4235-bc58-407d143bd4ca",
   "metadata": {},
   "outputs": [
    {
     "name": "stdout",
     "output_type": "stream",
     "text": [
      "╒════════════════╤═════════════════╕\n",
      "│ Category       │ Unique values   │\n",
      "╞════════════════╪═════════════════╡\n",
      "│ experiment_id  │ historical      │\n",
      "├────────────────┼─────────────────┤\n",
      "│ file_type      │ l               │\n",
      "├────────────────┼─────────────────┤\n",
      "│ frequency      │ mon             │\n",
      "├────────────────┼─────────────────┤\n",
      "│ grid_label     │ gn              │\n",
      "├────────────────┼─────────────────┤\n",
      "│ institution_id │ CSIRO           │\n",
      "├────────────────┼─────────────────┤\n",
      "│ project_id     │ CMIP            │\n",
      "├────────────────┼─────────────────┤\n",
      "│ realm          │ ocean           │\n",
      "├────────────────┼─────────────────┤\n",
      "│ source_id      │ ACCESS-ESM1-5   │\n",
      "├────────────────┼─────────────────┤\n",
      "│ table_id       │ Omon            │\n",
      "├────────────────┼─────────────────┤\n",
      "│ variable_id    │ thetao          │\n",
      "╘════════════════╧═════════════════╛\n"
     ]
    }
   ],
   "source": [
    "util.report_esm_unique(final_search)"
   ]
  },
  {
   "cell_type": "markdown",
   "id": "d36a2d20-9cf1-46da-a9b7-38fade30dd64",
   "metadata": {},
   "source": [
    "## what is the chunking of the files in this final_search catalog?"
   ]
  },
  {
   "cell_type": "code",
   "execution_count": 28,
   "id": "bbe2d392-1f07-41cf-a12d-3d27403e7418",
   "metadata": {},
   "outputs": [
    {
     "name": "stdout",
     "output_type": "stream",
     "text": [
      "╒══════════════════════════╤═════════════════════════════════════════════════════════════════════╕\n",
      "│ Variable                 │ thetao                                                              │\n",
      "├──────────────────────────┼─────────────────────────────────────────────────────────────────────┤\n",
      "│ Chunk sizes (first file) │ 1, 25, 150, 180 ;                                                   │\n",
      "├──────────────────────────┼─────────────────────────────────────────────────────────────────────┤\n",
      "│ File path (first file)   │ /g/data/fs38/publications/CMIP6/CMIP/CSIRO/                         │\n",
      "│                          │ ACCESS-ESM1-5/historical/r38i1p1f1/Omon/thetao/gn/                  │\n",
      "│                          │ v20210525/                                                          │\n",
      "│                          │ thetao_Omon_ACCESS-ESM1-5_historical_r38i1p1f1_gn_201001-201412.nc/ │\n",
      "├──────────────────────────┼─────────────────────────────────────────────────────────────────────┤\n",
      "│ Chunk sizes (last file)  │ 1, 25, 150, 180 ;                                                   │\n",
      "├──────────────────────────┼─────────────────────────────────────────────────────────────────────┤\n",
      "│ File path (last file)    │ /g/data/fs38/publications/CMIP6/CMIP/CSIRO/                         │\n",
      "│                          │ ACCESS-ESM1-5/historical/r3i1p1f1/Omon/thetao/gn/                   │\n",
      "│                          │ v20191203/                                                          │\n",
      "│                          │ thetao_Omon_ACCESS-ESM1-5_historical_r3i1p1f1_gn_189001-189912.nc/  │\n",
      "╘══════════════════════════╧═════════════════════════════════════════════════════════════════════╛\n"
     ]
    }
   ],
   "source": [
    "ard.find_chunking_info(final_search,'thetao',return_results=False)"
   ]
  },
  {
   "cell_type": "markdown",
   "id": "8c8d0ff8-d658-42ec-afa0-6be1b60049c2",
   "metadata": {},
   "source": [
    "# let's use the tools as they exist to try to start the workflow"
   ]
  },
  {
   "cell_type": "markdown",
   "id": "5ccb460e-7d6c-4f53-9a90-01868223d7c9",
   "metadata": {},
   "source": [
    "## I want Australian CMIP6 data"
   ]
  },
  {
   "cell_type": "code",
   "execution_count": 21,
   "id": "2339501e-5074-4594-95ba-f1b0cd3dfa65",
   "metadata": {},
   "outputs": [],
   "source": [
    "cmip6_fs38_datastore = util.load_cmip6_CLEX_datastore()"
   ]
  },
  {
   "cell_type": "code",
   "execution_count": null,
   "id": "d4328d99-8b76-4d0e-abd3-6af417009ebf",
   "metadata": {},
   "outputs": [],
   "source": [
    "report_esm_unique(cmip6_fs38_datastore.search(**load_config()['catalog_search_query_dict']['ACCESS_ESM15']['CSEPTA']['CLEX_catalog']))"
   ]
  },
  {
   "cell_type": "code",
   "execution_count": null,
   "id": "06a01952-f988-4172-a9fc-430f0f772442",
   "metadata": {},
   "outputs": [],
   "source": [
    "CSEPTA_catalog = cmip6_fs38_datastore.search(**load_config()['catalog_search_query_dict']['ACCESS_ESM15']['CSEPTA']['CLEX_catalog'])"
   ]
  },
  {
   "cell_type": "code",
   "execution_count": null,
   "id": "652514aa-dbd4-402f-a027-33f6f6ecbe7c",
   "metadata": {},
   "outputs": [],
   "source": [
    "CSEPTA_catalog"
   ]
  },
  {
   "cell_type": "code",
   "execution_count": null,
   "id": "2ca2df31-9592-4b16-bd86-dc65351f2db7",
   "metadata": {},
   "outputs": [],
   "source": [
    "show_methods(CSEPTA_intpp_catalog)"
   ]
  },
  {
   "cell_type": "code",
   "execution_count": null,
   "id": "ba979873-b189-48aa-867e-34b3eee5d1df",
   "metadata": {},
   "outputs": [],
   "source": [
    "report_esm_unique(CSEPTA_intpp_catalog)"
   ]
  },
  {
   "cell_type": "code",
   "execution_count": null,
   "id": "c5f7da0e-104f-4be6-ad7e-fe4ba1a0b457",
   "metadata": {},
   "outputs": [],
   "source": [
    "CSEPTA_intpp_catalog.unique()['path']"
   ]
  },
  {
   "cell_type": "code",
   "execution_count": null,
   "id": "4308ec0b-4706-485b-8df3-340245eb031c",
   "metadata": {},
   "outputs": [],
   "source": [
    "search_dict = dict(experiment_id = 'historical',source_id = 'ACCESS-ESM1-5',variable_id = ['intpp'],realm = ['ocnBgchem'], frequency = 'mon',file_type='f')"
   ]
  },
  {
   "cell_type": "code",
   "execution_count": null,
   "id": "d983489b-86f9-4794-99c2-3797dcb5bf2a",
   "metadata": {},
   "outputs": [],
   "source": [
    "search = cmip6_fs38_datastore.search(**search_dict)\n",
    "search"
   ]
  },
  {
   "cell_type": "code",
   "execution_count": null,
   "id": "1418e808-69db-47c8-b44c-ae4cfd946068",
   "metadata": {},
   "outputs": [],
   "source": [
    "search.unique()['path']"
   ]
  },
  {
   "cell_type": "markdown",
   "id": "b1cc465e-1c19-465c-904b-ff79fe898bb0",
   "metadata": {},
   "source": [
    "# let's repeat workflow with CLEX catalog"
   ]
  },
  {
   "cell_type": "code",
   "execution_count": null,
   "id": "07621ee1-4a90-4e76-a0ee-ba4f9c3146ac",
   "metadata": {},
   "outputs": [],
   "source": [
    "cmip6_fs38_datastore = load_cmip6_CLEX_datastore()"
   ]
  },
  {
   "cell_type": "code",
   "execution_count": null,
   "id": "a14dfaa8-cf48-4208-ab43-672cccea5ba8",
   "metadata": {},
   "outputs": [],
   "source": [
    "load_config()['catalog_search_query_dict']['ACCESS_ESM15']['CSEPTA']['CLEX_catalog']"
   ]
  },
  {
   "cell_type": "code",
   "execution_count": null,
   "id": "1ffcffa7-b292-44e0-9b8d-ffaf8141419e",
   "metadata": {},
   "outputs": [],
   "source": [
    "report_esm_unique(cmip6_fs38_datastore.search(**load_config()['catalog_search_query_dict']['ACCESS_ESM15']['CSEPTA']['CLEX_catalog']))"
   ]
  },
  {
   "cell_type": "code",
   "execution_count": null,
   "id": "3c54f2df-5742-44bb-b8d9-8abb293d74d8",
   "metadata": {},
   "outputs": [],
   "source": [
    "find_chunking_info(cmip6_fs38_datastore.search(**load_config()['catalog_search_query_dict']['ACCESS_ESM15']['CSEPTA']['CLEX_catalog']),'thetao',return_results=True)"
   ]
  },
  {
   "cell_type": "code",
   "execution_count": null,
   "id": "10c4abf3-9db7-4e94-a718-34930c49aec6",
   "metadata": {},
   "outputs": [],
   "source": [
    "search = cmip6_fs38_datastore.search(**load_config()['catalog_search_query_dict']['ACCESS_ESM15']['CSEPTA']['CLEX_catalog'])"
   ]
  },
  {
   "cell_type": "code",
   "execution_count": null,
   "id": "1c27cbca-ad25-4be3-aafb-9c03127fc2be",
   "metadata": {},
   "outputs": [],
   "source": [
    "%%time\n",
    "ds_ESM15_esorted = load_ACCESS_ESM_ensemble(search,use_cftime=True,chunking_key='ACCESS_ESM15_3D')"
   ]
  },
  {
   "cell_type": "code",
   "execution_count": null,
   "id": "e812b0f9-29dc-48c5-aba5-46e336acee39",
   "metadata": {},
   "outputs": [],
   "source": [
    "ds_ESM15_esorted"
   ]
  },
  {
   "cell_type": "code",
   "execution_count": null,
   "id": "5d432e5f-9562-4401-b617-0f414b336774",
   "metadata": {},
   "outputs": [],
   "source": [
    "data = ds_ESM15_esorted.isel({'lev':0,'member':0})\n",
    "data"
   ]
  },
  {
   "cell_type": "code",
   "execution_count": null,
   "id": "2541f995-a47b-4aff-9441-45cef192065e",
   "metadata": {},
   "outputs": [],
   "source": [
    "data.mean(dim=['i','j']).thetao.plot()"
   ]
  },
  {
   "cell_type": "markdown",
   "id": "a02f3a86-6b12-4e86-b910-f8bd4d7fa618",
   "metadata": {},
   "source": [
    "### piControl"
   ]
  },
  {
   "cell_type": "code",
   "execution_count": null,
   "id": "656e928d-0f06-4877-b330-6f2234b816bc",
   "metadata": {},
   "outputs": [],
   "source": [
    "search = cmip6_fs38_datastore.search(**load_config()['catalog_search_query_dict']['ACCESS_ESM15']['CSEPTA']['CLEX_catalog'])"
   ]
  },
  {
   "cell_type": "code",
   "execution_count": null,
   "id": "0edde3e8-8f0f-4e25-a4f9-404c46ce5559",
   "metadata": {},
   "outputs": [],
   "source": [
    "%%time\n",
    "ds_ESM15 = load_ACCESS_ESM(search,use_cftime=True,chunking_key='ACCESS_ESM15_3D')"
   ]
  },
  {
   "cell_type": "code",
   "execution_count": null,
   "id": "d39cb3ef-f24e-4acb-a355-804f9ef6d177",
   "metadata": {},
   "outputs": [],
   "source": [
    "ds_ESM15"
   ]
  },
  {
   "cell_type": "code",
   "execution_count": null,
   "id": "07aca4b9-3873-40ce-b695-a6b2ab69f547",
   "metadata": {},
   "outputs": [],
   "source": []
  }
 ],
 "metadata": {
  "kernelspec": {
   "display_name": "Python [conda env:analysis3]",
   "language": "python",
   "name": "conda-env-analysis3-py"
  },
  "language_info": {
   "codemirror_mode": {
    "name": "ipython",
    "version": 3
   },
   "file_extension": ".py",
   "mimetype": "text/x-python",
   "name": "python",
   "nbconvert_exporter": "python",
   "pygments_lexer": "ipython3",
   "version": "3.10.14"
  }
 },
 "nbformat": 4,
 "nbformat_minor": 5
}
